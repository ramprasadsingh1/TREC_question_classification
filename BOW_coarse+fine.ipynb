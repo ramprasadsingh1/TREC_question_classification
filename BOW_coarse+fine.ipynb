{
  "nbformat": 4,
  "nbformat_minor": 0,
  "metadata": {
    "colab": {
      "provenance": [],
      "authorship_tag": "ABX9TyPvsa3VASYBh+gSNX0w7djI",
      "include_colab_link": true
    },
    "kernelspec": {
      "name": "python3",
      "display_name": "Python 3"
    },
    "language_info": {
      "name": "python"
    }
  },
  "cells": [
    {
      "cell_type": "markdown",
      "metadata": {
        "id": "view-in-github",
        "colab_type": "text"
      },
      "source": [
        "<a href=\"https://colab.research.google.com/github/ramprasadsingh1/TextMiningCW/blob/main/BOW_coarse%2Bfine.ipynb\" target=\"_parent\"><img src=\"https://colab.research.google.com/assets/colab-badge.svg\" alt=\"Open In Colab\"/></a>"
      ]
    },
    {
      "cell_type": "code",
      "execution_count": null,
      "metadata": {
        "id": "lIuVF5a-ck_l",
        "colab": {
          "base_uri": "https://localhost:8080/"
        },
        "outputId": "2e8f6f42-b299-410f-bc0a-3c62032bfa98"
      },
      "outputs": [
        {
          "output_type": "stream",
          "name": "stdout",
          "text": [
            "Drive already mounted at /content/drive; to attempt to forcibly remount, call drive.mount(\"/content/drive\", force_remount=True).\n"
          ]
        }
      ],
      "source": [
        "# Mount Google Drive\n",
        "from google.colab import drive\n",
        "drive.mount('/content/drive')"
      ]
    },
    {
      "cell_type": "code",
      "source": [
        "# Reproducing same results\n",
        "SEED = 2023\n",
        "\n",
        "import random\n",
        "import numpy as np\n",
        "\n",
        "# Torch\n",
        "import torch\n",
        "device = torch.device(\"cuda\" if torch.cuda.is_available() else\"cpu\" )\n",
        "\n",
        "\n",
        "def seed_everything(seed = 2023):\n",
        "    random.seed(seed)\n",
        "    np.random.seed(seed)\n",
        "    torch.manual_seed(seed)\n",
        "    torch.cuda.manual_seed(seed)\n",
        "    torch.backends.cudnn.deterministic = True\n",
        "seed_everything()"
      ],
      "metadata": {
        "id": "_ZEYGblDxcNa"
      },
      "execution_count": null,
      "outputs": []
    },
    {
      "cell_type": "code",
      "source": [
        "# Read train dataset\n",
        "class ReadDataset(torch.utils.data.Dataset):\n",
        "    def __init__(self, filename, target ,transform = None):\n",
        "        with open(filename, 'r', encoding='iso-8859-1') as f:\n",
        "            self.sentences = f.readlines()\n",
        "            self.labels = []\n",
        "            for sentence in self.sentences:\n",
        "                label, text = sentence.strip().split(\" \", 1)\n",
        "                coarse = label.split(':')[0]\n",
        "                if target == 'coarse':\n",
        "                  self.labels.append(coarse)\n",
        "                elif target == 'fine':\n",
        "                  self.labels.append(label)\n",
        "        self.transform = transform\n",
        "    \n",
        "    def __getitem__(self, index):\n",
        "        # Get the sentence and label at the given index\n",
        "        sentence = self.sentences[index].strip().split(' ', 1)[1]\n",
        "        sentence = sentence.strip().lower().split()\n",
        "              \n",
        "        return sentence, self.labels[index]\n",
        "        \n",
        "    def __len__(self):\n",
        "        return len(self.sentences)"
      ],
      "metadata": {
        "id": "_0xXE7QIxclo"
      },
      "execution_count": null,
      "outputs": []
    },
    {
      "cell_type": "code",
      "source": [
        "# Read Coarse dataset\n",
        "coarse_train_dataset = ReadDataset(\"/content/drive/MyDrive/Text Mining/train_5500.label\", target = \"coarse\")\n",
        "\n",
        "# Print the first 3 samples\n",
        "for i in range(3):\n",
        "  sample = coarse_train_dataset[i]\n",
        "  print((i, sample))"
      ],
      "metadata": {
        "colab": {
          "base_uri": "https://localhost:8080/"
        },
        "id": "Bxmvm59Bxj1p",
        "outputId": "969b2ca4-6a0d-48dc-a6a9-187141626d7a"
      },
      "execution_count": null,
      "outputs": [
        {
          "output_type": "stream",
          "name": "stdout",
          "text": [
            "(0, (['how', 'did', 'serfdom', 'develop', 'in', 'and', 'then', 'leave', 'russia', '?'], 'DESC'))\n",
            "(1, (['what', 'films', 'featured', 'the', 'character', 'popeye', 'doyle', '?'], 'ENTY'))\n",
            "(2, (['how', 'can', 'i', 'find', 'a', 'list', 'of', 'celebrities', \"'\", 'real', 'names', '?'], 'DESC'))\n"
          ]
        }
      ]
    },
    {
      "cell_type": "code",
      "source": [
        "# Read fine dataset\n",
        "fine_train_dataset = ReadDataset(\"/content/drive/MyDrive/Text Mining/train_5500.label\", target = \"fine\")\n",
        "\n",
        "# Print the first 3 samples\n",
        "for i in range(3):\n",
        "  sample = fine_train_dataset[i]\n",
        "  print((i, sample))"
      ],
      "metadata": {
        "colab": {
          "base_uri": "https://localhost:8080/"
        },
        "id": "p-u5raw8xkmk",
        "outputId": "87dec4ac-d60e-4b4a-a4c6-5f5452fa9053"
      },
      "execution_count": null,
      "outputs": [
        {
          "output_type": "stream",
          "name": "stdout",
          "text": [
            "(0, (['how', 'did', 'serfdom', 'develop', 'in', 'and', 'then', 'leave', 'russia', '?'], 'DESC:manner'))\n",
            "(1, (['what', 'films', 'featured', 'the', 'character', 'popeye', 'doyle', '?'], 'ENTY:cremat'))\n",
            "(2, (['how', 'can', 'i', 'find', 'a', 'list', 'of', 'celebrities', \"'\", 'real', 'names', '?'], 'DESC:manner'))\n"
          ]
        }
      ]
    },
    {
      "cell_type": "code",
      "source": [
        "# Create vocab\n",
        "from torchtext.vocab import build_vocab_from_iterator\n",
        "\n",
        "# Define a function that yields the tokenized sentences/labels in the dataset\n",
        "def sentence_iterator(dataset):\n",
        "    for sentence, _ in dataset:\n",
        "        yield sentence\n",
        "\n",
        "# Build a vocabulary from the tokenized sentences\n",
        "train_vocab = build_vocab_from_iterator(sentence_iterator(coarse_train_dataset), specials=['<unk>'])\n",
        "train_vocab.set_default_index(train_vocab[\"<unk>\"])\n",
        "\n",
        "# Print the size of the vocabulary\n",
        "print(f\"Vocabulary size: {len(train_vocab)}\")"
      ],
      "metadata": {
        "colab": {
          "base_uri": "https://localhost:8080/"
        },
        "id": "9qir3jrNxp5i",
        "outputId": "ed5141f1-a0d7-48ee-db51-02db607a95a0"
      },
      "execution_count": null,
      "outputs": [
        {
          "output_type": "stream",
          "name": "stdout",
          "text": [
            "Vocabulary size: 8679\n"
          ]
        }
      ]
    },
    {
      "cell_type": "code",
      "source": [
        "# Example of indices\n",
        "[train_vocab[token] for token in ['here', 'is', 'an', 'example']]"
      ],
      "metadata": {
        "colab": {
          "base_uri": "https://localhost:8080/"
        },
        "id": "Etl-cz0txqMC",
        "outputId": "d1af79fa-4854-4560-9660-b1b8561f137a"
      },
      "execution_count": null,
      "outputs": [
        {
          "output_type": "execute_result",
          "data": {
            "text/plain": [
              "[1071, 4, 39, 1049]"
            ]
          },
          "metadata": {},
          "execution_count": 7
        }
      ]
    },
    {
      "cell_type": "code",
      "source": [
        "# Load test Coarse dataet\n",
        "coarse_test_dataset = ReadDataset(\"/content/drive/MyDrive/Text Mining/TREC_10.label\", target = \"coarse\")\n",
        "\n",
        "# Print the first 3 samples\n",
        "for i in range(3):\n",
        "  sample = coarse_test_dataset[i]\n",
        "  print((i, sample))"
      ],
      "metadata": {
        "colab": {
          "base_uri": "https://localhost:8080/"
        },
        "id": "8NPS3MLDxsHv",
        "outputId": "c682239d-f3a3-45f9-f2eb-961e01622e5a"
      },
      "execution_count": null,
      "outputs": [
        {
          "output_type": "stream",
          "name": "stdout",
          "text": [
            "(0, (['how', 'far', 'is', 'it', 'from', 'denver', 'to', 'aspen', '?'], 'NUM'))\n",
            "(1, (['what', 'county', 'is', 'modesto', ',', 'california', 'in', '?'], 'LOC'))\n",
            "(2, (['who', 'was', 'galileo', '?'], 'HUM'))\n"
          ]
        }
      ]
    },
    {
      "cell_type": "code",
      "source": [
        "# Load test Fine dataet\n",
        "fine_test_dataset = ReadDataset(\"/content/drive/MyDrive/Text Mining/TREC_10.label\", target = \"fine\")\n",
        "\n",
        "# Print the first 3 samples\n",
        "for i in range(3):\n",
        "  sample = fine_test_dataset[i]\n",
        "  print((i, sample))"
      ],
      "metadata": {
        "colab": {
          "base_uri": "https://localhost:8080/"
        },
        "id": "DhGaulHFxuzC",
        "outputId": "23e1721a-8c85-4984-ca5d-8d7cedcf03ab"
      },
      "execution_count": null,
      "outputs": [
        {
          "output_type": "stream",
          "name": "stdout",
          "text": [
            "(0, (['how', 'far', 'is', 'it', 'from', 'denver', 'to', 'aspen', '?'], 'NUM:dist'))\n",
            "(1, (['what', 'county', 'is', 'modesto', ',', 'california', 'in', '?'], 'LOC:city'))\n",
            "(2, (['who', 'was', 'galileo', '?'], 'HUM:desc'))\n"
          ]
        }
      ]
    },
    {
      "cell_type": "code",
      "source": [
        "print(len(coarse_test_dataset))\n",
        "print(len(fine_test_dataset))"
      ],
      "metadata": {
        "colab": {
          "base_uri": "https://localhost:8080/"
        },
        "id": "WLzWb9coxyhF",
        "outputId": "ab3d00ae-d4b7-4433-f62e-c875a75cc3c4"
      },
      "execution_count": null,
      "outputs": [
        {
          "output_type": "stream",
          "name": "stdout",
          "text": [
            "500\n",
            "500\n"
          ]
        }
      ]
    },
    {
      "cell_type": "code",
      "source": [
        "# Define Collation Function for Coarse labels\n",
        "coarse_pipeline = lambda x:train_vocab(x)\n",
        "\n",
        "def coarse_label_pipeline(label):\n",
        "  if label == \"ABBR\":\n",
        "    return 0\n",
        "  elif label == \"DESC\":\n",
        "    return 1\n",
        "  elif label == \"ENTY\":\n",
        "    return 2\n",
        "  elif label == \"HUM\":\n",
        "    return 3\n",
        "  elif label == \"LOC\":\n",
        "    return 4\n",
        "  elif label == \"NUM\":\n",
        "    return 5"
      ],
      "metadata": {
        "id": "4QY64Aw4x3IQ"
      },
      "execution_count": null,
      "outputs": []
    },
    {
      "cell_type": "code",
      "source": [
        "# Define Collation Function for Fine labels\n",
        "fine_pipeline = lambda x:train_vocab(x)\n",
        "\n",
        "def fine_label_pipeline(label):\n",
        "  if label == \"ABBR:abb\":\n",
        "    return 0\n",
        "  elif label == \"ABBR:exp\":\n",
        "    return 1\n",
        "  elif label == \"ENTY:animal\":\n",
        "    return 2\n",
        "  elif label == \"ENTY:body\":\n",
        "    return 3\n",
        "  elif label == \"ENTY:color\":\n",
        "    return 4\n",
        "  elif label == \"ENTY:cremat\":\n",
        "    return 5\n",
        "  elif label == \"ENTY:currency\":\n",
        "    return 6\n",
        "  elif label == \"ENTY:dismed\":\n",
        "    return 7\n",
        "  elif label == \"ENTY:event\":\n",
        "    return 8\n",
        "  elif label == \"ENTY:food\":\n",
        "    return 9\n",
        "  elif label == \"ENTY:instru\":\n",
        "    return 10\n",
        "  elif label == \"ENTY:lang\":\n",
        "    return 11\n",
        "  elif label == \"ENTY:letter\":\n",
        "    return 12\n",
        "  elif label == \"ENTY:other\":\n",
        "    return 13\n",
        "  elif label == \"ENTY:plant\":\n",
        "    return 14\n",
        "  elif label == \"ENTY:product\":\n",
        "    return 15\n",
        "  elif label == \"ENTY:religion\":\n",
        "    return 16\n",
        "  elif label == \"ENTY:sport\":\n",
        "    return 17\n",
        "  elif label == \"ENTY:substance\":\n",
        "    return 18\n",
        "  elif label == \"ENTY:symbol\":\n",
        "    return 19\n",
        "  elif label == \"ENTY:techmeth\":\n",
        "    return 20\n",
        "  elif label == \"ENTY:termeq\":\n",
        "    return 21\n",
        "  elif label == \"ENTY:veh\":\n",
        "    return 22\n",
        "  elif label == \"ENTY:word\":\n",
        "    return 23\n",
        "  elif label == \"DESC:def\":\n",
        "    return 24\n",
        "  elif label == \"DESC:desc\":\n",
        "    return 25\n",
        "  elif label == \"DESC:manner\":\n",
        "    return 26\n",
        "  elif label == \"DESC:reason\":\n",
        "    return 27\n",
        "  elif label == \"HUM:gr\":\n",
        "    return 28\n",
        "  elif label == \"HUM:ind\":\n",
        "    return 29\n",
        "  elif label == \"HUM:title\":\n",
        "    return 30\n",
        "  elif label == \"HUM:desc\":\n",
        "    return 31\n",
        "  elif label == \"LOC:city\":\n",
        "    return 32\n",
        "  elif label == \"LOC:country\":\n",
        "    return 33\n",
        "  elif label == \"LOC:mount\":\n",
        "    return 34\n",
        "  elif label == \"LOC:other\":\n",
        "    return 35\n",
        "  elif label == \"LOC:state\":\n",
        "    return 36\n",
        "  elif label == \"NUM:code\":\n",
        "    return 37\n",
        "  elif label == \"NUM:count\":\n",
        "    return 38\n",
        "  elif label == \"NUM:date\":\n",
        "    return 39\n",
        "  elif label == \"NUM:dist\":\n",
        "    return 40\n",
        "  elif label == \"NUM:money\":\n",
        "    return 41\n",
        "  elif label == \"NUM:ord\":\n",
        "    return 42\n",
        "  elif label == \"NUM:other\":\n",
        "    return 43\n",
        "  elif label == \"NUM:period\":\n",
        "    return 44\n",
        "  elif label == \"NUM:perc\":\n",
        "    return 45\n",
        "  elif label == \"NUM:speed\":\n",
        "    return 46\n",
        "  elif label == \"NUM:temp\":\n",
        "    return 47\n",
        "  elif label == \"NUM:volsize\":\n",
        "    return 48\n",
        "  elif label == \"NUM:weight\":\n",
        "    return 49 "
      ],
      "metadata": {
        "id": "b06lKNJayEMQ"
      },
      "execution_count": null,
      "outputs": []
    },
    {
      "cell_type": "code",
      "source": [
        "# Example of usage of coarse pipelines\n",
        "print(coarse_pipeline(coarse_train_dataset[0][0]))\n",
        "print(coarse_label_pipeline(coarse_train_dataset[0][1]))"
      ],
      "metadata": {
        "colab": {
          "base_uri": "https://localhost:8080/"
        },
        "id": "P6N8tmTg1PF-",
        "outputId": "4e3195c4-aa64-4835-ec4f-07f571848321"
      },
      "execution_count": null,
      "outputs": [
        {
          "output_type": "stream",
          "name": "stdout",
          "text": [
            "[8, 20, 7659, 2533, 6, 16, 506, 863, 1157, 1]\n",
            "1\n"
          ]
        }
      ]
    },
    {
      "cell_type": "code",
      "source": [
        "# Example of usage of fine pipelines\n",
        "print(fine_pipeline(fine_train_dataset[0][0]))\n",
        "print(fine_label_pipeline(fine_train_dataset[0][1]))"
      ],
      "metadata": {
        "colab": {
          "base_uri": "https://localhost:8080/"
        },
        "id": "qpGQ-EBH1Sun",
        "outputId": "103bc48a-a2a7-4fb2-882b-b57fe2a6a035"
      },
      "execution_count": null,
      "outputs": [
        {
          "output_type": "stream",
          "name": "stdout",
          "text": [
            "[8, 20, 7659, 2533, 6, 16, 506, 863, 1157, 1]\n",
            "26\n"
          ]
        }
      ]
    },
    {
      "cell_type": "code",
      "source": [
        "# Coarse dataloader\n",
        "from torch.utils.data import DataLoader\n",
        "def collate_batch_coarse(batch):\n",
        "  label_list, text_list, offsets = [], [], [0]\n",
        "  for (_text, _label) in batch:\n",
        "      label_list.append(coarse_label_pipeline(_label))\n",
        "      processed_text = torch.tensor(coarse_pipeline(_text), dtype=torch.int64)\n",
        "      text_list.append(processed_text)\n",
        "      offsets.append(processed_text.size(0))\n",
        "  label_list = torch.tensor(label_list, dtype=torch.int64)\n",
        "  offsets = torch.tensor(offsets[:-1]).cumsum(dim=0)\n",
        "  text_list = torch.cat(text_list)\n",
        "  return text_list, offsets, label_list"
      ],
      "metadata": {
        "id": "dzcxDfam1YDh"
      },
      "execution_count": null,
      "outputs": []
    },
    {
      "cell_type": "code",
      "source": [
        "# Fine dataloader\n",
        "from torch.utils.data import DataLoader\n",
        "def collate_batch_fine(batch):\n",
        "  label_list, text_list, offsets = [], [], [0]\n",
        "  for (_text, _label) in batch:\n",
        "      label_list.append(fine_label_pipeline(_label))\n",
        "      processed_text = torch.tensor(fine_pipeline(_text), dtype=torch.int64)\n",
        "      text_list.append(processed_text)\n",
        "      offsets.append(processed_text.size(0))\n",
        "  label_list = torch.tensor(label_list, dtype=torch.int64)\n",
        "  offsets = torch.tensor(offsets[:-1]).cumsum(dim=0)\n",
        "  text_list = torch.cat(text_list)\n",
        "  return text_list, offsets, label_list"
      ],
      "metadata": {
        "id": "P3WREmD61YJX"
      },
      "execution_count": null,
      "outputs": []
    },
    {
      "cell_type": "code",
      "source": [
        "# Load Glove\n",
        "## Create a dic of glove {word:vector}\n",
        "\n",
        "import numpy as np\n",
        "\n",
        "glove_file = '/content/drive/MyDrive/Text Mining/glove.small.txt'\n",
        "glove_dict = {}\n",
        "\n",
        "with open(glove_file, encoding=\"utf8\") as f:\n",
        "    for line in f:\n",
        "        values = line.split()\n",
        "        word = values[0]\n",
        "        coefs = np.asarray(values[1:], dtype='float32')\n",
        "        glove_dict[word] = coefs\n",
        "\n",
        "print(len(glove_dict))\n",
        "\n",
        "glove_embed_size = np.stack(glove_dict.values()).shape[1]\n",
        "print(glove_embed_size)"
      ],
      "metadata": {
        "colab": {
          "base_uri": "https://localhost:8080/"
        },
        "id": "bCeI5HYr16EF",
        "outputId": "d065b7c5-ec89-4861-8ec3-aa18c775a3e7"
      },
      "execution_count": null,
      "outputs": [
        {
          "output_type": "stream",
          "name": "stdout",
          "text": [
            "9549\n",
            "300\n"
          ]
        },
        {
          "output_type": "stream",
          "name": "stderr",
          "text": [
            "/usr/local/lib/python3.8/dist-packages/IPython/core/interactiveshell.py:3249: FutureWarning: arrays to stack must be passed as a \"sequence\" type such as list or tuple. Support for non-sequence iterables such as generators is deprecated as of NumPy 1.16 and will raise an error in the future.\n",
            "  if (await self.run_code(code, result,  async_=asy)):\n"
          ]
        }
      ]
    },
    {
      "cell_type": "code",
      "source": [
        "# Create a weight matrix using glove_dict & vocab of train dataset\n",
        "\n",
        "matrix_len = len(train_vocab)\n",
        "glove_weights_matrix = np.zeros((matrix_len, glove_embed_size))\n",
        "words_found = 0\n",
        "\n",
        "for i, word in enumerate(train_vocab.get_itos()):\n",
        "  try: \n",
        "    glove_weights_matrix[i] = glove_dict[word]\n",
        "    words_found += 1\n",
        "  except KeyError:\n",
        "    glove_weights_matrix[i] = np.random.normal(scale=0.6, size=(glove_embed_size, ))\n",
        "print(words_found)\n",
        "print(glove_weights_matrix.shape)"
      ],
      "metadata": {
        "colab": {
          "base_uri": "https://localhost:8080/"
        },
        "id": "cB0aiv-j2LIQ",
        "outputId": "0847221a-0ea5-4c5e-b012-d7b3243246d1"
      },
      "execution_count": null,
      "outputs": [
        {
          "output_type": "stream",
          "name": "stdout",
          "text": [
            "5764\n",
            "(8679, 300)\n"
          ]
        }
      ]
    },
    {
      "cell_type": "code",
      "source": [
        "# Define Model class\n",
        "\n",
        "import torch.nn as nn\n",
        "import torch.nn.functional as F\n",
        "class QuestionClassifier(nn.Module):\n",
        "    def __init__(self, vocab_size, embed_dim, num_class, use_glove, fine_tune_embed):\n",
        "        super().__init__()\n",
        "        self.use_glove = use_glove\n",
        "        self.fine_tune_embed = fine_tune_embed\n",
        "\n",
        "        self.embedding = nn.EmbeddingBag(vocab_size, embed_dim, sparse=True) # Bag-of-Words\n",
        "        self.fc = nn.Linear(embed_dim, num_class)\n",
        "        self.init_weights()\n",
        "\n",
        "    def init_weights(self):\n",
        "        initrange = 0.5\n",
        "        # random initialised embedding\n",
        "        if self.use_glove == False:\n",
        "          self.embedding.weight.data.uniform_(-initrange, initrange) \n",
        "        # Glove embedding\n",
        "        else:\n",
        "          self.embedding.weight = nn.Parameter(torch.tensor(glove_weights_matrix, dtype=torch.float32))\n",
        "        \n",
        "        # If freeze the embedding weight\n",
        "        if self.fine_tune_embed == False: \n",
        "          self.embedding.requires_grad_(False)\n",
        "        self.fc.weight.data.uniform_(-initrange, initrange)\n",
        "        self.fc.bias.data.zero_()\n",
        "\n",
        "\n",
        "    def forward(self, text, offsets):\n",
        "        embedded = self.embedding(text, offsets)\n",
        "        x = self.fc(embedded)\n",
        "        return x"
      ],
      "metadata": {
        "id": "y7f8QykC2OAt"
      },
      "execution_count": null,
      "outputs": []
    },
    {
      "cell_type": "code",
      "source": [
        "# Train, Val, Test class\n",
        "\n",
        "from torch.utils.data import DataLoader\n",
        "import time\n",
        "from torch.utils.data.dataset import random_split\n",
        "\n",
        "import matplotlib.pyplot as plt\n",
        "\n",
        "class TrainValTestModel():\n",
        "  def __init__(self, model, collate_fn, n_epochs, batch_size, min_valid_loss) -> None:\n",
        "     self.model = model\n",
        "     self.collate_fn = collate_fn\n",
        "     self.n_epochs = n_epochs\n",
        "     self.batch_size = batch_size\n",
        "     self.min_valid_loss = min_valid_loss\n",
        "\n",
        "     # CrossEntropyLoss already contains Softmax function inside\n",
        "     self.criterion = torch.nn.CrossEntropyLoss().to(device)\n",
        "     self.optimizer = torch.optim.SGD(self.model.parameters(), lr=4.0)\n",
        "     self.scheduler = torch.optim.lr_scheduler.StepLR(self.optimizer, 1, gamma=0.9)\n",
        "\n",
        "  def split_into_train_valid(self, train_dataset, train_ratio = 0.90):\n",
        "    train_len = int(len(train_dataset) * train_ratio)\n",
        "    sub_train_, sub_valid_ = random_split(train_dataset, [train_len, len(train_dataset) - train_len])\n",
        "    return sub_train_, sub_valid_\n",
        "\n",
        "  def train(self, sub_train):\n",
        "    # Set the model to train mode\n",
        "    self.model.train()\n",
        "    # Train model\n",
        "    train_loss = 0\n",
        "    train_acc = 0\n",
        "    data = DataLoader(sub_train, batch_size=self.batch_size, shuffle=True,\n",
        "                      collate_fn=self.collate_fn)\n",
        "    for i, (text, offsets, cls) in enumerate(data):\n",
        "        self.optimizer.zero_grad()\n",
        "        text, offsets, cls = text.to(device), offsets.to(device), cls.to(device)\n",
        "        # print(f'text: {text}')\n",
        "        # print(f'offsets: {offsets}')\n",
        "        # print(f'cls: {cls}')\n",
        "        output = self.model(text, offsets)\n",
        "        # print(f'output: {output}')\n",
        "        loss = self.criterion(output, cls)\n",
        "        # print(f'loss: {loss}')\n",
        "        train_loss += loss.item()\n",
        "        loss.backward()\n",
        "        self.optimizer.step()\n",
        "        train_acc += (output.argmax(1) == cls).sum().item()\n",
        "    # Update learning rate\n",
        "    self.scheduler.step()\n",
        "\n",
        "    return train_loss / len(sub_train), train_acc / len(sub_train)\n",
        "\n",
        "  def validate(self, sub_valid):\n",
        "    self.model.eval()\n",
        "    loss = 0\n",
        "    acc = 0\n",
        "    data = DataLoader(sub_valid, batch_size=self.batch_size, collate_fn=self.collate_fn)\n",
        "    for text, offsets, cls in data:\n",
        "        text, offsets, cls = text.to(device), offsets.to(device), cls.to(device)\n",
        "        with torch.no_grad():\n",
        "            output = self.model(text, offsets)\n",
        "            loss = self.criterion(output, cls)\n",
        "            loss += loss.item()\n",
        "            acc += (output.argmax(1) == cls).sum().item()\n",
        "\n",
        "    return loss / len(sub_valid), acc / len(sub_valid)\n",
        "\n",
        "  def train_and_evaluate(self, train_dataset, train_ratio = 0.90):\n",
        "    sub_train, sub_valid =  self.split_into_train_valid(train_dataset, train_ratio = train_ratio)\n",
        "    print('[Train & Validation]')\n",
        "\n",
        "    train_loss_list = []\n",
        "    valid_loss_list = []\n",
        "    for epoch in range(self.n_epochs):\n",
        "      start_time = time.time()\n",
        "      train_loss, train_acc = self.train(sub_train)\n",
        "      valid_loss, valid_acc = self.validate(sub_valid)\n",
        "\n",
        "      train_loss_list.append(train_loss)\n",
        "      valid_loss_list.append(valid_loss)\n",
        "      self.train_loss_list = train_loss_list\n",
        "      self.valid_loss_list = valid_loss_list\n",
        "\n",
        "      secs = int(time.time() - start_time)\n",
        "      mins = secs / 60\n",
        "      secs = secs % 60\n",
        "      \n",
        "      print('Epoch: %d' %(epoch + 1), \" | time in %d minutes, %d seconds\" %(mins, secs))\n",
        "      print(f'\\tLoss: {train_loss:.4f}(train)\\t|\\tAcc: {train_acc * 100:.1f}%(train)')\n",
        "      print(f'\\tLoss: {valid_loss:.4f}(valid)\\t|\\tAcc: {valid_acc * 100:.1f}%(valid)')\n",
        "  \n",
        "  def loss_plot(self):\n",
        "    fig = plt.figure(figsize=(6, 6))\n",
        "    plt.title(\"Train/Validation Loss\")\n",
        "    plt.plot(list(np.arange(self.n_epochs)+1), self.train_loss_list, label='train')\n",
        "    plt.plot(list(np.arange(self.n_epochs)+1), self.valid_loss_list, label='valid')\n",
        "    plt.xlabel('num_epochs', fontsize=12)\n",
        "    plt.ylabel('loss', fontsize=12)\n",
        "    plt.legend(loc='best')\n",
        "\n",
        "  def test(self, test_dataset):\n",
        "    test_loss, test_acc = self.validate(test_dataset)\n",
        "    print('[Test]')\n",
        "    print(f'\\tLoss: {test_loss:.4f}(test)\\t|\\tAcc: {test_acc * 100:.1f}%(test)')"
      ],
      "metadata": {
        "id": "7qQivpZM2ZNw"
      },
      "execution_count": null,
      "outputs": []
    },
    {
      "cell_type": "code",
      "source": [
        "# Coarse Model\n",
        "\n",
        "VOCAB_SIZE = len(train_vocab)\n",
        "EMBED_DIM = glove_embed_size # 300\n",
        "NUM_CLASS = len(set(coarse_train_dataset.labels))\n",
        "print(f'num class: {NUM_CLASS}')"
      ],
      "metadata": {
        "colab": {
          "base_uri": "https://localhost:8080/"
        },
        "id": "Omar_3bn2iSy",
        "outputId": "a031a554-835a-4256-bcf3-dbbae201ee26"
      },
      "execution_count": null,
      "outputs": [
        {
          "output_type": "stream",
          "name": "stdout",
          "text": [
            "num class: 6\n"
          ]
        }
      ]
    },
    {
      "cell_type": "code",
      "source": [
        "# Fine Model\n",
        "\n",
        "VOCAB_SIZE = len(train_vocab)\n",
        "EMBED_DIM = glove_embed_size # 300\n",
        "NUM_CLASS = len(set(fine_train_dataset.labels))\n",
        "print(f'num class: {NUM_CLASS}')"
      ],
      "metadata": {
        "colab": {
          "base_uri": "https://localhost:8080/"
        },
        "id": "qulaXw152iV6",
        "outputId": "08345ea4-26e6-4dfb-e704-252e23fa0490"
      },
      "execution_count": null,
      "outputs": [
        {
          "output_type": "stream",
          "name": "stdout",
          "text": [
            "num class: 50\n"
          ]
        }
      ]
    },
    {
      "cell_type": "markdown",
      "source": [
        "## Coarse Classification"
      ],
      "metadata": {
        "id": "Kbg8bTtm2uho"
      }
    },
    {
      "cell_type": "markdown",
      "source": [
        "Random+FineTune+BOW"
      ],
      "metadata": {
        "id": "dtSfUsen3oMY"
      }
    },
    {
      "cell_type": "code",
      "source": [
        "model1 = QuestionClassifier(VOCAB_SIZE, EMBED_DIM, NUM_CLASS, use_glove=False, fine_tune_embed=True).to(device)\n",
        "\n",
        "# Print weights and biases in each layer\n",
        "for name, param in model1.named_parameters():\n",
        "  print('name : ', name)\n",
        "  # print('param : ', param)\n",
        "\n",
        "model1_evaluator = TrainValTestModel(model = model1, collate_fn = collate_batch_coarse, n_epochs=10, batch_size=16, min_valid_loss=float('inf'))\n",
        "model1_evaluator.train_and_evaluate(train_dataset=coarse_train_dataset)\n",
        "model1_evaluator.test(test_dataset=coarse_test_dataset)\n",
        "model1_evaluator.loss_plot()"
      ],
      "metadata": {
        "colab": {
          "base_uri": "https://localhost:8080/",
          "height": 1000
        },
        "id": "oHtebxJ32tjy",
        "outputId": "934f53d4-48f7-4f0a-90a7-17d8b0efeec4"
      },
      "execution_count": null,
      "outputs": [
        {
          "output_type": "stream",
          "name": "stdout",
          "text": [
            "name :  embedding.weight\n",
            "name :  fc.weight\n",
            "name :  fc.bias\n",
            "[Train & Validation]\n",
            "Epoch: 1  | time in 0 minutes, 0 seconds\n",
            "\tLoss: 0.0656(train)\t|\tAcc: 62.7%(train)\n",
            "\tLoss: 0.0019(valid)\t|\tAcc: 56.4%(valid)\n",
            "Epoch: 2  | time in 0 minutes, 0 seconds\n",
            "\tLoss: 0.0329(train)\t|\tAcc: 80.7%(train)\n",
            "\tLoss: 0.0022(valid)\t|\tAcc: 77.8%(valid)\n",
            "Epoch: 3  | time in 0 minutes, 0 seconds\n",
            "\tLoss: 0.0189(train)\t|\tAcc: 90.0%(train)\n",
            "\tLoss: 0.0003(valid)\t|\tAcc: 80.2%(valid)\n",
            "Epoch: 4  | time in 0 minutes, 0 seconds\n",
            "\tLoss: 0.0102(train)\t|\tAcc: 95.2%(train)\n",
            "\tLoss: 0.0001(valid)\t|\tAcc: 82.6%(valid)\n",
            "Epoch: 5  | time in 0 minutes, 0 seconds\n",
            "\tLoss: 0.0057(train)\t|\tAcc: 97.9%(train)\n",
            "\tLoss: 0.0003(valid)\t|\tAcc: 80.6%(valid)\n",
            "Epoch: 6  | time in 0 minutes, 0 seconds\n",
            "\tLoss: 0.0033(train)\t|\tAcc: 99.2%(train)\n",
            "\tLoss: 0.0001(valid)\t|\tAcc: 83.5%(valid)\n",
            "Epoch: 7  | time in 0 minutes, 0 seconds\n",
            "\tLoss: 0.0022(train)\t|\tAcc: 99.7%(train)\n",
            "\tLoss: 0.0001(valid)\t|\tAcc: 83.2%(valid)\n",
            "Epoch: 8  | time in 0 minutes, 0 seconds\n",
            "\tLoss: 0.0017(train)\t|\tAcc: 99.7%(train)\n",
            "\tLoss: 0.0012(valid)\t|\tAcc: 84.1%(valid)\n",
            "Epoch: 9  | time in 0 minutes, 0 seconds\n",
            "\tLoss: 0.0013(train)\t|\tAcc: 99.9%(train)\n",
            "\tLoss: 0.0003(valid)\t|\tAcc: 83.7%(valid)\n",
            "Epoch: 10  | time in 0 minutes, 0 seconds\n",
            "\tLoss: 0.0011(train)\t|\tAcc: 99.9%(train)\n",
            "\tLoss: 0.0003(valid)\t|\tAcc: 83.9%(valid)\n",
            "[Test]\n",
            "\tLoss: 0.0006(test)\t|\tAcc: 86.2%(test)\n"
          ]
        },
        {
          "output_type": "display_data",
          "data": {
            "text/plain": [
              "<Figure size 432x432 with 1 Axes>"
            ],
            "image/png": "[encoded data removed]"
          },
          "metadata": {
            "needs_background": "light"
          }
        }
      ]
    },
    {
      "cell_type": "markdown",
      "source": [
        "### Glove+Freeze+BOW"
      ],
      "metadata": {
        "id": "nyaA0HtR3s4F"
      }
    },
    {
      "cell_type": "code",
      "source": [
        "model2 = QuestionClassifier(VOCAB_SIZE, EMBED_DIM, NUM_CLASS, use_glove=True, fine_tune_embed=False).to(device)\n",
        "\n",
        "# Print weights and biases in each layer\n",
        "for name, param in model1.named_parameters():\n",
        "  print('name : ', name)\n",
        "  # print('param : ', param)\n",
        "\n",
        "model2_evaluator = TrainValTestModel(model = model2, collate_fn = collate_batch_coarse, n_epochs=10, batch_size=16, min_valid_loss=float('inf'))\n",
        "model2_evaluator.train_and_evaluate(train_dataset=coarse_train_dataset)\n",
        "model2_evaluator.test(test_dataset=coarse_test_dataset)\n",
        "model2_evaluator.loss_plot()"
      ],
      "metadata": {
        "colab": {
          "base_uri": "https://localhost:8080/",
          "height": 1000
        },
        "id": "rSfsPx6W3a3E",
        "outputId": "067c2408-9f67-4c4d-9d72-5cf1c17ef643"
      },
      "execution_count": null,
      "outputs": [
        {
          "output_type": "stream",
          "name": "stdout",
          "text": [
            "name :  embedding.weight\n",
            "name :  fc.weight\n",
            "name :  fc.bias\n",
            "[Train & Validation]\n",
            "Epoch: 1  | time in 0 minutes, 0 seconds\n",
            "\tLoss: 0.2711(train)\t|\tAcc: 47.0%(train)\n",
            "\tLoss: 0.0038(valid)\t|\tAcc: 59.2%(valid)\n",
            "Epoch: 2  | time in 0 minutes, 0 seconds\n",
            "\tLoss: 0.1502(train)\t|\tAcc: 59.4%(train)\n",
            "\tLoss: 0.0125(valid)\t|\tAcc: 52.9%(valid)\n",
            "Epoch: 3  | time in 0 minutes, 0 seconds\n",
            "\tLoss: 0.1144(train)\t|\tAcc: 62.9%(train)\n",
            "\tLoss: 0.0131(valid)\t|\tAcc: 61.4%(valid)\n",
            "Epoch: 4  | time in 0 minutes, 0 seconds\n",
            "\tLoss: 0.0976(train)\t|\tAcc: 65.9%(train)\n",
            "\tLoss: 0.0013(valid)\t|\tAcc: 64.3%(valid)\n",
            "Epoch: 5  | time in 0 minutes, 0 seconds\n",
            "\tLoss: 0.0798(train)\t|\tAcc: 68.8%(train)\n",
            "\tLoss: 0.0067(valid)\t|\tAcc: 60.3%(valid)\n",
            "Epoch: 6  | time in 0 minutes, 0 seconds\n",
            "\tLoss: 0.0736(train)\t|\tAcc: 69.2%(train)\n",
            "\tLoss: 0.0003(valid)\t|\tAcc: 63.2%(valid)\n",
            "Epoch: 7  | time in 0 minutes, 0 seconds\n",
            "\tLoss: 0.0689(train)\t|\tAcc: 70.7%(train)\n",
            "\tLoss: 0.0078(valid)\t|\tAcc: 60.3%(valid)\n",
            "Epoch: 8  | time in 0 minutes, 0 seconds\n",
            "\tLoss: 0.0608(train)\t|\tAcc: 71.3%(train)\n",
            "\tLoss: 0.0128(valid)\t|\tAcc: 59.7%(valid)\n",
            "Epoch: 9  | time in 0 minutes, 0 seconds\n",
            "\tLoss: 0.0570(train)\t|\tAcc: 72.3%(train)\n",
            "\tLoss: 0.0052(valid)\t|\tAcc: 61.0%(valid)\n",
            "Epoch: 10  | time in 0 minutes, 0 seconds\n",
            "\tLoss: 0.0524(train)\t|\tAcc: 73.1%(train)\n",
            "\tLoss: 0.0011(valid)\t|\tAcc: 67.4%(valid)\n",
            "[Test]\n",
            "\tLoss: 0.0128(test)\t|\tAcc: 68.6%(test)\n"
          ]
        },
        {
          "output_type": "display_data",
          "data": {
            "text/plain": [
              "<Figure size 432x432 with 1 Axes>"
            ],
            "image/png": "[encoded data removed]"
          },
          "metadata": {
            "needs_background": "light"
          }
        }
      ]
    },
    {
      "cell_type": "markdown",
      "source": [
        "### Glove+FineTune+BOW"
      ],
      "metadata": {
        "id": "2ikmcHJR4Q31"
      }
    },
    {
      "cell_type": "code",
      "source": [
        "model3 = QuestionClassifier(VOCAB_SIZE, EMBED_DIM, NUM_CLASS, use_glove=True, fine_tune_embed=True).to(device)\n",
        "\n",
        "# Print weights and biases in each layer\n",
        "for name, param in model1.named_parameters():\n",
        "  print('name : ', name)\n",
        "  # print('param : ', param)\n",
        "\n",
        "model3_evaluator = TrainValTestModel(model = model3, collate_fn = collate_batch_coarse, n_epochs=10, batch_size=16, min_valid_loss=float('inf'))\n",
        "model3_evaluator.train_and_evaluate(train_dataset=coarse_train_dataset)\n",
        "model3_evaluator.test(test_dataset=coarse_test_dataset)\n",
        "model3_evaluator.loss_plot()"
      ],
      "metadata": {
        "colab": {
          "base_uri": "https://localhost:8080/",
          "height": 1000
        },
        "id": "diW4MGBN4QbX",
        "outputId": "af781922-e277-4281-d790-4a8429fdab05"
      },
      "execution_count": null,
      "outputs": [
        {
          "output_type": "stream",
          "name": "stdout",
          "text": [
            "name :  embedding.weight\n",
            "name :  fc.weight\n",
            "name :  fc.bias\n",
            "[Train & Validation]\n",
            "Epoch: 1  | time in 0 minutes, 0 seconds\n",
            "\tLoss: 0.0709(train)\t|\tAcc: 66.3%(train)\n",
            "\tLoss: 0.0001(valid)\t|\tAcc: 80.2%(valid)\n",
            "Epoch: 2  | time in 0 minutes, 0 seconds\n",
            "\tLoss: 0.0282(train)\t|\tAcc: 83.7%(train)\n",
            "\tLoss: 0.0000(valid)\t|\tAcc: 81.5%(valid)\n",
            "Epoch: 3  | time in 0 minutes, 0 seconds\n",
            "\tLoss: 0.0165(train)\t|\tAcc: 90.7%(train)\n",
            "\tLoss: 0.0002(valid)\t|\tAcc: 76.0%(valid)\n",
            "Epoch: 4  | time in 0 minutes, 0 seconds\n",
            "\tLoss: 0.0091(train)\t|\tAcc: 95.2%(train)\n",
            "\tLoss: 0.0000(valid)\t|\tAcc: 87.5%(valid)\n",
            "Epoch: 5  | time in 0 minutes, 0 seconds\n",
            "\tLoss: 0.0050(train)\t|\tAcc: 97.9%(train)\n",
            "\tLoss: 0.0000(valid)\t|\tAcc: 87.0%(valid)\n",
            "Epoch: 6  | time in 0 minutes, 0 seconds\n",
            "\tLoss: 0.0030(train)\t|\tAcc: 99.3%(train)\n",
            "\tLoss: 0.0000(valid)\t|\tAcc: 87.7%(valid)\n",
            "Epoch: 7  | time in 0 minutes, 0 seconds\n",
            "\tLoss: 0.0019(train)\t|\tAcc: 99.7%(train)\n",
            "\tLoss: 0.0000(valid)\t|\tAcc: 87.2%(valid)\n",
            "Epoch: 8  | time in 0 minutes, 0 seconds\n",
            "\tLoss: 0.0014(train)\t|\tAcc: 99.9%(train)\n",
            "\tLoss: 0.0000(valid)\t|\tAcc: 87.9%(valid)\n",
            "Epoch: 9  | time in 0 minutes, 0 seconds\n",
            "\tLoss: 0.0011(train)\t|\tAcc: 99.9%(train)\n",
            "\tLoss: 0.0000(valid)\t|\tAcc: 87.2%(valid)\n",
            "Epoch: 10  | time in 0 minutes, 0 seconds\n",
            "\tLoss: 0.0010(train)\t|\tAcc: 99.9%(train)\n",
            "\tLoss: 0.0000(valid)\t|\tAcc: 87.5%(valid)\n",
            "[Test]\n",
            "\tLoss: 0.0018(test)\t|\tAcc: 86.4%(test)\n"
          ]
        },
        {
          "output_type": "display_data",
          "data": {
            "text/plain": [
              "<Figure size 432x432 with 1 Axes>"
            ],
            "image/png": "[encoded data removed]"
          },
          "metadata": {
            "needs_background": "light"
          }
        }
      ]
    },
    {
      "cell_type": "markdown",
      "source": [
        "## Fine Classification"
      ],
      "metadata": {
        "id": "yqTAjpys4iL0"
      }
    },
    {
      "cell_type": "markdown",
      "source": [
        "### Random+FineTune+BOW"
      ],
      "metadata": {
        "id": "h2PZAWnm5Hde"
      }
    },
    {
      "cell_type": "code",
      "source": [
        "model4 = QuestionClassifier(VOCAB_SIZE, EMBED_DIM, NUM_CLASS, use_glove=False, fine_tune_embed=True).to(device)\n",
        "\n",
        "# Print weights and biases in each layer\n",
        "for name, param in model4.named_parameters():\n",
        "  print('name : ', name)\n",
        "  # print('param : ', param)"
      ],
      "metadata": {
        "colab": {
          "base_uri": "https://localhost:8080/"
        },
        "id": "fsqewPNG4jiT",
        "outputId": "47704883-3a2e-49ea-9c09-d48a8d0b8efa"
      },
      "execution_count": null,
      "outputs": [
        {
          "output_type": "stream",
          "name": "stdout",
          "text": [
            "name :  embedding.weight\n",
            "name :  fc.weight\n",
            "name :  fc.bias\n"
          ]
        }
      ]
    },
    {
      "cell_type": "code",
      "source": [
        "model4_evaluator = TrainValTestModel(model = model1, collate_fn = collate_batch_fine, n_epochs=10, batch_size=16, min_valid_loss=float('inf'))\n",
        "model4_evaluator.train_and_evaluate(train_dataset=fine_train_dataset)\n",
        "model4_evaluator.test(test_dataset=fine_test_dataset)"
      ],
      "metadata": {
        "colab": {
          "base_uri": "https://localhost:8080/"
        },
        "id": "t3nTg2Nf5PRw",
        "outputId": "c7adbba6-1f4c-4abb-8f83-6022e8c4f6d9"
      },
      "execution_count": null,
      "outputs": [
        {
          "output_type": "stream",
          "name": "stdout",
          "text": [
            "[Train & Validation]\n",
            "Epoch: 1  | time in 0 minutes, 0 seconds\n",
            "\tLoss: 0.1092(train)\t|\tAcc: 61.7%(train)\n",
            "\tLoss: 0.0018(valid)\t|\tAcc: 74.0%(valid)\n",
            "Epoch: 2  | time in 0 minutes, 0 seconds\n",
            "\tLoss: 0.0403(train)\t|\tAcc: 83.2%(train)\n",
            "\tLoss: 0.0004(valid)\t|\tAcc: 74.0%(valid)\n",
            "Epoch: 3  | time in 0 minutes, 0 seconds\n",
            "\tLoss: 0.0217(train)\t|\tAcc: 91.9%(train)\n",
            "\tLoss: 0.0006(valid)\t|\tAcc: 80.2%(valid)\n",
            "Epoch: 4  | time in 0 minutes, 0 seconds\n",
            "\tLoss: 0.0122(train)\t|\tAcc: 96.7%(train)\n",
            "\tLoss: 0.0006(valid)\t|\tAcc: 80.8%(valid)\n",
            "Epoch: 5  | time in 0 minutes, 0 seconds\n",
            "\tLoss: 0.0074(train)\t|\tAcc: 98.7%(train)\n",
            "\tLoss: 0.0005(valid)\t|\tAcc: 81.7%(valid)\n",
            "Epoch: 6  | time in 0 minutes, 0 seconds\n",
            "\tLoss: 0.0049(train)\t|\tAcc: 99.7%(train)\n",
            "\tLoss: 0.0003(valid)\t|\tAcc: 82.1%(valid)\n",
            "Epoch: 7  | time in 0 minutes, 0 seconds\n",
            "\tLoss: 0.0036(train)\t|\tAcc: 99.9%(train)\n",
            "\tLoss: 0.0002(valid)\t|\tAcc: 82.6%(valid)\n",
            "Epoch: 8  | time in 0 minutes, 0 seconds\n",
            "\tLoss: 0.0029(train)\t|\tAcc: 99.9%(train)\n",
            "\tLoss: 0.0002(valid)\t|\tAcc: 82.2%(valid)\n",
            "Epoch: 9  | time in 0 minutes, 0 seconds\n",
            "\tLoss: 0.0024(train)\t|\tAcc: 99.8%(train)\n",
            "\tLoss: 0.0002(valid)\t|\tAcc: 82.4%(valid)\n",
            "Epoch: 10  | time in 0 minutes, 0 seconds\n",
            "\tLoss: 0.0021(train)\t|\tAcc: 99.9%(train)\n",
            "\tLoss: 0.0002(valid)\t|\tAcc: 82.6%(valid)\n",
            "[Test]\n",
            "\tLoss: 0.0068(test)\t|\tAcc: 77.8%(test)\n"
          ]
        }
      ]
    },
    {
      "cell_type": "code",
      "source": [
        "model4_evaluator.loss_plot()"
      ],
      "metadata": {
        "colab": {
          "base_uri": "https://localhost:8080/",
          "height": 407
        },
        "id": "DUcyPZ0M54o8",
        "outputId": "6a7d7f88-99fe-43e4-8a83-babbffe18f5a"
      },
      "execution_count": null,
      "outputs": [
        {
          "output_type": "display_data",
          "data": {
            "text/plain": [
              "<Figure size 432x432 with 1 Axes>"
            ],
            "image/png": "[encoded data removed]"
          },
          "metadata": {
            "needs_background": "light"
          }
        }
      ]
    },
    {
      "cell_type": "markdown",
      "source": [
        "### Glove+Freeze+BOW"
      ],
      "metadata": {
        "id": "_8rVdxfz5_yo"
      }
    },
    {
      "cell_type": "code",
      "source": [
        "model6 = QuestionClassifier(VOCAB_SIZE, EMBED_DIM, NUM_CLASS, use_glove=True, fine_tune_embed=False).to(device)\n",
        "\n",
        "# Print weights and biases in each layer\n",
        "for name, param in model1.named_parameters():\n",
        "  print('name : ', name)\n",
        "  # print('param : ', param)\n",
        "\n",
        "model6_evaluator = TrainValTestModel(model = model2, collate_fn = collate_batch_fine, n_epochs=10, batch_size=16, min_valid_loss=float('inf'))\n",
        "model6_evaluator.train_and_evaluate(train_dataset=fine_train_dataset)\n",
        "model6_evaluator.test(test_dataset=fine_test_dataset)\n",
        "model6_evaluator.loss_plot()"
      ],
      "metadata": {
        "colab": {
          "base_uri": "https://localhost:8080/",
          "height": 1000
        },
        "id": "wVsteh9055m2",
        "outputId": "9f8479b8-eddc-4b30-fa68-60c0060d95b7"
      },
      "execution_count": null,
      "outputs": [
        {
          "output_type": "stream",
          "name": "stdout",
          "text": [
            "name :  embedding.weight\n",
            "name :  fc.weight\n",
            "name :  fc.bias\n",
            "[Train & Validation]\n",
            "Epoch: 1  | time in 0 minutes, 0 seconds\n",
            "\tLoss: 0.2670(train)\t|\tAcc: 32.6%(train)\n",
            "\tLoss: 0.0145(valid)\t|\tAcc: 19.8%(valid)\n",
            "Epoch: 2  | time in 0 minutes, 0 seconds\n",
            "\tLoss: 0.1197(train)\t|\tAcc: 54.3%(train)\n",
            "\tLoss: 0.0061(valid)\t|\tAcc: 39.7%(valid)\n",
            "Epoch: 3  | time in 0 minutes, 0 seconds\n",
            "\tLoss: 0.0854(train)\t|\tAcc: 63.6%(train)\n",
            "\tLoss: 0.0004(valid)\t|\tAcc: 49.5%(valid)\n",
            "Epoch: 4  | time in 0 minutes, 0 seconds\n",
            "\tLoss: 0.0712(train)\t|\tAcc: 68.3%(train)\n",
            "\tLoss: 0.0016(valid)\t|\tAcc: 54.6%(valid)\n",
            "Epoch: 5  | time in 0 minutes, 0 seconds\n",
            "\tLoss: 0.0608(train)\t|\tAcc: 72.3%(train)\n",
            "\tLoss: 0.0011(valid)\t|\tAcc: 56.2%(valid)\n",
            "Epoch: 6  | time in 0 minutes, 0 seconds\n",
            "\tLoss: 0.0529(train)\t|\tAcc: 74.7%(train)\n",
            "\tLoss: 0.0025(valid)\t|\tAcc: 58.2%(valid)\n",
            "Epoch: 7  | time in 0 minutes, 0 seconds\n",
            "\tLoss: 0.0484(train)\t|\tAcc: 77.3%(train)\n",
            "\tLoss: 0.0023(valid)\t|\tAcc: 52.7%(valid)\n",
            "Epoch: 8  | time in 0 minutes, 0 seconds\n",
            "\tLoss: 0.0445(train)\t|\tAcc: 78.9%(train)\n",
            "\tLoss: 0.0014(valid)\t|\tAcc: 59.7%(valid)\n",
            "Epoch: 9  | time in 0 minutes, 0 seconds\n",
            "\tLoss: 0.0419(train)\t|\tAcc: 80.4%(train)\n",
            "\tLoss: 0.0006(valid)\t|\tAcc: 58.6%(valid)\n",
            "Epoch: 10  | time in 0 minutes, 0 seconds\n",
            "\tLoss: 0.0393(train)\t|\tAcc: 81.8%(train)\n",
            "\tLoss: 0.0005(valid)\t|\tAcc: 60.1%(valid)\n",
            "[Test]\n",
            "\tLoss: 0.0103(test)\t|\tAcc: 66.6%(test)\n"
          ]
        },
        {
          "output_type": "display_data",
          "data": {
            "text/plain": [
              "<Figure size 432x432 with 1 Axes>"
            ],
            "image/png": "[encoded data removed]"
          },
          "metadata": {
            "needs_background": "light"
          }
        }
      ]
    },
    {
      "cell_type": "markdown",
      "source": [
        "### Glove+FineTune+BOW"
      ],
      "metadata": {
        "id": "rYI76RLZ6M4P"
      }
    },
    {
      "cell_type": "code",
      "source": [
        "model6 = QuestionClassifier(VOCAB_SIZE, EMBED_DIM, NUM_CLASS, use_glove=True, fine_tune_embed=True).to(device)\n",
        "\n",
        "# Print weights and biases in each layer\n",
        "for name, param in model1.named_parameters():\n",
        "  print('name : ', name)\n",
        "  # print('param : ', param)\n",
        "\n",
        "model6_evaluator = TrainValTestModel(model = model3, collate_fn = collate_batch_fine, n_epochs=10, batch_size=16, min_valid_loss=float('inf'))\n",
        "model6_evaluator.train_and_evaluate(train_dataset=fine_train_dataset)\n",
        "model6_evaluator.test(test_dataset=fine_test_dataset)\n",
        "model6_evaluator.loss_plot()"
      ],
      "metadata": {
        "colab": {
          "base_uri": "https://localhost:8080/",
          "height": 1000
        },
        "id": "vueOcFPD6Q0T",
        "outputId": "e4450fc7-140b-49c9-b75b-f221f5dc204b"
      },
      "execution_count": null,
      "outputs": [
        {
          "output_type": "stream",
          "name": "stdout",
          "text": [
            "name :  embedding.weight\n",
            "name :  fc.weight\n",
            "name :  fc.bias\n",
            "[Train & Validation]\n",
            "Epoch: 1  | time in 0 minutes, 0 seconds\n",
            "\tLoss: 0.0945(train)\t|\tAcc: 65.2%(train)\n",
            "\tLoss: 0.0029(valid)\t|\tAcc: 75.5%(valid)\n",
            "Epoch: 2  | time in 0 minutes, 0 seconds\n",
            "\tLoss: 0.0275(train)\t|\tAcc: 88.4%(train)\n",
            "\tLoss: 0.0033(valid)\t|\tAcc: 73.4%(valid)\n",
            "Epoch: 3  | time in 0 minutes, 0 seconds\n",
            "\tLoss: 0.0134(train)\t|\tAcc: 95.6%(train)\n",
            "\tLoss: 0.0001(valid)\t|\tAcc: 79.3%(valid)\n",
            "Epoch: 4  | time in 0 minutes, 0 seconds\n",
            "\tLoss: 0.0074(train)\t|\tAcc: 98.5%(train)\n",
            "\tLoss: 0.0001(valid)\t|\tAcc: 80.4%(valid)\n",
            "Epoch: 5  | time in 0 minutes, 0 seconds\n",
            "\tLoss: 0.0044(train)\t|\tAcc: 99.5%(train)\n",
            "\tLoss: 0.0003(valid)\t|\tAcc: 82.1%(valid)\n",
            "Epoch: 6  | time in 0 minutes, 0 seconds\n",
            "\tLoss: 0.0032(train)\t|\tAcc: 99.9%(train)\n",
            "\tLoss: 0.0002(valid)\t|\tAcc: 81.0%(valid)\n",
            "Epoch: 7  | time in 0 minutes, 0 seconds\n",
            "\tLoss: 0.0025(train)\t|\tAcc: 99.9%(train)\n",
            "\tLoss: 0.0004(valid)\t|\tAcc: 81.7%(valid)\n",
            "Epoch: 8  | time in 0 minutes, 0 seconds\n",
            "\tLoss: 0.0021(train)\t|\tAcc: 99.9%(train)\n",
            "\tLoss: 0.0003(valid)\t|\tAcc: 81.3%(valid)\n",
            "Epoch: 9  | time in 0 minutes, 0 seconds\n",
            "\tLoss: 0.0018(train)\t|\tAcc: 99.9%(train)\n",
            "\tLoss: 0.0002(valid)\t|\tAcc: 81.1%(valid)\n",
            "Epoch: 10  | time in 0 minutes, 0 seconds\n",
            "\tLoss: 0.0016(train)\t|\tAcc: 100.0%(train)\n",
            "\tLoss: 0.0002(valid)\t|\tAcc: 81.5%(valid)\n",
            "[Test]\n",
            "\tLoss: 0.0068(test)\t|\tAcc: 77.2%(test)\n"
          ]
        },
        {
          "output_type": "display_data",
          "data": {
            "text/plain": [
              "<Figure size 432x432 with 1 Axes>"
            ],
            "image/png": "[encoded data removed]"
          },
          "metadata": {
            "needs_background": "light"
          }
        }
      ]
    }
  ]
}