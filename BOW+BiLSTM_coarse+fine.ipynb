{
  "nbformat": 4,
  "nbformat_minor": 0,
  "metadata": {
    "colab": {
      "provenance": [],
      "authorship_tag": "ABX9TyMlh6VIreI6WGkm/a7r6OPl",
      "include_colab_link": true
    },
    "kernelspec": {
      "name": "python3",
      "display_name": "Python 3"
    },
    "language_info": {
      "name": "python"
    }
  },
  "cells": [
    {
      "cell_type": "markdown",
      "metadata": {
        "id": "view-in-github",
        "colab_type": "text"
      },
      "source": [
        "<a href=\"https://colab.research.google.com/github/ramprasadsingh1/TextMiningCW/blob/main/BOW%2BBiLSTM_coarse%2Bfine.ipynb\" target=\"_parent\"><img src=\"https://colab.research.google.com/assets/colab-badge.svg\" alt=\"Open In Colab\"/></a>"
      ]
    },
    {
      "cell_type": "code",
      "execution_count": 1,
      "metadata": {
        "id": "lIuVF5a-ck_l",
        "colab": {
          "base_uri": "https://localhost:8080/"
        },
        "outputId": "57731900-ed2d-4963-c2bb-cb45b49f3566"
      },
      "outputs": [
        {
          "output_type": "stream",
          "name": "stdout",
          "text": [
            "Drive already mounted at /content/drive; to attempt to forcibly remount, call drive.mount(\"/content/drive\", force_remount=True).\n"
          ]
        }
      ],
      "source": [
        "# Mount Google Drive\n",
        "from google.colab import drive\n",
        "drive.mount('/content/drive')"
      ]
    },
    {
      "cell_type": "code",
      "source": [
        "# Reproducing same results\n",
        "SEED = 2023\n",
        "\n",
        "import random\n",
        "import numpy as np\n",
        "\n",
        "# Torch\n",
        "import torch\n",
        "device = torch.device(\"cuda\" if torch.cuda.is_available() else\"cpu\" )\n",
        "\n",
        "\n",
        "def seed_everything(seed = 2023):\n",
        "    random.seed(seed)\n",
        "    np.random.seed(seed)\n",
        "    torch.manual_seed(seed)\n",
        "    torch.cuda.manual_seed(seed)\n",
        "    torch.backends.cudnn.deterministic = True\n",
        "seed_everything()"
      ],
      "metadata": {
        "id": "_ZEYGblDxcNa"
      },
      "execution_count": 2,
      "outputs": []
    },
    {
      "cell_type": "code",
      "source": [
        "# Read train dataset\n",
        "class ReadDataset(torch.utils.data.Dataset):\n",
        "    def __init__(self, filename, target ,transform = None):\n",
        "        with open(filename, 'r', encoding='iso-8859-1') as f:\n",
        "            self.sentences = f.readlines()\n",
        "            self.labels = []\n",
        "            for sentence in self.sentences:\n",
        "                label, text = sentence.strip().split(\" \", 1)\n",
        "                coarse = label.split(':')[0]\n",
        "                if target == 'coarse':\n",
        "                  self.labels.append(coarse)\n",
        "                elif target == 'fine':\n",
        "                  self.labels.append(label)\n",
        "        self.transform = transform\n",
        "    \n",
        "    def __getitem__(self, index):\n",
        "        # Get the sentence and label at the given index\n",
        "        sentence = self.sentences[index].strip().split(' ', 1)[1]\n",
        "        sentence = sentence.strip().lower().split()\n",
        "              \n",
        "        return sentence, self.labels[index]\n",
        "        \n",
        "    def __len__(self):\n",
        "        return len(self.sentences)"
      ],
      "metadata": {
        "id": "_0xXE7QIxclo"
      },
      "execution_count": 3,
      "outputs": []
    },
    {
      "cell_type": "code",
      "source": [
        "# Read Coarse dataset\n",
        "coarse_train_dataset = ReadDataset(\"/content/drive/MyDrive/Text Mining/train_5500.label\", target = \"coarse\")\n",
        "\n",
        "# Print the first 3 samples\n",
        "for i in range(3):\n",
        "  sample = coarse_train_dataset[i]\n",
        "  print((i, sample))"
      ],
      "metadata": {
        "colab": {
          "base_uri": "https://localhost:8080/"
        },
        "id": "Bxmvm59Bxj1p",
        "outputId": "e9527e07-5d97-4295-8556-062924195648"
      },
      "execution_count": 4,
      "outputs": [
        {
          "output_type": "stream",
          "name": "stdout",
          "text": [
            "(0, (['how', 'did', 'serfdom', 'develop', 'in', 'and', 'then', 'leave', 'russia', '?'], 'DESC'))\n",
            "(1, (['what', 'films', 'featured', 'the', 'character', 'popeye', 'doyle', '?'], 'ENTY'))\n",
            "(2, (['how', 'can', 'i', 'find', 'a', 'list', 'of', 'celebrities', \"'\", 'real', 'names', '?'], 'DESC'))\n"
          ]
        }
      ]
    },
    {
      "cell_type": "code",
      "source": [
        "# Read fine dataset\n",
        "fine_train_dataset = ReadDataset(\"/content/drive/MyDrive/Text Mining/train_5500.label\", target = \"fine\")\n",
        "\n",
        "# Print the first 3 samples\n",
        "for i in range(3):\n",
        "  sample = fine_train_dataset[i]\n",
        "  print((i, sample))"
      ],
      "metadata": {
        "colab": {
          "base_uri": "https://localhost:8080/"
        },
        "id": "p-u5raw8xkmk",
        "outputId": "22044af4-1544-4e37-ce95-d674fc91ab2f"
      },
      "execution_count": 5,
      "outputs": [
        {
          "output_type": "stream",
          "name": "stdout",
          "text": [
            "(0, (['how', 'did', 'serfdom', 'develop', 'in', 'and', 'then', 'leave', 'russia', '?'], 'DESC:manner'))\n",
            "(1, (['what', 'films', 'featured', 'the', 'character', 'popeye', 'doyle', '?'], 'ENTY:cremat'))\n",
            "(2, (['how', 'can', 'i', 'find', 'a', 'list', 'of', 'celebrities', \"'\", 'real', 'names', '?'], 'DESC:manner'))\n"
          ]
        }
      ]
    },
    {
      "cell_type": "code",
      "source": [
        "# Create vocab\n",
        "from torchtext.vocab import build_vocab_from_iterator\n",
        "\n",
        "# Define a function that yields the tokenized sentences/labels in the dataset\n",
        "def sentence_iterator(dataset):\n",
        "    for sentence, _ in dataset:\n",
        "        yield sentence\n",
        "\n",
        "# Build a vocabulary from the tokenized sentences\n",
        "train_vocab = build_vocab_from_iterator(sentence_iterator(coarse_train_dataset), specials=['<unk>'])\n",
        "train_vocab.set_default_index(train_vocab[\"<unk>\"])\n",
        "\n",
        "# Print the size of the vocabulary\n",
        "print(f\"Vocabulary size: {len(train_vocab)}\")"
      ],
      "metadata": {
        "colab": {
          "base_uri": "https://localhost:8080/"
        },
        "id": "9qir3jrNxp5i",
        "outputId": "30a33585-3a8f-4dd9-edd8-1d0db1db300b"
      },
      "execution_count": 6,
      "outputs": [
        {
          "output_type": "stream",
          "name": "stdout",
          "text": [
            "Vocabulary size: 8679\n"
          ]
        }
      ]
    },
    {
      "cell_type": "code",
      "source": [
        "# Example of indices\n",
        "[train_vocab[token] for token in ['here', 'is', 'an', 'example']]"
      ],
      "metadata": {
        "colab": {
          "base_uri": "https://localhost:8080/"
        },
        "id": "Etl-cz0txqMC",
        "outputId": "982f2051-f47d-43f6-fd3d-3206e779477d"
      },
      "execution_count": 7,
      "outputs": [
        {
          "output_type": "execute_result",
          "data": {
            "text/plain": [
              "[1071, 4, 39, 1049]"
            ]
          },
          "metadata": {},
          "execution_count": 7
        }
      ]
    },
    {
      "cell_type": "code",
      "source": [
        "# Load test Coarse dataet\n",
        "coarse_test_dataset = ReadDataset(\"/content/drive/MyDrive/Text Mining/TREC_10.label\", target = \"coarse\")\n",
        "\n",
        "# Print the first 3 samples\n",
        "for i in range(3):\n",
        "  sample = coarse_test_dataset[i]\n",
        "  print((i, sample))"
      ],
      "metadata": {
        "colab": {
          "base_uri": "https://localhost:8080/"
        },
        "id": "8NPS3MLDxsHv",
        "outputId": "16146e34-4c60-4b7c-db7d-75e58d0de931"
      },
      "execution_count": 8,
      "outputs": [
        {
          "output_type": "stream",
          "name": "stdout",
          "text": [
            "(0, (['how', 'far', 'is', 'it', 'from', 'denver', 'to', 'aspen', '?'], 'NUM'))\n",
            "(1, (['what', 'county', 'is', 'modesto', ',', 'california', 'in', '?'], 'LOC'))\n",
            "(2, (['who', 'was', 'galileo', '?'], 'HUM'))\n"
          ]
        }
      ]
    },
    {
      "cell_type": "code",
      "source": [
        "# Load test Fine dataet\n",
        "fine_test_dataset = ReadDataset(\"/content/drive/MyDrive/Text Mining/TREC_10.label\", target = \"fine\")\n",
        "\n",
        "# Print the first 3 samples\n",
        "for i in range(3):\n",
        "  sample = fine_test_dataset[i]\n",
        "  print((i, sample))"
      ],
      "metadata": {
        "colab": {
          "base_uri": "https://localhost:8080/"
        },
        "id": "DhGaulHFxuzC",
        "outputId": "b5b4a065-a145-49f5-e335-a0465a843440"
      },
      "execution_count": 9,
      "outputs": [
        {
          "output_type": "stream",
          "name": "stdout",
          "text": [
            "(0, (['how', 'far', 'is', 'it', 'from', 'denver', 'to', 'aspen', '?'], 'NUM:dist'))\n",
            "(1, (['what', 'county', 'is', 'modesto', ',', 'california', 'in', '?'], 'LOC:city'))\n",
            "(2, (['who', 'was', 'galileo', '?'], 'HUM:desc'))\n"
          ]
        }
      ]
    },
    {
      "cell_type": "code",
      "source": [
        "print(len(coarse_test_dataset))\n",
        "print(len(fine_test_dataset))"
      ],
      "metadata": {
        "colab": {
          "base_uri": "https://localhost:8080/"
        },
        "id": "WLzWb9coxyhF",
        "outputId": "5ee02bce-bcf0-417e-db20-c7c153ad3c39"
      },
      "execution_count": 10,
      "outputs": [
        {
          "output_type": "stream",
          "name": "stdout",
          "text": [
            "500\n",
            "500\n"
          ]
        }
      ]
    },
    {
      "cell_type": "code",
      "source": [
        "# Define Collation Function for Coarse labels\n",
        "coarse_pipeline = lambda x:train_vocab(x)\n",
        "\n",
        "def coarse_label_pipeline(label):\n",
        "  if label == \"ABBR\":\n",
        "    return 0\n",
        "  elif label == \"DESC\":\n",
        "    return 1\n",
        "  elif label == \"ENTY\":\n",
        "    return 2\n",
        "  elif label == \"HUM\":\n",
        "    return 3\n",
        "  elif label == \"LOC\":\n",
        "    return 4\n",
        "  elif label == \"NUM\":\n",
        "    return 5"
      ],
      "metadata": {
        "id": "4QY64Aw4x3IQ"
      },
      "execution_count": 11,
      "outputs": []
    },
    {
      "cell_type": "code",
      "source": [
        "# Define Collation Function for Fine labels\n",
        "fine_pipeline = lambda x:train_vocab(x)\n",
        "\n",
        "def fine_label_pipeline(label):\n",
        "  if label == \"ABBR:abb\":\n",
        "    return 0\n",
        "  elif label == \"ABBR:exp\":\n",
        "    return 1\n",
        "  elif label == \"ENTY:animal\":\n",
        "    return 2\n",
        "  elif label == \"ENTY:body\":\n",
        "    return 3\n",
        "  elif label == \"ENTY:color\":\n",
        "    return 4\n",
        "  elif label == \"ENTY:cremat\":\n",
        "    return 5\n",
        "  elif label == \"ENTY:currency\":\n",
        "    return 6\n",
        "  elif label == \"ENTY:dismed\":\n",
        "    return 7\n",
        "  elif label == \"ENTY:event\":\n",
        "    return 8\n",
        "  elif label == \"ENTY:food\":\n",
        "    return 9\n",
        "  elif label == \"ENTY:instru\":\n",
        "    return 10\n",
        "  elif label == \"ENTY:lang\":\n",
        "    return 11\n",
        "  elif label == \"ENTY:letter\":\n",
        "    return 12\n",
        "  elif label == \"ENTY:other\":\n",
        "    return 13\n",
        "  elif label == \"ENTY:plant\":\n",
        "    return 14\n",
        "  elif label == \"ENTY:product\":\n",
        "    return 15\n",
        "  elif label == \"ENTY:religion\":\n",
        "    return 16\n",
        "  elif label == \"ENTY:sport\":\n",
        "    return 17\n",
        "  elif label == \"ENTY:substance\":\n",
        "    return 18\n",
        "  elif label == \"ENTY:symbol\":\n",
        "    return 19\n",
        "  elif label == \"ENTY:techmeth\":\n",
        "    return 20\n",
        "  elif label == \"ENTY:termeq\":\n",
        "    return 21\n",
        "  elif label == \"ENTY:veh\":\n",
        "    return 22\n",
        "  elif label == \"ENTY:word\":\n",
        "    return 23\n",
        "  elif label == \"DESC:def\":\n",
        "    return 24\n",
        "  elif label == \"DESC:desc\":\n",
        "    return 25\n",
        "  elif label == \"DESC:manner\":\n",
        "    return 26\n",
        "  elif label == \"DESC:reason\":\n",
        "    return 27\n",
        "  elif label == \"HUM:gr\":\n",
        "    return 28\n",
        "  elif label == \"HUM:ind\":\n",
        "    return 29\n",
        "  elif label == \"HUM:title\":\n",
        "    return 30\n",
        "  elif label == \"HUM:desc\":\n",
        "    return 31\n",
        "  elif label == \"LOC:city\":\n",
        "    return 32\n",
        "  elif label == \"LOC:country\":\n",
        "    return 33\n",
        "  elif label == \"LOC:mount\":\n",
        "    return 34\n",
        "  elif label == \"LOC:other\":\n",
        "    return 35\n",
        "  elif label == \"LOC:state\":\n",
        "    return 36\n",
        "  elif label == \"NUM:code\":\n",
        "    return 37\n",
        "  elif label == \"NUM:count\":\n",
        "    return 38\n",
        "  elif label == \"NUM:date\":\n",
        "    return 39\n",
        "  elif label == \"NUM:dist\":\n",
        "    return 40\n",
        "  elif label == \"NUM:money\":\n",
        "    return 41\n",
        "  elif label == \"NUM:ord\":\n",
        "    return 42\n",
        "  elif label == \"NUM:other\":\n",
        "    return 43\n",
        "  elif label == \"NUM:period\":\n",
        "    return 44\n",
        "  elif label == \"NUM:perc\":\n",
        "    return 45\n",
        "  elif label == \"NUM:speed\":\n",
        "    return 46\n",
        "  elif label == \"NUM:temp\":\n",
        "    return 47\n",
        "  elif label == \"NUM:volsize\":\n",
        "    return 48\n",
        "  elif label == \"NUM:weight\":\n",
        "    return 49 "
      ],
      "metadata": {
        "id": "b06lKNJayEMQ"
      },
      "execution_count": 12,
      "outputs": []
    },
    {
      "cell_type": "code",
      "source": [
        "# Example of usage of coarse pipelines\n",
        "print(coarse_pipeline(coarse_train_dataset[0][0]))\n",
        "print(coarse_label_pipeline(coarse_train_dataset[0][1]))"
      ],
      "metadata": {
        "colab": {
          "base_uri": "https://localhost:8080/"
        },
        "id": "P6N8tmTg1PF-",
        "outputId": "e403f0c2-8e72-4e05-896b-4ab31b8bf449"
      },
      "execution_count": 13,
      "outputs": [
        {
          "output_type": "stream",
          "name": "stdout",
          "text": [
            "[8, 20, 7659, 2533, 6, 16, 506, 863, 1157, 1]\n",
            "1\n"
          ]
        }
      ]
    },
    {
      "cell_type": "code",
      "source": [
        "# Example of usage of fine pipelines\n",
        "print(fine_pipeline(fine_train_dataset[0][0]))\n",
        "print(fine_label_pipeline(fine_train_dataset[0][1]))"
      ],
      "metadata": {
        "colab": {
          "base_uri": "https://localhost:8080/"
        },
        "id": "qpGQ-EBH1Sun",
        "outputId": "5eabd256-5493-4d86-cc5f-c04a0bb725e7"
      },
      "execution_count": 14,
      "outputs": [
        {
          "output_type": "stream",
          "name": "stdout",
          "text": [
            "[8, 20, 7659, 2533, 6, 16, 506, 863, 1157, 1]\n",
            "26\n"
          ]
        }
      ]
    },
    {
      "cell_type": "code",
      "source": [
        "# Collate without padding for BoW: Coarse dataloader\n",
        "from torch.utils.data import DataLoader\n",
        "def collate_batch_coarse(batch):\n",
        "  label_list, text_list, offsets = [], [], [0]\n",
        "  for (_text, _label) in batch:\n",
        "      label_list.append(coarse_label_pipeline(_label))\n",
        "      processed_text = torch.tensor(coarse_pipeline(_text), dtype=torch.int64)\n",
        "      text_list.append(processed_text)\n",
        "      offsets.append(processed_text.size(0))\n",
        "  label_list = torch.tensor(label_list, dtype=torch.int64)\n",
        "  offsets = torch.tensor(offsets[:-1]).cumsum(dim=0)\n",
        "  text_list = torch.cat(text_list)\n",
        "  return text_list, offsets, label_list"
      ],
      "metadata": {
        "id": "dzcxDfam1YDh"
      },
      "execution_count": 15,
      "outputs": []
    },
    {
      "cell_type": "code",
      "source": [
        "# Collate without padding for BoW: Fine dataloader\n",
        "from torch.utils.data import DataLoader\n",
        "def collate_batch_fine(batch):\n",
        "  label_list, text_list, offsets = [], [], [0]\n",
        "  for (_text, _label) in batch:\n",
        "      label_list.append(fine_label_pipeline(_label))\n",
        "      processed_text = torch.tensor(fine_pipeline(_text), dtype=torch.int64)\n",
        "      text_list.append(processed_text)\n",
        "      offsets.append(processed_text.size(0))\n",
        "  label_list = torch.tensor(label_list, dtype=torch.int64)\n",
        "  offsets = torch.tensor(offsets[:-1]).cumsum(dim=0)\n",
        "  text_list = torch.cat(text_list)\n",
        "  return text_list, offsets, label_list"
      ],
      "metadata": {
        "id": "P3WREmD61YJX"
      },
      "execution_count": 16,
      "outputs": []
    },
    {
      "cell_type": "code",
      "source": [
        "# Collate with padding for BiLSTM: Coarse dataloader\n",
        "from torch.utils.data import DataLoader\n",
        "from torch.nn.utils.rnn import pad_sequence\n",
        "\n",
        "'''def collate_batch_padding(batch):\n",
        "    label_list, text_list, offsets = [], [], [0]\n",
        "    for (_text, _label) in batch:\n",
        "        label_list.append(label_pipeline(_label))\n",
        "        processed_text = torch.tensor(text_pipeline(_text), dtype=torch.int64)\n",
        "        text_list.append(processed_text)\n",
        "        offsets.append(processed_text.size(0))\n",
        "    label_list = torch.tensor(label_list, dtype=torch.int64)\n",
        "    offsets = torch.tensor(offsets[:-1]).cumsum(dim=0)\n",
        "    text_list = pad_sequence(text_list, batch_first=True, padding_value=0)\n",
        "    return text_list, offsets, label_list'''\n",
        "\n",
        "\n",
        "def collate_batch_padding2_coarse(batch):\n",
        "  # Let's assume that each element in \"batch\" is a tuple (data, label).\n",
        "  # Sort the batch in the descending order\n",
        "  sorted_batch = sorted(batch, key=lambda x: len(x[0]), reverse=True)\n",
        "\n",
        "  label_list, text_list, offsets = [], [], [0]\n",
        "  for (_text, _label) in sorted_batch:\n",
        "      label_list.append(coarse_label_pipeline(_label))\n",
        "      processed_text = torch.tensor(coarse_pipeline(_text), dtype=torch.int64)\n",
        "      text_list.append(processed_text)\n",
        "      offsets.append(processed_text.size(0))\n",
        "  label_list = torch.tensor(label_list, dtype=torch.int64)\n",
        "  offsets = torch.tensor(offsets[:-1]).cumsum(dim=0)\n",
        "\n",
        "  # Get each sequence and pad it\n",
        "  sequences = [x for x in text_list]\n",
        "  sequences_padded = torch.nn.utils.rnn.pad_sequence(sequences, batch_first=True)\n",
        "  # Also need to store the length of each sequence\n",
        "  # This is later needed in order to unpad the sequences\n",
        "  lengths = torch.LongTensor([len(x) for x in sequences])\n",
        "  \n",
        "  return sequences_padded, lengths, label_list"
      ],
      "metadata": {
        "id": "a3AcC7e-Gh7t"
      },
      "execution_count": 17,
      "outputs": []
    },
    {
      "cell_type": "code",
      "source": [
        "# Collate with padding for BiLSTM: Fine dataloader\n",
        "from torch.utils.data import DataLoader\n",
        "from torch.nn.utils.rnn import pad_sequence\n",
        "\n",
        "'''def collate_batch_padding(batch):\n",
        "    label_list, text_list, offsets = [], [], [0]\n",
        "    for (_text, _label) in batch:\n",
        "        label_list.append(label_pipeline(_label))\n",
        "        processed_text = torch.tensor(text_pipeline(_text), dtype=torch.int64)\n",
        "        text_list.append(processed_text)\n",
        "        offsets.append(processed_text.size(0))\n",
        "    label_list = torch.tensor(label_list, dtype=torch.int64)\n",
        "    offsets = torch.tensor(offsets[:-1]).cumsum(dim=0)\n",
        "    text_list = pad_sequence(text_list, batch_first=True, padding_value=0)\n",
        "    return text_list, offsets, label_list'''\n",
        "\n",
        "\n",
        "def collate_batch_padding2_fine(batch):\n",
        "  # Let's assume that each element in \"batch\" is a tuple (data, label).\n",
        "  # Sort the batch in the descending order\n",
        "  sorted_batch = sorted(batch, key=lambda x: len(x[0]), reverse=True)\n",
        "\n",
        "  label_list, text_list, offsets = [], [], [0]\n",
        "  for (_text, _label) in sorted_batch:\n",
        "      label_list.append(fine_label_pipeline(_label))\n",
        "      processed_text = torch.tensor(fine_pipeline(_text), dtype=torch.int64)\n",
        "      text_list.append(processed_text)\n",
        "      offsets.append(processed_text.size(0))\n",
        "  label_list = torch.tensor(label_list, dtype=torch.int64)\n",
        "  offsets = torch.tensor(offsets[:-1]).cumsum(dim=0)\n",
        "\n",
        "  # Get each sequence and pad it\n",
        "  sequences = [x for x in text_list]\n",
        "  sequences_padded = torch.nn.utils.rnn.pad_sequence(sequences, batch_first=True)\n",
        "  # Also need to store the length of each sequence\n",
        "  # This is later needed in order to unpad the sequences\n",
        "  lengths = torch.LongTensor([len(x) for x in sequences])\n",
        "  \n",
        "  return sequences_padded, lengths, label_list"
      ],
      "metadata": {
        "id": "UIH_mffkGh_f"
      },
      "execution_count": 18,
      "outputs": []
    },
    {
      "cell_type": "code",
      "source": [
        "# Load Glove\n",
        "## Create a dic of glove {word:vector}\n",
        "\n",
        "import numpy as np\n",
        "\n",
        "glove_file = '/content/drive/MyDrive/Text Mining/glove.small.txt'\n",
        "glove_dict = {}\n",
        "\n",
        "with open(glove_file, encoding=\"utf8\") as f:\n",
        "    for line in f:\n",
        "        values = line.split()\n",
        "        word = values[0]\n",
        "        coefs = np.asarray(values[1:], dtype='float32')\n",
        "        glove_dict[word] = coefs\n",
        "\n",
        "print(len(glove_dict))\n",
        "\n",
        "glove_embed_size = np.stack(glove_dict.values()).shape[1]\n",
        "print(glove_embed_size)"
      ],
      "metadata": {
        "colab": {
          "base_uri": "https://localhost:8080/"
        },
        "id": "bCeI5HYr16EF",
        "outputId": "195fbe67-8827-4a67-c1aa-625ac8c77a33"
      },
      "execution_count": 19,
      "outputs": [
        {
          "output_type": "stream",
          "name": "stdout",
          "text": [
            "9549\n",
            "300\n"
          ]
        },
        {
          "output_type": "stream",
          "name": "stderr",
          "text": [
            "/usr/local/lib/python3.8/dist-packages/IPython/core/interactiveshell.py:3249: FutureWarning: arrays to stack must be passed as a \"sequence\" type such as list or tuple. Support for non-sequence iterables such as generators is deprecated as of NumPy 1.16 and will raise an error in the future.\n",
            "  if (await self.run_code(code, result,  async_=asy)):\n"
          ]
        }
      ]
    },
    {
      "cell_type": "code",
      "source": [
        "# Create a weight matrix using glove_dict & vocab of train dataset\n",
        "\n",
        "matrix_len = len(train_vocab)\n",
        "glove_weights_matrix = np.zeros((matrix_len, glove_embed_size))\n",
        "words_found = 0\n",
        "\n",
        "for i, word in enumerate(train_vocab.get_itos()):\n",
        "  try: \n",
        "    glove_weights_matrix[i] = glove_dict[word]\n",
        "    words_found += 1\n",
        "  except KeyError:\n",
        "    glove_weights_matrix[i] = np.random.normal(scale=0.6, size=(glove_embed_size, ))\n",
        "print(words_found)\n",
        "print(glove_weights_matrix.shape)"
      ],
      "metadata": {
        "colab": {
          "base_uri": "https://localhost:8080/"
        },
        "id": "cB0aiv-j2LIQ",
        "outputId": "7256eefa-b9be-409b-bbbd-75e99587b5e7"
      },
      "execution_count": 20,
      "outputs": [
        {
          "output_type": "stream",
          "name": "stdout",
          "text": [
            "5764\n",
            "(8679, 300)\n"
          ]
        }
      ]
    },
    {
      "cell_type": "markdown",
      "source": [
        "## Define Model class"
      ],
      "metadata": {
        "id": "6bXYj_eaLaEz"
      }
    },
    {
      "cell_type": "code",
      "source": [
        "# Bag of Words\n",
        "\n",
        "import torch.nn as nn\n",
        "import torch.nn.functional as F\n",
        "class QuestionClassifier(nn.Module):\n",
        "    def __init__(self, vocab_size, embed_dim, num_class, use_glove, fine_tune_embed):\n",
        "        super().__init__()\n",
        "        self.use_glove = use_glove\n",
        "        self.fine_tune_embed = fine_tune_embed\n",
        "\n",
        "        self.embedding = nn.EmbeddingBag(vocab_size, embed_dim, sparse=True) # Bag-of-Words\n",
        "        self.fc = nn.Linear(embed_dim, num_class)\n",
        "        self.init_weights()\n",
        "\n",
        "    def init_weights(self):\n",
        "        initrange = 0.5\n",
        "        # random initialised embedding\n",
        "        if self.use_glove == False:\n",
        "          self.embedding.weight.data.uniform_(-initrange, initrange) \n",
        "        # Glove embedding\n",
        "        else:\n",
        "          self.embedding.weight = nn.Parameter(torch.tensor(glove_weights_matrix, dtype=torch.float32))\n",
        "        \n",
        "        # If freeze the embedding weight\n",
        "        if self.fine_tune_embed == False: \n",
        "          self.embedding.requires_grad_(False)\n",
        "        self.fc.weight.data.uniform_(-initrange, initrange)\n",
        "        self.fc.bias.data.zero_()\n",
        "\n",
        "\n",
        "    def forward(self, text, offsets):\n",
        "        embedded = self.embedding(text, offsets)\n",
        "        x = self.fc(embedded)\n",
        "        return x"
      ],
      "metadata": {
        "id": "y7f8QykC2OAt"
      },
      "execution_count": 21,
      "outputs": []
    },
    {
      "cell_type": "code",
      "source": [
        "# BiLSTM\n",
        "from torch.nn.utils.rnn import pad_sequence\n",
        "\n",
        "class BiLSTM3(nn.Module):\n",
        "    \n",
        "    def __init__(self, vocab_size, embed_dim, num_class, use_glove, fine_tune_embed):\n",
        "        super(BiLSTM3, self).__init__()\n",
        "        self.use_glove = use_glove\n",
        "        self.fine_tune_embed = fine_tune_embed\n",
        "\n",
        "        self.hidden_size = 64\n",
        "        drp = 0.1\n",
        "        # n_classes = len(le.classes_)\n",
        "        self.embedding = nn.Embedding(vocab_size, embed_dim)\n",
        "        self.lstm = nn.LSTM(embed_dim, self.hidden_size, bidirectional=True, batch_first=True)\n",
        "        self.linear = nn.Linear(self.hidden_size*4 , 64)\n",
        "        self.relu = nn.ReLU()\n",
        "        self.dropout = nn.Dropout(drp)\n",
        "        self.out = nn.Linear(64, num_class)\n",
        "        self.init_weights()\n",
        "\n",
        "    def init_weights(self):\n",
        "        initrange = 0.5\n",
        "        # random initialised embedding\n",
        "        if self.use_glove == False:\n",
        "          self.embedding.weight.data.uniform_(-initrange, initrange) \n",
        "        # Glove embedding\n",
        "        else:\n",
        "          self.embedding.weight = nn.Parameter(torch.tensor(glove_weights_matrix, dtype=torch.float32))\n",
        "        \n",
        "        # If freeze the embedding weight\n",
        "        if self.fine_tune_embed == False: \n",
        "          self.embedding.weight.requires_grad_(False)\n",
        "        '''self.fc.weight.data.uniform_(-initrange, initrange)\n",
        "        self.fc.bias.data.zero_()'''\n",
        "\n",
        "    def forward(self, x):\n",
        "        #rint(x.size())\n",
        "        h_embedding = self.embedding(x)\n",
        "        h_lstm, _ = self.lstm(h_embedding)\n",
        "        avg_pool = torch.mean(h_lstm, 1)\n",
        "        max_pool, _ = torch.max(h_lstm, 1)\n",
        "        conc = torch.cat(( avg_pool, max_pool), 1)\n",
        "        conc = self.relu(self.linear(conc))\n",
        "        conc = self.dropout(conc)\n",
        "        out = self.out(conc)\n",
        "        return out"
      ],
      "metadata": {
        "id": "hRCUnapeLhg1"
      },
      "execution_count": 22,
      "outputs": []
    },
    {
      "cell_type": "markdown",
      "source": [
        "## Train, Val, Test class"
      ],
      "metadata": {
        "id": "5rEUvX-DLsB7"
      }
    },
    {
      "cell_type": "code",
      "source": [
        "# for Bag of Words\n",
        "\n",
        "from torch.utils.data import DataLoader\n",
        "import time\n",
        "from torch.utils.data.dataset import random_split\n",
        "\n",
        "import matplotlib.pyplot as plt\n",
        "\n",
        "class TrainValTestModel():\n",
        "  def __init__(self, model, collate_fn, n_epochs, batch_size, min_valid_loss) -> None:\n",
        "     self.model = model\n",
        "     self.collate_fn = collate_fn\n",
        "     self.n_epochs = n_epochs\n",
        "     self.batch_size = batch_size\n",
        "     self.min_valid_loss = min_valid_loss\n",
        "\n",
        "     # CrossEntropyLoss already contains Softmax function inside\n",
        "     self.criterion = torch.nn.CrossEntropyLoss().to(device)\n",
        "     self.optimizer = torch.optim.SGD(self.model.parameters(), lr=4.0)\n",
        "     self.scheduler = torch.optim.lr_scheduler.StepLR(self.optimizer, 1, gamma=0.9)\n",
        "\n",
        "  def split_into_train_valid(self, train_dataset, train_ratio = 0.90):\n",
        "    train_len = int(len(train_dataset) * train_ratio)\n",
        "    sub_train_, sub_valid_ = random_split(train_dataset, [train_len, len(train_dataset) - train_len])\n",
        "    return sub_train_, sub_valid_\n",
        "\n",
        "  def train(self, sub_train):\n",
        "    # Set the model to train mode\n",
        "    self.model.train()\n",
        "    # Train model\n",
        "    train_loss = 0\n",
        "    train_acc = 0\n",
        "    data = DataLoader(sub_train, batch_size=self.batch_size, shuffle=True,\n",
        "                      collate_fn=self.collate_fn)\n",
        "    for i, (text, offsets, cls) in enumerate(data):\n",
        "        self.optimizer.zero_grad()\n",
        "        text, offsets, cls = text.to(device), offsets.to(device), cls.to(device)\n",
        "        # print(f'text: {text}')\n",
        "        # print(f'offsets: {offsets}')\n",
        "        # print(f'cls: {cls}')\n",
        "        output = self.model(text, offsets)\n",
        "        # print(f'output: {output}')\n",
        "        loss = self.criterion(output, cls)\n",
        "        # print(f'loss: {loss}')\n",
        "        train_loss += loss.item()\n",
        "        loss.backward()\n",
        "        self.optimizer.step()\n",
        "        train_acc += (output.argmax(1) == cls).sum().item()\n",
        "    # Update learning rate\n",
        "    self.scheduler.step()\n",
        "\n",
        "    return train_loss / len(sub_train), train_acc / len(sub_train)\n",
        "\n",
        "  def validate(self, sub_valid):\n",
        "    self.model.eval()\n",
        "    loss = 0\n",
        "    acc = 0\n",
        "    data = DataLoader(sub_valid, batch_size=self.batch_size, collate_fn=self.collate_fn)\n",
        "    for text, offsets, cls in data:\n",
        "        text, offsets, cls = text.to(device), offsets.to(device), cls.to(device)\n",
        "        with torch.no_grad():\n",
        "            output = self.model(text, offsets)\n",
        "            loss = self.criterion(output, cls)\n",
        "            loss += loss.item()\n",
        "            acc += (output.argmax(1) == cls).sum().item()\n",
        "\n",
        "    return loss / len(sub_valid), acc / len(sub_valid)\n",
        "\n",
        "  def train_and_evaluate(self, train_dataset, train_ratio = 0.90):\n",
        "    sub_train, sub_valid =  self.split_into_train_valid(train_dataset, train_ratio = train_ratio)\n",
        "    print('[Train & Validation]')\n",
        "\n",
        "    train_loss_list = []\n",
        "    valid_loss_list = []\n",
        "    for epoch in range(self.n_epochs):\n",
        "      start_time = time.time()\n",
        "      train_loss, train_acc = self.train(sub_train)\n",
        "      valid_loss, valid_acc = self.validate(sub_valid)\n",
        "\n",
        "      train_loss_list.append(train_loss)\n",
        "      valid_loss_list.append(valid_loss)\n",
        "      self.train_loss_list = train_loss_list\n",
        "      self.valid_loss_list = valid_loss_list\n",
        "\n",
        "      secs = int(time.time() - start_time)\n",
        "      mins = secs / 60\n",
        "      secs = secs % 60\n",
        "      \n",
        "      print('Epoch: %d' %(epoch + 1), \" | time in %d minutes, %d seconds\" %(mins, secs))\n",
        "      print(f'\\tLoss: {train_loss:.4f}(train)\\t|\\tAcc: {train_acc * 100:.1f}%(train)')\n",
        "      print(f'\\tLoss: {valid_loss:.4f}(valid)\\t|\\tAcc: {valid_acc * 100:.1f}%(valid)')\n",
        "  \n",
        "  def loss_plot(self):\n",
        "    fig = plt.figure(figsize=(6, 6))\n",
        "    plt.title(\"Train/Validation Loss\")\n",
        "    plt.plot(list(np.arange(self.n_epochs)+1), self.train_loss_list, label='train')\n",
        "    plt.plot(list(np.arange(self.n_epochs)+1), self.valid_loss_list, label='valid')\n",
        "    plt.xlabel('num_epochs', fontsize=12)\n",
        "    plt.ylabel('loss', fontsize=12)\n",
        "    plt.legend(loc='best')\n",
        "\n",
        "  def test(self, test_dataset):\n",
        "    test_loss, test_acc = self.validate(test_dataset)\n",
        "    print('[Test]')\n",
        "    print(f'\\tLoss: {test_loss:.4f}(test)\\t|\\tAcc: {test_acc * 100:.1f}%(test)')"
      ],
      "metadata": {
        "id": "7qQivpZM2ZNw"
      },
      "execution_count": 23,
      "outputs": []
    },
    {
      "cell_type": "code",
      "source": [
        "# for BiLSTM\n",
        "from torch.utils.data import DataLoader\n",
        "import time\n",
        "from torch.utils.data.dataset import random_split\n",
        "\n",
        "import matplotlib.pyplot as plt\n",
        "\n",
        "class TrainValTestBiLSTMModel():\n",
        "  def __init__(self, model, collate_fn, n_epochs, batch_size, min_valid_loss) -> None:\n",
        "     self.model = model\n",
        "     self.collate_fn = collate_fn\n",
        "     self.n_epochs = n_epochs\n",
        "     self.batch_size = batch_size\n",
        "     self.min_valid_loss = min_valid_loss\n",
        "\n",
        "     # CrossEntropyLoss already contains Softmax function inside\n",
        "     self.criterion = torch.nn.CrossEntropyLoss().to(device)\n",
        "     self.optimizer = torch.optim.SGD(self.model.parameters(), lr=4.0)\n",
        "     self.scheduler = torch.optim.lr_scheduler.StepLR(self.optimizer, 1, gamma=0.9)\n",
        "\n",
        "  def split_into_train_valid(self, train_dataset, train_ratio = 0.90):\n",
        "    train_len = int(len(train_dataset) * train_ratio)\n",
        "    sub_train_, sub_valid_ = random_split(train_dataset, [train_len, len(train_dataset) - train_len])\n",
        "    return sub_train_, sub_valid_\n",
        "\n",
        "  def train(self, sub_train):\n",
        "    # Set the model to train mode\n",
        "    self.model.train()\n",
        "    # Train model\n",
        "    train_loss = 0\n",
        "    train_acc = 0\n",
        "    data = DataLoader(sub_train, batch_size=self.batch_size, shuffle=True,\n",
        "                      collate_fn=self.collate_fn)\n",
        "    for i, (text, offsets, cls) in enumerate(data):\n",
        "        self.optimizer.zero_grad()\n",
        "        text, offsets, cls = text.to(device), offsets.to(device), cls.to(device)\n",
        "        # print(f'text: {text}')\n",
        "        # print(f'offsets: {offsets}')\n",
        "        # print(f'cls: {cls}')\n",
        "        output = self.model(text)\n",
        "        # print(f'output: {output}')\n",
        "        loss = self.criterion(output, cls)\n",
        "        # print(f'loss: {loss}')\n",
        "        train_loss += loss.item()\n",
        "        loss.backward()\n",
        "        self.optimizer.step()\n",
        "        train_acc += (output.argmax(1) == cls).sum().item()\n",
        "    # Update learning rate\n",
        "    self.scheduler.step()\n",
        "\n",
        "    return train_loss / len(sub_train), train_acc / len(sub_train)\n",
        "\n",
        "  def validate(self, sub_valid):\n",
        "    self.model.eval()\n",
        "    loss = 0\n",
        "    acc = 0\n",
        "    data = DataLoader(sub_valid, batch_size=self.batch_size, collate_fn=self.collate_fn)\n",
        "    for text, offsets, cls in data:\n",
        "        text, offsets, cls = text.to(device), offsets.to(device), cls.to(device)\n",
        "        with torch.no_grad():\n",
        "            output = self.model(text)\n",
        "            loss = self.criterion(output, cls)\n",
        "            loss += loss.item()\n",
        "            acc += (output.argmax(1) == cls).sum().item()\n",
        "\n",
        "    return loss / len(sub_valid), acc / len(sub_valid)\n",
        "\n",
        "  def train_and_evaluate(self, train_dataset, train_ratio = 0.90):\n",
        "    sub_train, sub_valid =  self.split_into_train_valid(train_dataset, train_ratio = train_ratio)\n",
        "    print('[Train & Validation]')\n",
        "\n",
        "    train_loss_list = []\n",
        "    valid_loss_list = []\n",
        "    for epoch in range(self.n_epochs):\n",
        "      start_time = time.time()\n",
        "      train_loss, train_acc = self.train(sub_train)\n",
        "      valid_loss, valid_acc = self.validate(sub_valid)\n",
        "\n",
        "      train_loss_list.append(train_loss)\n",
        "      valid_loss_list.append(valid_loss)\n",
        "      self.train_loss_list = train_loss_list\n",
        "      self.valid_loss_list = valid_loss_list\n",
        "\n",
        "      secs = int(time.time() - start_time)\n",
        "      mins = secs / 60\n",
        "      secs = secs % 60\n",
        "      \n",
        "      print('Epoch: %d' %(epoch + 1), \" | time in %d minutes, %d seconds\" %(mins, secs))\n",
        "      print(f'\\tLoss: {train_loss:.4f}(train)\\t|\\tAcc: {train_acc * 100:.1f}%(train)')\n",
        "      print(f'\\tLoss: {valid_loss:.4f}(valid)\\t|\\tAcc: {valid_acc * 100:.1f}%(valid)')\n",
        "  \n",
        "  def loss_plot(self):\n",
        "    fig = plt.figure(figsize=(6, 6))\n",
        "    plt.title(\"Train/Validation Loss\")\n",
        "    plt.plot(list(np.arange(self.n_epochs)+1), self.train_loss_list, label='train')\n",
        "    plt.plot(list(np.arange(self.n_epochs)+1), self.valid_loss_list, label='valid')\n",
        "    plt.xlabel('num_epochs', fontsize=12)\n",
        "    plt.ylabel('loss', fontsize=12)\n",
        "    plt.legend(loc='best')\n",
        "\n",
        "  def test(self, test_dataset):\n",
        "    test_loss, test_acc = self.validate(test_dataset)\n",
        "    print('[Test]')\n",
        "    print(f'\\tLoss: {test_loss:.4f}(test)\\t|\\tAcc: {test_acc * 100:.1f}%(test)')"
      ],
      "metadata": {
        "id": "7nfeed1CLzDB"
      },
      "execution_count": 24,
      "outputs": []
    },
    {
      "cell_type": "code",
      "source": [
        "# Coarse Model\n",
        "\n",
        "VOCAB_SIZE = len(train_vocab)\n",
        "EMBED_DIM = glove_embed_size # 300\n",
        "NUM_CLASS = len(set(coarse_train_dataset.labels))\n",
        "print(f'num class: {NUM_CLASS}')"
      ],
      "metadata": {
        "colab": {
          "base_uri": "https://localhost:8080/"
        },
        "id": "Omar_3bn2iSy",
        "outputId": "f158cf5f-2a50-4950-c34b-a8bec22450f0"
      },
      "execution_count": 25,
      "outputs": [
        {
          "output_type": "stream",
          "name": "stdout",
          "text": [
            "num class: 6\n"
          ]
        }
      ]
    },
    {
      "cell_type": "code",
      "source": [
        "# Fine Model\n",
        "\n",
        "VOCAB_SIZE = len(train_vocab)\n",
        "EMBED_DIM = glove_embed_size # 300\n",
        "NUM_CLASS = len(set(fine_train_dataset.labels))\n",
        "print(f'num class: {NUM_CLASS}')"
      ],
      "metadata": {
        "colab": {
          "base_uri": "https://localhost:8080/"
        },
        "id": "qulaXw152iV6",
        "outputId": "2713da8a-1681-411e-cbf3-1b03094b4083"
      },
      "execution_count": 26,
      "outputs": [
        {
          "output_type": "stream",
          "name": "stdout",
          "text": [
            "num class: 50\n"
          ]
        }
      ]
    },
    {
      "cell_type": "code",
      "source": [
        "# lr = 1e-4\n",
        "dropout_prob = 0.5\n",
        "# max_document_length = 100  # each sentence has until 100 words\n",
        "# max_size = 5000 # maximum vocabulary size\n",
        "num_hidden_nodes = 93\n",
        "hidden_dim2 = 128\n",
        "num_layers = 2  # LSTM layers\n",
        "bi_directional = True "
      ],
      "metadata": {
        "id": "UYzu6l56NFuI"
      },
      "execution_count": 27,
      "outputs": []
    },
    {
      "cell_type": "markdown",
      "source": [
        "## Coarse Classification"
      ],
      "metadata": {
        "id": "Kbg8bTtm2uho"
      }
    },
    {
      "cell_type": "markdown",
      "source": [
        "Bag of Words: Random+FineTune"
      ],
      "metadata": {
        "id": "dtSfUsen3oMY"
      }
    },
    {
      "cell_type": "code",
      "source": [
        "model1 = QuestionClassifier(VOCAB_SIZE, EMBED_DIM, NUM_CLASS, use_glove=False, fine_tune_embed=True).to(device)\n",
        "\n",
        "# Print weights and biases in each layer\n",
        "for name, param in model1.named_parameters():\n",
        "  print('name : ', name)\n",
        "  # print('param : ', param)\n",
        "\n",
        "model1_evaluator = TrainValTestModel(model = model1, collate_fn = collate_batch_coarse, n_epochs=10, batch_size=16, min_valid_loss=float('inf'))\n",
        "model1_evaluator.train_and_evaluate(train_dataset=coarse_train_dataset)\n",
        "model1_evaluator.test(test_dataset=coarse_test_dataset)\n",
        "model1_evaluator.loss_plot()"
      ],
      "metadata": {
        "colab": {
          "base_uri": "https://localhost:8080/",
          "height": 1000
        },
        "id": "oHtebxJ32tjy",
        "outputId": "a82461bd-4305-4f8c-bafb-168c142a019c"
      },
      "execution_count": 28,
      "outputs": [
        {
          "output_type": "stream",
          "name": "stdout",
          "text": [
            "name :  embedding.weight\n",
            "name :  fc.weight\n",
            "name :  fc.bias\n",
            "[Train & Validation]\n",
            "Epoch: 1  | time in 0 minutes, 0 seconds\n",
            "\tLoss: 0.0668(train)\t|\tAcc: 61.6%(train)\n",
            "\tLoss: 0.0087(valid)\t|\tAcc: 72.2%(valid)\n",
            "Epoch: 2  | time in 0 minutes, 1 seconds\n",
            "\tLoss: 0.0326(train)\t|\tAcc: 81.3%(train)\n",
            "\tLoss: 0.0079(valid)\t|\tAcc: 76.2%(valid)\n",
            "Epoch: 3  | time in 0 minutes, 1 seconds\n",
            "\tLoss: 0.0184(train)\t|\tAcc: 89.8%(train)\n",
            "\tLoss: 0.0107(valid)\t|\tAcc: 75.6%(valid)\n",
            "Epoch: 4  | time in 0 minutes, 1 seconds\n",
            "\tLoss: 0.0101(train)\t|\tAcc: 95.2%(train)\n",
            "\tLoss: 0.0114(valid)\t|\tAcc: 81.7%(valid)\n",
            "Epoch: 5  | time in 0 minutes, 1 seconds\n",
            "\tLoss: 0.0056(train)\t|\tAcc: 98.1%(train)\n",
            "\tLoss: 0.0071(valid)\t|\tAcc: 78.8%(valid)\n",
            "Epoch: 6  | time in 0 minutes, 0 seconds\n",
            "\tLoss: 0.0038(train)\t|\tAcc: 99.0%(train)\n",
            "\tLoss: 0.0082(valid)\t|\tAcc: 81.5%(valid)\n",
            "Epoch: 7  | time in 0 minutes, 0 seconds\n",
            "\tLoss: 0.0023(train)\t|\tAcc: 99.6%(train)\n",
            "\tLoss: 0.0113(valid)\t|\tAcc: 81.3%(valid)\n",
            "Epoch: 8  | time in 0 minutes, 0 seconds\n",
            "\tLoss: 0.0016(train)\t|\tAcc: 99.8%(train)\n",
            "\tLoss: 0.0129(valid)\t|\tAcc: 82.1%(valid)\n",
            "Epoch: 9  | time in 0 minutes, 0 seconds\n",
            "\tLoss: 0.0014(train)\t|\tAcc: 99.9%(train)\n",
            "\tLoss: 0.0087(valid)\t|\tAcc: 77.1%(valid)\n",
            "Epoch: 10  | time in 0 minutes, 0 seconds\n",
            "\tLoss: 0.0011(train)\t|\tAcc: 99.9%(train)\n",
            "\tLoss: 0.0128(valid)\t|\tAcc: 81.9%(valid)\n",
            "[Test]\n",
            "\tLoss: 0.0024(test)\t|\tAcc: 84.4%(test)\n"
          ]
        },
        {
          "output_type": "display_data",
          "data": {
            "text/plain": [
              "<Figure size 432x432 with 1 Axes>"
            ],
            "image/png": "[encoded data removed]"
          },
          "metadata": {
            "needs_background": "light"
          }
        }
      ]
    },
    {
      "cell_type": "markdown",
      "source": [
        "Bag of Words: Glove+Freeze"
      ],
      "metadata": {
        "id": "nyaA0HtR3s4F"
      }
    },
    {
      "cell_type": "code",
      "source": [
        "model2 = QuestionClassifier(VOCAB_SIZE, EMBED_DIM, NUM_CLASS, use_glove=True, fine_tune_embed=False).to(device)\n",
        "\n",
        "# Print weights and biases in each layer\n",
        "for name, param in model2.named_parameters():\n",
        "  print('name : ', name)\n",
        "  # print('param : ', param)\n",
        "\n",
        "model2_evaluator = TrainValTestModel(model = model2, collate_fn = collate_batch_coarse, n_epochs=10, batch_size=16, min_valid_loss=float('inf'))\n",
        "model2_evaluator.train_and_evaluate(train_dataset=coarse_train_dataset)\n",
        "model2_evaluator.test(test_dataset=coarse_test_dataset)\n",
        "model2_evaluator.loss_plot()"
      ],
      "metadata": {
        "colab": {
          "base_uri": "https://localhost:8080/",
          "height": 1000
        },
        "id": "rSfsPx6W3a3E",
        "outputId": "d84742b8-e247-478d-a471-eff536e69468"
      },
      "execution_count": 29,
      "outputs": [
        {
          "output_type": "stream",
          "name": "stdout",
          "text": [
            "name :  embedding.weight\n",
            "name :  fc.weight\n",
            "name :  fc.bias\n",
            "[Train & Validation]\n",
            "Epoch: 1  | time in 0 minutes, 0 seconds\n",
            "\tLoss: 0.2711(train)\t|\tAcc: 47.0%(train)\n",
            "\tLoss: 0.0038(valid)\t|\tAcc: 59.2%(valid)\n",
            "Epoch: 2  | time in 0 minutes, 0 seconds\n",
            "\tLoss: 0.1502(train)\t|\tAcc: 59.4%(train)\n",
            "\tLoss: 0.0125(valid)\t|\tAcc: 52.9%(valid)\n",
            "Epoch: 3  | time in 0 minutes, 0 seconds\n",
            "\tLoss: 0.1144(train)\t|\tAcc: 62.9%(train)\n",
            "\tLoss: 0.0131(valid)\t|\tAcc: 61.4%(valid)\n",
            "Epoch: 4  | time in 0 minutes, 0 seconds\n",
            "\tLoss: 0.0976(train)\t|\tAcc: 65.9%(train)\n",
            "\tLoss: 0.0013(valid)\t|\tAcc: 64.3%(valid)\n",
            "Epoch: 5  | time in 0 minutes, 0 seconds\n",
            "\tLoss: 0.0798(train)\t|\tAcc: 68.8%(train)\n",
            "\tLoss: 0.0067(valid)\t|\tAcc: 60.3%(valid)\n",
            "Epoch: 6  | time in 0 minutes, 1 seconds\n",
            "\tLoss: 0.0736(train)\t|\tAcc: 69.2%(train)\n",
            "\tLoss: 0.0003(valid)\t|\tAcc: 63.2%(valid)\n",
            "Epoch: 7  | time in 0 minutes, 1 seconds\n",
            "\tLoss: 0.0689(train)\t|\tAcc: 70.7%(train)\n",
            "\tLoss: 0.0078(valid)\t|\tAcc: 60.3%(valid)\n",
            "Epoch: 8  | time in 0 minutes, 0 seconds\n",
            "\tLoss: 0.0608(train)\t|\tAcc: 71.3%(train)\n",
            "\tLoss: 0.0128(valid)\t|\tAcc: 59.7%(valid)\n",
            "Epoch: 9  | time in 0 minutes, 0 seconds\n",
            "\tLoss: 0.0570(train)\t|\tAcc: 72.3%(train)\n",
            "\tLoss: 0.0052(valid)\t|\tAcc: 61.0%(valid)\n",
            "Epoch: 10  | time in 0 minutes, 0 seconds\n",
            "\tLoss: 0.0524(train)\t|\tAcc: 73.1%(train)\n",
            "\tLoss: 0.0011(valid)\t|\tAcc: 67.4%(valid)\n",
            "[Test]\n",
            "\tLoss: 0.0128(test)\t|\tAcc: 68.6%(test)\n"
          ]
        },
        {
          "output_type": "display_data",
          "data": {
            "text/plain": [
              "<Figure size 432x432 with 1 Axes>"
            ],
            "image/png": "[encoded data removed]"
          },
          "metadata": {
            "needs_background": "light"
          }
        }
      ]
    },
    {
      "cell_type": "markdown",
      "source": [
        "Bag of Words: Glove+FineTune"
      ],
      "metadata": {
        "id": "2ikmcHJR4Q31"
      }
    },
    {
      "cell_type": "code",
      "source": [
        "model3 = QuestionClassifier(VOCAB_SIZE, EMBED_DIM, NUM_CLASS, use_glove=True, fine_tune_embed=True).to(device)\n",
        "\n",
        "# Print weights and biases in each layer\n",
        "for name, param in model2.named_parameters():\n",
        "  print('name : ', name)\n",
        "  # print('param : ', param)\n",
        "\n",
        "model3_evaluator = TrainValTestModel(model = model3, collate_fn = collate_batch_coarse, n_epochs=10, batch_size=16, min_valid_loss=float('inf'))\n",
        "model3_evaluator.train_and_evaluate(train_dataset=coarse_train_dataset)\n",
        "model3_evaluator.test(test_dataset=coarse_test_dataset)\n",
        "model3_evaluator.loss_plot()"
      ],
      "metadata": {
        "colab": {
          "base_uri": "https://localhost:8080/",
          "height": 1000
        },
        "id": "diW4MGBN4QbX",
        "outputId": "3aedfa5f-cfdb-456a-8f4c-348bbd2debc8"
      },
      "execution_count": 30,
      "outputs": [
        {
          "output_type": "stream",
          "name": "stdout",
          "text": [
            "name :  embedding.weight\n",
            "name :  fc.weight\n",
            "name :  fc.bias\n",
            "[Train & Validation]\n",
            "Epoch: 1  | time in 0 minutes, 0 seconds\n",
            "\tLoss: 0.0709(train)\t|\tAcc: 66.3%(train)\n",
            "\tLoss: 0.0001(valid)\t|\tAcc: 80.2%(valid)\n",
            "Epoch: 2  | time in 0 minutes, 0 seconds\n",
            "\tLoss: 0.0282(train)\t|\tAcc: 83.7%(train)\n",
            "\tLoss: 0.0000(valid)\t|\tAcc: 81.5%(valid)\n",
            "Epoch: 3  | time in 0 minutes, 0 seconds\n",
            "\tLoss: 0.0165(train)\t|\tAcc: 90.7%(train)\n",
            "\tLoss: 0.0002(valid)\t|\tAcc: 76.0%(valid)\n",
            "Epoch: 4  | time in 0 minutes, 0 seconds\n",
            "\tLoss: 0.0091(train)\t|\tAcc: 95.2%(train)\n",
            "\tLoss: 0.0000(valid)\t|\tAcc: 87.5%(valid)\n",
            "Epoch: 5  | time in 0 minutes, 0 seconds\n",
            "\tLoss: 0.0050(train)\t|\tAcc: 97.9%(train)\n",
            "\tLoss: 0.0000(valid)\t|\tAcc: 87.0%(valid)\n",
            "Epoch: 6  | time in 0 minutes, 0 seconds\n",
            "\tLoss: 0.0030(train)\t|\tAcc: 99.3%(train)\n",
            "\tLoss: 0.0000(valid)\t|\tAcc: 87.7%(valid)\n",
            "Epoch: 7  | time in 0 minutes, 0 seconds\n",
            "\tLoss: 0.0019(train)\t|\tAcc: 99.7%(train)\n",
            "\tLoss: 0.0000(valid)\t|\tAcc: 87.2%(valid)\n",
            "Epoch: 8  | time in 0 minutes, 0 seconds\n",
            "\tLoss: 0.0014(train)\t|\tAcc: 99.9%(train)\n",
            "\tLoss: 0.0000(valid)\t|\tAcc: 87.9%(valid)\n",
            "Epoch: 9  | time in 0 minutes, 0 seconds\n",
            "\tLoss: 0.0011(train)\t|\tAcc: 99.9%(train)\n",
            "\tLoss: 0.0000(valid)\t|\tAcc: 87.2%(valid)\n",
            "Epoch: 10  | time in 0 minutes, 0 seconds\n",
            "\tLoss: 0.0010(train)\t|\tAcc: 99.9%(train)\n",
            "\tLoss: 0.0000(valid)\t|\tAcc: 87.5%(valid)\n",
            "[Test]\n",
            "\tLoss: 0.0018(test)\t|\tAcc: 86.4%(test)\n"
          ]
        },
        {
          "output_type": "display_data",
          "data": {
            "text/plain": [
              "<Figure size 432x432 with 1 Axes>"
            ],
            "image/png": "[encoded data removed]"
          },
          "metadata": {
            "needs_background": "light"
          }
        }
      ]
    },
    {
      "cell_type": "markdown",
      "source": [
        "BiLSTM: Random+FineTune"
      ],
      "metadata": {
        "id": "_2WnELOZNuJc"
      }
    },
    {
      "cell_type": "code",
      "source": [
        "model4 = BiLSTM3(VOCAB_SIZE, EMBED_DIM, num_class=NUM_CLASS, use_glove=False, fine_tune_embed=True).to(device)\n",
        "\n",
        "# Print weights and biases in each layer\n",
        "for name, param in model4.named_parameters():\n",
        "  print('name : ', name)\n",
        "  # print('param : ', param)\n",
        "\n",
        "model4_evaluator = TrainValTestBiLSTMModel(model = model4, collate_fn = collate_batch_padding2_coarse, n_epochs=10, batch_size=16, min_valid_loss=float('inf'))\n",
        "model4_evaluator.train_and_evaluate(train_dataset=coarse_train_dataset)\n",
        "model4_evaluator.test(test_dataset=coarse_test_dataset)\n",
        "model4_evaluator.loss_plot()"
      ],
      "metadata": {
        "colab": {
          "base_uri": "https://localhost:8080/",
          "height": 1000
        },
        "id": "UJjvPZhFNsoU",
        "outputId": "16b2b0cb-9641-49b3-df5c-0d39df7cecfe"
      },
      "execution_count": 31,
      "outputs": [
        {
          "output_type": "stream",
          "name": "stdout",
          "text": [
            "name :  embedding.weight\n",
            "name :  lstm.weight_ih_l0\n",
            "name :  lstm.weight_hh_l0\n",
            "name :  lstm.bias_ih_l0\n",
            "name :  lstm.bias_hh_l0\n",
            "name :  lstm.weight_ih_l0_reverse\n",
            "name :  lstm.weight_hh_l0_reverse\n",
            "name :  lstm.bias_ih_l0_reverse\n",
            "name :  lstm.bias_hh_l0_reverse\n",
            "name :  linear.weight\n",
            "name :  linear.bias\n",
            "name :  out.weight\n",
            "name :  out.bias\n",
            "[Train & Validation]\n",
            "Epoch: 1  | time in 0 minutes, 10 seconds\n",
            "\tLoss: 0.1229(train)\t|\tAcc: 21.6%(train)\n",
            "\tLoss: 0.0054(valid)\t|\tAcc: 21.1%(valid)\n",
            "Epoch: 2  | time in 0 minutes, 13 seconds\n",
            "\tLoss: 0.1081(train)\t|\tAcc: 20.9%(train)\n",
            "\tLoss: 0.0071(valid)\t|\tAcc: 24.4%(valid)\n",
            "Epoch: 3  | time in 0 minutes, 9 seconds\n",
            "\tLoss: 0.1073(train)\t|\tAcc: 20.6%(train)\n",
            "\tLoss: 0.0051(valid)\t|\tAcc: 17.2%(valid)\n",
            "Epoch: 4  | time in 0 minutes, 10 seconds\n",
            "\tLoss: 0.1072(train)\t|\tAcc: 20.6%(train)\n",
            "\tLoss: 0.0049(valid)\t|\tAcc: 21.1%(valid)\n",
            "Epoch: 5  | time in 0 minutes, 17 seconds\n",
            "\tLoss: 0.1064(train)\t|\tAcc: 21.4%(train)\n",
            "\tLoss: 0.0055(valid)\t|\tAcc: 21.1%(valid)\n",
            "Epoch: 6  | time in 0 minutes, 10 seconds\n",
            "\tLoss: 0.1059(train)\t|\tAcc: 21.4%(train)\n",
            "\tLoss: 0.0060(valid)\t|\tAcc: 24.4%(valid)\n",
            "Epoch: 7  | time in 0 minutes, 9 seconds\n",
            "\tLoss: 0.1054(train)\t|\tAcc: 21.6%(train)\n",
            "\tLoss: 0.0073(valid)\t|\tAcc: 24.4%(valid)\n",
            "Epoch: 8  | time in 0 minutes, 10 seconds\n",
            "\tLoss: 0.1054(train)\t|\tAcc: 21.3%(train)\n",
            "\tLoss: 0.0061(valid)\t|\tAcc: 21.1%(valid)\n",
            "Epoch: 9  | time in 0 minutes, 10 seconds\n",
            "\tLoss: 0.1050(train)\t|\tAcc: 23.2%(train)\n",
            "\tLoss: 0.0061(valid)\t|\tAcc: 24.4%(valid)\n",
            "Epoch: 10  | time in 0 minutes, 10 seconds\n",
            "\tLoss: 0.1048(train)\t|\tAcc: 22.2%(train)\n",
            "\tLoss: 0.0067(valid)\t|\tAcc: 20.1%(valid)\n",
            "[Test]\n",
            "\tLoss: 0.0064(test)\t|\tAcc: 27.6%(test)\n"
          ]
        },
        {
          "output_type": "display_data",
          "data": {
            "text/plain": [
              "<Figure size 432x432 with 1 Axes>"
            ],
            "image/png": "[encoded data removed]"
          },
          "metadata": {
            "needs_background": "light"
          }
        }
      ]
    },
    {
      "cell_type": "markdown",
      "source": [
        "BiLSTM: Glove+Freeze"
      ],
      "metadata": {
        "id": "9_raVhTKODNJ"
      }
    },
    {
      "cell_type": "code",
      "source": [
        "model5 = BiLSTM3(VOCAB_SIZE, EMBED_DIM, num_class=NUM_CLASS, use_glove=True, fine_tune_embed=False).to(device)\n",
        "\n",
        "# Print weights and biases in each layer\n",
        "for name, param in model5.named_parameters():\n",
        "  print('name : ', name)\n",
        "  # print('param : ', param)\n",
        "\n",
        "model5_evaluator = TrainValTestBiLSTMModel(model = model5, collate_fn = collate_batch_padding2_coarse, n_epochs=10, batch_size=16, min_valid_loss=float('inf'))\n",
        "model5_evaluator.train_and_evaluate(train_dataset=coarse_train_dataset)\n",
        "model5_evaluator.test(test_dataset=coarse_test_dataset)\n",
        "model5_evaluator.loss_plot()"
      ],
      "metadata": {
        "colab": {
          "base_uri": "https://localhost:8080/",
          "height": 1000
        },
        "id": "76lY3QggODSC",
        "outputId": "255fa140-45d6-4af8-d197-10737e9b7c40"
      },
      "execution_count": 32,
      "outputs": [
        {
          "output_type": "stream",
          "name": "stdout",
          "text": [
            "name :  embedding.weight\n",
            "name :  lstm.weight_ih_l0\n",
            "name :  lstm.weight_hh_l0\n",
            "name :  lstm.bias_ih_l0\n",
            "name :  lstm.bias_hh_l0\n",
            "name :  lstm.weight_ih_l0_reverse\n",
            "name :  lstm.weight_hh_l0_reverse\n",
            "name :  lstm.bias_ih_l0_reverse\n",
            "name :  lstm.bias_hh_l0_reverse\n",
            "name :  linear.weight\n",
            "name :  linear.bias\n",
            "name :  out.weight\n",
            "name :  out.bias\n",
            "[Train & Validation]\n",
            "Epoch: 1  | time in 0 minutes, 6 seconds\n",
            "\tLoss: 0.1344(train)\t|\tAcc: 21.9%(train)\n",
            "\tLoss: 0.0070(valid)\t|\tAcc: 19.4%(valid)\n",
            "Epoch: 2  | time in 0 minutes, 8 seconds\n",
            "\tLoss: 0.1077(train)\t|\tAcc: 20.9%(train)\n",
            "\tLoss: 0.0066(valid)\t|\tAcc: 21.4%(valid)\n",
            "Epoch: 3  | time in 0 minutes, 6 seconds\n",
            "\tLoss: 0.1070(train)\t|\tAcc: 21.3%(train)\n",
            "\tLoss: 0.0063(valid)\t|\tAcc: 21.4%(valid)\n",
            "Epoch: 4  | time in 0 minutes, 7 seconds\n",
            "\tLoss: 0.1065(train)\t|\tAcc: 21.4%(train)\n",
            "\tLoss: 0.0071(valid)\t|\tAcc: 21.4%(valid)\n",
            "Epoch: 5  | time in 0 minutes, 5 seconds\n",
            "\tLoss: 0.1058(train)\t|\tAcc: 23.0%(train)\n",
            "\tLoss: 0.0068(valid)\t|\tAcc: 19.4%(valid)\n",
            "Epoch: 6  | time in 0 minutes, 7 seconds\n",
            "\tLoss: 0.1061(train)\t|\tAcc: 20.8%(train)\n",
            "\tLoss: 0.0062(valid)\t|\tAcc: 21.4%(valid)\n",
            "Epoch: 7  | time in 0 minutes, 6 seconds\n",
            "\tLoss: 0.1053(train)\t|\tAcc: 21.7%(train)\n",
            "\tLoss: 0.0063(valid)\t|\tAcc: 20.7%(valid)\n",
            "Epoch: 8  | time in 0 minutes, 7 seconds\n",
            "\tLoss: 0.1053(train)\t|\tAcc: 21.4%(train)\n",
            "\tLoss: 0.0064(valid)\t|\tAcc: 19.4%(valid)\n",
            "Epoch: 9  | time in 0 minutes, 7 seconds\n",
            "\tLoss: 0.1052(train)\t|\tAcc: 21.7%(train)\n",
            "\tLoss: 0.0064(valid)\t|\tAcc: 21.4%(valid)\n",
            "Epoch: 10  | time in 0 minutes, 7 seconds\n",
            "\tLoss: 0.1049(train)\t|\tAcc: 22.2%(train)\n",
            "\tLoss: 0.0048(valid)\t|\tAcc: 20.7%(valid)\n",
            "[Test]\n",
            "\tLoss: 0.0059(test)\t|\tAcc: 18.8%(test)\n"
          ]
        },
        {
          "output_type": "display_data",
          "data": {
            "text/plain": [
              "<Figure size 432x432 with 1 Axes>"
            ],
            "image/png": "[encoded data removed]"
          },
          "metadata": {
            "needs_background": "light"
          }
        }
      ]
    },
    {
      "cell_type": "markdown",
      "source": [
        "BiLSTM: Glove+FineTune"
      ],
      "metadata": {
        "id": "PLegFsZoOEOp"
      }
    },
    {
      "cell_type": "code",
      "source": [
        "model6 = BiLSTM3(VOCAB_SIZE, EMBED_DIM, num_class=NUM_CLASS, use_glove=True, fine_tune_embed=True).to(device)\n",
        "\n",
        "# Print weights and biases in each layer\n",
        "for name, param in model6.named_parameters():\n",
        "  print('name : ', name)\n",
        "  # print('param : ', param)\n",
        "\n",
        "model6_evaluator = TrainValTestBiLSTMModel(model = model6, collate_fn = collate_batch_padding2_coarse, n_epochs=10, batch_size=16, min_valid_loss=float('inf'))\n",
        "model6_evaluator.train_and_evaluate(train_dataset=coarse_train_dataset)\n",
        "model6_evaluator.test(test_dataset=coarse_test_dataset)\n",
        "model6_evaluator.loss_plot()"
      ],
      "metadata": {
        "colab": {
          "base_uri": "https://localhost:8080/",
          "height": 1000
        },
        "id": "V-qfVF8OOEUw",
        "outputId": "db2318f3-5da1-42f9-aa76-67539022ce8e"
      },
      "execution_count": 33,
      "outputs": [
        {
          "output_type": "stream",
          "name": "stdout",
          "text": [
            "name :  embedding.weight\n",
            "name :  lstm.weight_ih_l0\n",
            "name :  lstm.weight_hh_l0\n",
            "name :  lstm.bias_ih_l0\n",
            "name :  lstm.bias_hh_l0\n",
            "name :  lstm.weight_ih_l0_reverse\n",
            "name :  lstm.weight_hh_l0_reverse\n",
            "name :  lstm.bias_ih_l0_reverse\n",
            "name :  lstm.bias_hh_l0_reverse\n",
            "name :  linear.weight\n",
            "name :  linear.bias\n",
            "name :  out.weight\n",
            "name :  out.bias\n",
            "[Train & Validation]\n",
            "Epoch: 1  | time in 0 minutes, 8 seconds\n",
            "\tLoss: 0.1261(train)\t|\tAcc: 21.5%(train)\n",
            "\tLoss: 0.0045(valid)\t|\tAcc: 23.3%(valid)\n",
            "Epoch: 2  | time in 0 minutes, 10 seconds\n",
            "\tLoss: 0.1084(train)\t|\tAcc: 21.0%(train)\n",
            "\tLoss: 0.0055(valid)\t|\tAcc: 15.9%(valid)\n",
            "Epoch: 3  | time in 0 minutes, 9 seconds\n",
            "\tLoss: 0.1073(train)\t|\tAcc: 21.4%(train)\n",
            "\tLoss: 0.0045(valid)\t|\tAcc: 23.3%(valid)\n",
            "Epoch: 4  | time in 0 minutes, 8 seconds\n",
            "\tLoss: 0.1064(train)\t|\tAcc: 21.5%(train)\n",
            "\tLoss: 0.0061(valid)\t|\tAcc: 23.3%(valid)\n",
            "Epoch: 5  | time in 0 minutes, 10 seconds\n",
            "\tLoss: 0.1065(train)\t|\tAcc: 21.2%(train)\n",
            "\tLoss: 0.0065(valid)\t|\tAcc: 15.9%(valid)\n",
            "Epoch: 6  | time in 0 minutes, 9 seconds\n",
            "\tLoss: 0.1061(train)\t|\tAcc: 21.5%(train)\n",
            "\tLoss: 0.0052(valid)\t|\tAcc: 20.3%(valid)\n",
            "Epoch: 7  | time in 0 minutes, 8 seconds\n",
            "\tLoss: 0.1055(train)\t|\tAcc: 21.7%(train)\n",
            "\tLoss: 0.0057(valid)\t|\tAcc: 22.0%(valid)\n",
            "Epoch: 8  | time in 0 minutes, 11 seconds\n",
            "\tLoss: 0.1056(train)\t|\tAcc: 21.2%(train)\n",
            "\tLoss: 0.0046(valid)\t|\tAcc: 23.3%(valid)\n",
            "Epoch: 9  | time in 0 minutes, 9 seconds\n",
            "\tLoss: 0.1050(train)\t|\tAcc: 22.0%(train)\n",
            "\tLoss: 0.0050(valid)\t|\tAcc: 20.3%(valid)\n",
            "Epoch: 10  | time in 0 minutes, 8 seconds\n",
            "\tLoss: 0.1048(train)\t|\tAcc: 21.6%(train)\n",
            "\tLoss: 0.0062(valid)\t|\tAcc: 22.0%(valid)\n",
            "[Test]\n",
            "\tLoss: 0.0062(test)\t|\tAcc: 27.6%(test)\n"
          ]
        },
        {
          "output_type": "display_data",
          "data": {
            "text/plain": [
              "<Figure size 432x432 with 1 Axes>"
            ],
            "image/png": "[encoded data removed]"
          },
          "metadata": {
            "needs_background": "light"
          }
        }
      ]
    },
    {
      "cell_type": "markdown",
      "source": [
        "## Fine Classification"
      ],
      "metadata": {
        "id": "yqTAjpys4iL0"
      }
    },
    {
      "cell_type": "markdown",
      "source": [
        "Bag of Words: Random+FineTune"
      ],
      "metadata": {
        "id": "h2PZAWnm5Hde"
      }
    },
    {
      "cell_type": "code",
      "source": [
        "model7 = QuestionClassifier(VOCAB_SIZE, EMBED_DIM, NUM_CLASS, use_glove=False, fine_tune_embed=True).to(device)\n",
        "\n",
        "# Print weights and biases in each layer\n",
        "for name, param in model7.named_parameters():\n",
        "  print('name : ', name)\n",
        "  # print('param : ', param)\n",
        "\n",
        "model7_evaluator = TrainValTestModel(model = model7, collate_fn = collate_batch_fine, n_epochs=10, batch_size=16, min_valid_loss=float('inf'))\n",
        "model7_evaluator.train_and_evaluate(train_dataset=fine_train_dataset)\n",
        "model7_evaluator.test(test_dataset=fine_test_dataset)\n",
        "model7_evaluator.loss_plot()"
      ],
      "metadata": {
        "colab": {
          "base_uri": "https://localhost:8080/",
          "height": 1000
        },
        "id": "fsqewPNG4jiT",
        "outputId": "7c1a05d1-802c-4f40-e279-9d81287dd207"
      },
      "execution_count": 34,
      "outputs": [
        {
          "output_type": "stream",
          "name": "stdout",
          "text": [
            "name :  embedding.weight\n",
            "name :  fc.weight\n",
            "name :  fc.bias\n",
            "[Train & Validation]\n",
            "Epoch: 1  | time in 0 minutes, 0 seconds\n",
            "\tLoss: 0.1155(train)\t|\tAcc: 55.0%(train)\n",
            "\tLoss: 0.0014(valid)\t|\tAcc: 55.1%(valid)\n",
            "Epoch: 2  | time in 0 minutes, 0 seconds\n",
            "\tLoss: 0.0596(train)\t|\tAcc: 75.5%(train)\n",
            "\tLoss: 0.0010(valid)\t|\tAcc: 65.4%(valid)\n",
            "Epoch: 3  | time in 0 minutes, 0 seconds\n",
            "\tLoss: 0.0345(train)\t|\tAcc: 86.3%(train)\n",
            "\tLoss: 0.0003(valid)\t|\tAcc: 70.7%(valid)\n",
            "Epoch: 4  | time in 0 minutes, 0 seconds\n",
            "\tLoss: 0.0192(train)\t|\tAcc: 93.6%(train)\n",
            "\tLoss: 0.0003(valid)\t|\tAcc: 71.2%(valid)\n",
            "Epoch: 5  | time in 0 minutes, 0 seconds\n",
            "\tLoss: 0.0110(train)\t|\tAcc: 97.5%(train)\n",
            "\tLoss: 0.0002(valid)\t|\tAcc: 71.1%(valid)\n",
            "Epoch: 6  | time in 0 minutes, 0 seconds\n",
            "\tLoss: 0.0068(train)\t|\tAcc: 98.9%(train)\n",
            "\tLoss: 0.0002(valid)\t|\tAcc: 73.8%(valid)\n",
            "Epoch: 7  | time in 0 minutes, 0 seconds\n",
            "\tLoss: 0.0047(train)\t|\tAcc: 99.5%(train)\n",
            "\tLoss: 0.0001(valid)\t|\tAcc: 73.8%(valid)\n",
            "Epoch: 8  | time in 0 minutes, 0 seconds\n",
            "\tLoss: 0.0036(train)\t|\tAcc: 99.7%(train)\n",
            "\tLoss: 0.0002(valid)\t|\tAcc: 73.3%(valid)\n",
            "Epoch: 9  | time in 0 minutes, 0 seconds\n",
            "\tLoss: 0.0029(train)\t|\tAcc: 99.9%(train)\n",
            "\tLoss: 0.0001(valid)\t|\tAcc: 73.8%(valid)\n",
            "Epoch: 10  | time in 0 minutes, 0 seconds\n",
            "\tLoss: 0.0025(train)\t|\tAcc: 99.9%(train)\n",
            "\tLoss: 0.0001(valid)\t|\tAcc: 73.6%(valid)\n",
            "[Test]\n",
            "\tLoss: 0.0069(test)\t|\tAcc: 77.4%(test)\n"
          ]
        },
        {
          "output_type": "display_data",
          "data": {
            "text/plain": [
              "<Figure size 432x432 with 1 Axes>"
            ],
            "image/png": "[encoded data removed]"
          },
          "metadata": {
            "needs_background": "light"
          }
        }
      ]
    },
    {
      "cell_type": "markdown",
      "source": [
        "Bag of Words: Glove+Freeze"
      ],
      "metadata": {
        "id": "_8rVdxfz5_yo"
      }
    },
    {
      "cell_type": "code",
      "source": [
        "model8 = QuestionClassifier(VOCAB_SIZE, EMBED_DIM, NUM_CLASS, use_glove=True, fine_tune_embed=False).to(device)\n",
        "\n",
        "# Print weights and biases in each layer\n",
        "for name, param in model8.named_parameters():\n",
        "  print('name : ', name)\n",
        "  # print('param : ', param)\n",
        "\n",
        "model8_evaluator = TrainValTestModel(model = model8, collate_fn = collate_batch_fine, n_epochs=10, batch_size=16, min_valid_loss=float('inf'))\n",
        "model8_evaluator.train_and_evaluate(train_dataset=fine_train_dataset)\n",
        "model8_evaluator.test(test_dataset=fine_test_dataset)\n",
        "model8_evaluator.loss_plot()"
      ],
      "metadata": {
        "colab": {
          "base_uri": "https://localhost:8080/",
          "height": 1000
        },
        "id": "wVsteh9055m2",
        "outputId": "2d3a0d02-6f3e-4ade-879d-1c6422ce5971"
      },
      "execution_count": 35,
      "outputs": [
        {
          "output_type": "stream",
          "name": "stdout",
          "text": [
            "name :  embedding.weight\n",
            "name :  fc.weight\n",
            "name :  fc.bias\n",
            "[Train & Validation]\n",
            "Epoch: 1  | time in 0 minutes, 0 seconds\n",
            "\tLoss: 0.2643(train)\t|\tAcc: 33.3%(train)\n",
            "\tLoss: 0.0066(valid)\t|\tAcc: 39.0%(valid)\n",
            "Epoch: 2  | time in 0 minutes, 0 seconds\n",
            "\tLoss: 0.1090(train)\t|\tAcc: 56.6%(train)\n",
            "\tLoss: 0.0041(valid)\t|\tAcc: 43.6%(valid)\n",
            "Epoch: 3  | time in 0 minutes, 0 seconds\n",
            "\tLoss: 0.0846(train)\t|\tAcc: 63.9%(train)\n",
            "\tLoss: 0.0115(valid)\t|\tAcc: 56.4%(valid)\n",
            "Epoch: 4  | time in 0 minutes, 0 seconds\n",
            "\tLoss: 0.0663(train)\t|\tAcc: 69.8%(train)\n",
            "\tLoss: 0.0126(valid)\t|\tAcc: 52.7%(valid)\n",
            "Epoch: 5  | time in 0 minutes, 0 seconds\n",
            "\tLoss: 0.0585(train)\t|\tAcc: 73.6%(train)\n",
            "\tLoss: 0.0097(valid)\t|\tAcc: 52.0%(valid)\n",
            "Epoch: 6  | time in 0 minutes, 0 seconds\n",
            "\tLoss: 0.0531(train)\t|\tAcc: 75.9%(train)\n",
            "\tLoss: 0.0082(valid)\t|\tAcc: 53.1%(valid)\n",
            "Epoch: 7  | time in 0 minutes, 0 seconds\n",
            "\tLoss: 0.0478(train)\t|\tAcc: 77.6%(train)\n",
            "\tLoss: 0.0074(valid)\t|\tAcc: 57.5%(valid)\n",
            "Epoch: 8  | time in 0 minutes, 0 seconds\n",
            "\tLoss: 0.0441(train)\t|\tAcc: 79.0%(train)\n",
            "\tLoss: 0.0079(valid)\t|\tAcc: 57.3%(valid)\n",
            "Epoch: 9  | time in 0 minutes, 0 seconds\n",
            "\tLoss: 0.0408(train)\t|\tAcc: 81.0%(train)\n",
            "\tLoss: 0.0077(valid)\t|\tAcc: 58.6%(valid)\n",
            "Epoch: 10  | time in 0 minutes, 0 seconds\n",
            "\tLoss: 0.0392(train)\t|\tAcc: 81.7%(train)\n",
            "\tLoss: 0.0105(valid)\t|\tAcc: 59.0%(valid)\n",
            "[Test]\n",
            "\tLoss: 0.0094(test)\t|\tAcc: 68.6%(test)\n"
          ]
        },
        {
          "output_type": "display_data",
          "data": {
            "text/plain": [
              "<Figure size 432x432 with 1 Axes>"
            ],
            "image/png": "[encoded data removed]"
          },
          "metadata": {
            "needs_background": "light"
          }
        }
      ]
    },
    {
      "cell_type": "markdown",
      "source": [
        "Bag of Words: Glove+FineTune"
      ],
      "metadata": {
        "id": "rYI76RLZ6M4P"
      }
    },
    {
      "cell_type": "code",
      "source": [
        "model9 = QuestionClassifier(VOCAB_SIZE, EMBED_DIM, NUM_CLASS, use_glove=True, fine_tune_embed=True).to(device)\n",
        "\n",
        "# Print weights and biases in each layer\n",
        "for name, param in model9.named_parameters():\n",
        "  print('name : ', name)\n",
        "  # print('param : ', param)\n",
        "\n",
        "model9_evaluator = TrainValTestModel(model = model9, collate_fn = collate_batch_fine, n_epochs=10, batch_size=16, min_valid_loss=float('inf'))\n",
        "model9_evaluator.train_and_evaluate(train_dataset=fine_train_dataset)\n",
        "model9_evaluator.test(test_dataset=fine_test_dataset)\n",
        "model9_evaluator.loss_plot()"
      ],
      "metadata": {
        "colab": {
          "base_uri": "https://localhost:8080/",
          "height": 1000
        },
        "id": "vueOcFPD6Q0T",
        "outputId": "b011f618-25a6-4e5d-81f0-86bb7a6ed185"
      },
      "execution_count": 36,
      "outputs": [
        {
          "output_type": "stream",
          "name": "stdout",
          "text": [
            "name :  embedding.weight\n",
            "name :  fc.weight\n",
            "name :  fc.bias\n",
            "[Train & Validation]\n",
            "Epoch: 1  | time in 0 minutes, 0 seconds\n",
            "\tLoss: 0.1053(train)\t|\tAcc: 59.2%(train)\n",
            "\tLoss: 0.0078(valid)\t|\tAcc: 65.4%(valid)\n",
            "Epoch: 2  | time in 0 minutes, 0 seconds\n",
            "\tLoss: 0.0415(train)\t|\tAcc: 81.5%(train)\n",
            "\tLoss: 0.0050(valid)\t|\tAcc: 72.0%(valid)\n",
            "Epoch: 3  | time in 0 minutes, 0 seconds\n",
            "\tLoss: 0.0213(train)\t|\tAcc: 91.6%(train)\n",
            "\tLoss: 0.0036(valid)\t|\tAcc: 74.0%(valid)\n",
            "Epoch: 4  | time in 0 minutes, 0 seconds\n",
            "\tLoss: 0.0113(train)\t|\tAcc: 96.6%(train)\n",
            "\tLoss: 0.0026(valid)\t|\tAcc: 72.0%(valid)\n",
            "Epoch: 5  | time in 0 minutes, 0 seconds\n",
            "\tLoss: 0.0066(train)\t|\tAcc: 98.8%(train)\n",
            "\tLoss: 0.0035(valid)\t|\tAcc: 74.5%(valid)\n",
            "Epoch: 6  | time in 0 minutes, 0 seconds\n",
            "\tLoss: 0.0042(train)\t|\tAcc: 99.5%(train)\n",
            "\tLoss: 0.0034(valid)\t|\tAcc: 75.6%(valid)\n",
            "Epoch: 7  | time in 0 minutes, 0 seconds\n",
            "\tLoss: 0.0031(train)\t|\tAcc: 99.8%(train)\n",
            "\tLoss: 0.0033(valid)\t|\tAcc: 76.6%(valid)\n",
            "Epoch: 8  | time in 0 minutes, 0 seconds\n",
            "\tLoss: 0.0024(train)\t|\tAcc: 99.9%(train)\n",
            "\tLoss: 0.0036(valid)\t|\tAcc: 75.5%(valid)\n",
            "Epoch: 9  | time in 0 minutes, 0 seconds\n",
            "\tLoss: 0.0021(train)\t|\tAcc: 99.9%(train)\n",
            "\tLoss: 0.0039(valid)\t|\tAcc: 75.1%(valid)\n",
            "Epoch: 10  | time in 0 minutes, 0 seconds\n",
            "\tLoss: 0.0018(train)\t|\tAcc: 99.9%(train)\n",
            "\tLoss: 0.0037(valid)\t|\tAcc: 76.2%(valid)\n",
            "[Test]\n",
            "\tLoss: 0.0081(test)\t|\tAcc: 78.8%(test)\n"
          ]
        },
        {
          "output_type": "display_data",
          "data": {
            "text/plain": [
              "<Figure size 432x432 with 1 Axes>"
            ],
            "image/png": "[encoded data removed]"
          },
          "metadata": {
            "needs_background": "light"
          }
        }
      ]
    },
    {
      "cell_type": "markdown",
      "source": [
        "BiLSTM: Random+FineTune"
      ],
      "metadata": {
        "id": "XcN4HcRQQKwR"
      }
    },
    {
      "cell_type": "code",
      "source": [
        "model10 = BiLSTM3(VOCAB_SIZE, EMBED_DIM, num_class=NUM_CLASS, use_glove=False, fine_tune_embed=True).to(device)\n",
        "\n",
        "# Print weights and biases in each layer\n",
        "for name, param in model10.named_parameters():\n",
        "  print('name : ', name)\n",
        "  # print('param : ', param)\n",
        "\n",
        "model10_evaluator = TrainValTestBiLSTMModel(model = model10, collate_fn = collate_batch_padding2_fine, n_epochs=10, batch_size=16, min_valid_loss=float('inf'))\n",
        "model10_evaluator.train_and_evaluate(train_dataset=fine_train_dataset)\n",
        "model10_evaluator.test(test_dataset=fine_test_dataset)\n",
        "model10_evaluator.loss_plot()"
      ],
      "metadata": {
        "colab": {
          "base_uri": "https://localhost:8080/",
          "height": 1000
        },
        "id": "tBCZzwDJQK0y",
        "outputId": "ddc35dfb-d70e-4163-9a8d-fc1c24c1c13b"
      },
      "execution_count": 37,
      "outputs": [
        {
          "output_type": "stream",
          "name": "stdout",
          "text": [
            "name :  embedding.weight\n",
            "name :  lstm.weight_ih_l0\n",
            "name :  lstm.weight_hh_l0\n",
            "name :  lstm.bias_ih_l0\n",
            "name :  lstm.bias_hh_l0\n",
            "name :  lstm.weight_ih_l0_reverse\n",
            "name :  lstm.weight_hh_l0_reverse\n",
            "name :  lstm.bias_ih_l0_reverse\n",
            "name :  lstm.bias_hh_l0_reverse\n",
            "name :  linear.weight\n",
            "name :  linear.bias\n",
            "name :  out.weight\n",
            "name :  out.bias\n",
            "[Train & Validation]\n",
            "Epoch: 1  | time in 0 minutes, 9 seconds\n",
            "\tLoss: 0.2064(train)\t|\tAcc: 15.6%(train)\n",
            "\tLoss: 0.0124(valid)\t|\tAcc: 8.2%(valid)\n",
            "Epoch: 2  | time in 0 minutes, 9 seconds\n",
            "\tLoss: 0.2033(train)\t|\tAcc: 16.1%(train)\n",
            "\tLoss: 0.0149(valid)\t|\tAcc: 8.2%(valid)\n",
            "Epoch: 3  | time in 0 minutes, 8 seconds\n",
            "\tLoss: 0.2029(train)\t|\tAcc: 16.8%(train)\n",
            "\tLoss: 0.0136(valid)\t|\tAcc: 15.9%(valid)\n",
            "Epoch: 4  | time in 0 minutes, 9 seconds\n",
            "\tLoss: 0.2024(train)\t|\tAcc: 16.9%(train)\n",
            "\tLoss: 0.0127(valid)\t|\tAcc: 15.9%(valid)\n",
            "Epoch: 5  | time in 0 minutes, 9 seconds\n",
            "\tLoss: 0.2021(train)\t|\tAcc: 17.2%(train)\n",
            "\tLoss: 0.0139(valid)\t|\tAcc: 8.2%(valid)\n",
            "Epoch: 6  | time in 0 minutes, 8 seconds\n",
            "\tLoss: 0.2021(train)\t|\tAcc: 17.1%(train)\n",
            "\tLoss: 0.0132(valid)\t|\tAcc: 15.9%(valid)\n",
            "Epoch: 7  | time in 0 minutes, 9 seconds\n",
            "\tLoss: 0.2019(train)\t|\tAcc: 17.4%(train)\n",
            "\tLoss: 0.0137(valid)\t|\tAcc: 15.9%(valid)\n",
            "Epoch: 8  | time in 0 minutes, 9 seconds\n",
            "\tLoss: 0.2015(train)\t|\tAcc: 17.6%(train)\n",
            "\tLoss: 0.0129(valid)\t|\tAcc: 15.9%(valid)\n",
            "Epoch: 9  | time in 0 minutes, 8 seconds\n",
            "\tLoss: 0.2013(train)\t|\tAcc: 17.7%(train)\n",
            "\tLoss: 0.0126(valid)\t|\tAcc: 15.9%(valid)\n",
            "Epoch: 10  | time in 0 minutes, 9 seconds\n",
            "\tLoss: 0.2011(train)\t|\tAcc: 17.7%(train)\n",
            "\tLoss: 0.0129(valid)\t|\tAcc: 15.9%(valid)\n",
            "[Test]\n",
            "\tLoss: 0.0175(test)\t|\tAcc: 11.0%(test)\n"
          ]
        },
        {
          "output_type": "display_data",
          "data": {
            "text/plain": [
              "<Figure size 432x432 with 1 Axes>"
            ],
            "image/png": "[encoded data removed]"
          },
          "metadata": {
            "needs_background": "light"
          }
        }
      ]
    },
    {
      "cell_type": "markdown",
      "source": [
        "BiLSTM: Glove+Freeze"
      ],
      "metadata": {
        "id": "lXK6W1tcQK59"
      }
    },
    {
      "cell_type": "code",
      "source": [
        "model11 = BiLSTM3(VOCAB_SIZE, EMBED_DIM, num_class=NUM_CLASS, use_glove=True, fine_tune_embed=False).to(device)\n",
        "\n",
        "# Print weights and biases in each layer\n",
        "for name, param in model11.named_parameters():\n",
        "  print('name : ', name)\n",
        "  # print('param : ', param)\n",
        "\n",
        "model11_evaluator = TrainValTestBiLSTMModel(model = model11, collate_fn = collate_batch_padding2_fine, n_epochs=10, batch_size=16, min_valid_loss=float('inf'))\n",
        "model11_evaluator.train_and_evaluate(train_dataset=fine_train_dataset)\n",
        "model11_evaluator.test(test_dataset=fine_test_dataset)\n",
        "model11_evaluator.loss_plot()"
      ],
      "metadata": {
        "colab": {
          "base_uri": "https://localhost:8080/",
          "height": 1000
        },
        "id": "D1L8XoJtQK-Y",
        "outputId": "9562c9f3-54e2-426f-8b4c-a346912a07f2"
      },
      "execution_count": 38,
      "outputs": [
        {
          "output_type": "stream",
          "name": "stdout",
          "text": [
            "name :  embedding.weight\n",
            "name :  lstm.weight_ih_l0\n",
            "name :  lstm.weight_hh_l0\n",
            "name :  lstm.bias_ih_l0\n",
            "name :  lstm.bias_hh_l0\n",
            "name :  lstm.weight_ih_l0_reverse\n",
            "name :  lstm.weight_hh_l0_reverse\n",
            "name :  lstm.bias_ih_l0_reverse\n",
            "name :  lstm.bias_hh_l0_reverse\n",
            "name :  linear.weight\n",
            "name :  linear.bias\n",
            "name :  out.weight\n",
            "name :  out.bias\n",
            "[Train & Validation]\n",
            "Epoch: 1  | time in 0 minutes, 7 seconds\n",
            "\tLoss: 0.6310(train)\t|\tAcc: 15.6%(train)\n",
            "\tLoss: 0.0133(valid)\t|\tAcc: 16.7%(valid)\n",
            "Epoch: 2  | time in 0 minutes, 7 seconds\n",
            "\tLoss: 0.2029(train)\t|\tAcc: 15.9%(train)\n",
            "\tLoss: 0.0140(valid)\t|\tAcc: 16.7%(valid)\n",
            "Epoch: 3  | time in 0 minutes, 6 seconds\n",
            "\tLoss: 0.2030(train)\t|\tAcc: 16.3%(train)\n",
            "\tLoss: 0.0122(valid)\t|\tAcc: 11.5%(valid)\n",
            "Epoch: 4  | time in 0 minutes, 7 seconds\n",
            "\tLoss: 0.2023(train)\t|\tAcc: 17.0%(train)\n",
            "\tLoss: 0.0132(valid)\t|\tAcc: 4.6%(valid)\n",
            "Epoch: 5  | time in 0 minutes, 6 seconds\n",
            "\tLoss: 0.2019(train)\t|\tAcc: 16.9%(train)\n",
            "\tLoss: 0.0119(valid)\t|\tAcc: 11.5%(valid)\n",
            "Epoch: 6  | time in 0 minutes, 9 seconds\n",
            "\tLoss: 0.2016(train)\t|\tAcc: 17.1%(train)\n",
            "\tLoss: 0.0126(valid)\t|\tAcc: 4.6%(valid)\n",
            "Epoch: 7  | time in 0 minutes, 6 seconds\n",
            "\tLoss: 0.2014(train)\t|\tAcc: 17.5%(train)\n",
            "\tLoss: 0.0131(valid)\t|\tAcc: 16.7%(valid)\n",
            "Epoch: 8  | time in 0 minutes, 7 seconds\n",
            "\tLoss: 0.2013(train)\t|\tAcc: 17.4%(train)\n",
            "\tLoss: 0.0123(valid)\t|\tAcc: 16.7%(valid)\n",
            "Epoch: 9  | time in 0 minutes, 6 seconds\n",
            "\tLoss: 0.2008(train)\t|\tAcc: 17.7%(train)\n",
            "\tLoss: 0.0131(valid)\t|\tAcc: 16.7%(valid)\n",
            "Epoch: 10  | time in 0 minutes, 9 seconds\n",
            "\tLoss: 0.2008(train)\t|\tAcc: 17.6%(train)\n",
            "\tLoss: 0.0123(valid)\t|\tAcc: 16.7%(valid)\n",
            "[Test]\n",
            "\tLoss: 0.0182(test)\t|\tAcc: 11.0%(test)\n"
          ]
        },
        {
          "output_type": "display_data",
          "data": {
            "text/plain": [
              "<Figure size 432x432 with 1 Axes>"
            ],
            "image/png": "[encoded data removed]"
          },
          "metadata": {
            "needs_background": "light"
          }
        }
      ]
    },
    {
      "cell_type": "markdown",
      "source": [
        "BiLSTM: Glove+FineTune"
      ],
      "metadata": {
        "id": "7xcb4NWOQLCn"
      }
    },
    {
      "cell_type": "code",
      "source": [
        "model12 = BiLSTM3(VOCAB_SIZE, EMBED_DIM, num_class=NUM_CLASS, use_glove=True, fine_tune_embed=True).to(device)\n",
        "\n",
        "# Print weights and biases in each layer\n",
        "for name, param in model12.named_parameters():\n",
        "  print('name : ', name)\n",
        "  # print('param : ', param)\n",
        "\n",
        "model12_evaluator = TrainValTestBiLSTMModel(model = model12, collate_fn = collate_batch_padding2_fine, n_epochs=10, batch_size=16, min_valid_loss=float('inf'))\n",
        "model12_evaluator.train_and_evaluate(train_dataset=fine_train_dataset)\n",
        "model12_evaluator.test(test_dataset=fine_test_dataset)\n",
        "model12_evaluator.loss_plot()"
      ],
      "metadata": {
        "colab": {
          "base_uri": "https://localhost:8080/",
          "height": 1000
        },
        "id": "iht066wEQLGV",
        "outputId": "464241e2-5c36-4997-8e49-93a84eb53d27"
      },
      "execution_count": 39,
      "outputs": [
        {
          "output_type": "stream",
          "name": "stdout",
          "text": [
            "name :  embedding.weight\n",
            "name :  lstm.weight_ih_l0\n",
            "name :  lstm.weight_hh_l0\n",
            "name :  lstm.bias_ih_l0\n",
            "name :  lstm.bias_hh_l0\n",
            "name :  lstm.weight_ih_l0_reverse\n",
            "name :  lstm.weight_hh_l0_reverse\n",
            "name :  lstm.bias_ih_l0_reverse\n",
            "name :  lstm.bias_hh_l0_reverse\n",
            "name :  linear.weight\n",
            "name :  linear.bias\n",
            "name :  out.weight\n",
            "name :  out.bias\n",
            "[Train & Validation]\n",
            "Epoch: 1  | time in 0 minutes, 9 seconds\n",
            "\tLoss: 0.2065(train)\t|\tAcc: 15.7%(train)\n",
            "\tLoss: 0.0150(valid)\t|\tAcc: 8.8%(valid)\n",
            "Epoch: 2  | time in 0 minutes, 8 seconds\n",
            "\tLoss: 0.2037(train)\t|\tAcc: 15.9%(train)\n",
            "\tLoss: 0.0152(valid)\t|\tAcc: 2.9%(valid)\n",
            "Epoch: 3  | time in 0 minutes, 10 seconds\n",
            "\tLoss: 0.2033(train)\t|\tAcc: 16.1%(train)\n",
            "\tLoss: 0.0142(valid)\t|\tAcc: 19.2%(valid)\n",
            "Epoch: 4  | time in 0 minutes, 9 seconds\n",
            "\tLoss: 0.2030(train)\t|\tAcc: 16.7%(train)\n",
            "\tLoss: 0.0132(valid)\t|\tAcc: 19.2%(valid)\n",
            "Epoch: 5  | time in 0 minutes, 8 seconds\n",
            "\tLoss: 0.2025(train)\t|\tAcc: 16.3%(train)\n",
            "\tLoss: 0.0144(valid)\t|\tAcc: 19.2%(valid)\n",
            "Epoch: 6  | time in 0 minutes, 9 seconds\n",
            "\tLoss: 0.2021(train)\t|\tAcc: 17.0%(train)\n",
            "\tLoss: 0.0139(valid)\t|\tAcc: 19.2%(valid)\n",
            "Epoch: 7  | time in 0 minutes, 9 seconds\n",
            "\tLoss: 0.2020(train)\t|\tAcc: 17.1%(train)\n",
            "\tLoss: 0.0136(valid)\t|\tAcc: 19.2%(valid)\n",
            "Epoch: 8  | time in 0 minutes, 8 seconds\n",
            "\tLoss: 0.2016(train)\t|\tAcc: 17.3%(train)\n",
            "\tLoss: 0.0138(valid)\t|\tAcc: 19.2%(valid)\n",
            "Epoch: 9  | time in 0 minutes, 9 seconds\n",
            "\tLoss: 0.2015(train)\t|\tAcc: 17.1%(train)\n",
            "\tLoss: 0.0143(valid)\t|\tAcc: 19.2%(valid)\n",
            "Epoch: 10  | time in 0 minutes, 10 seconds\n",
            "\tLoss: 0.2014(train)\t|\tAcc: 17.4%(train)\n",
            "\tLoss: 0.0132(valid)\t|\tAcc: 8.8%(valid)\n",
            "[Test]\n",
            "\tLoss: 0.0170(test)\t|\tAcc: 10.0%(test)\n"
          ]
        },
        {
          "output_type": "display_data",
          "data": {
            "text/plain": [
              "<Figure size 432x432 with 1 Axes>"
            ],
            "image/png": "[encoded data removed]"
          },
          "metadata": {
            "needs_background": "light"
          }
        }
      ]
    }
  ]
}