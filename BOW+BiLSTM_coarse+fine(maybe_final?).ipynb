{
  "cells": [
    {
      "cell_type": "markdown",
      "metadata": {
        "id": "view-in-github",
        "colab_type": "text"
      },
      "source": [
        "<a href=\"https://colab.research.google.com/github/ramprasadsingh1/TREC_question_classification/blob/main/BOW%2BBiLSTM_coarse%2Bfine(maybe_final%3F).ipynb\" target=\"_parent\"><img src=\"https://colab.research.google.com/assets/colab-badge.svg\" alt=\"Open In Colab\"/></a>"
      ]
    },
    {
      "cell_type": "code",
      "execution_count": 1,
      "metadata": {
        "id": "lIuVF5a-ck_l",
        "colab": {
          "base_uri": "https://localhost:8080/"
        },
        "outputId": "743d988c-c5c8-42c5-906d-a7ddd53dc5ce"
      },
      "outputs": [
        {
          "output_type": "stream",
          "name": "stdout",
          "text": [
            "Drive already mounted at /content/drive; to attempt to forcibly remount, call drive.mount(\"/content/drive\", force_remount=True).\n"
          ]
        }
      ],
      "source": [
        "# Mount Google Drive\n",
        "from google.colab import drive\n",
        "drive.mount('/content/drive')"
      ]
    },
    {
      "cell_type": "code",
      "execution_count": 2,
      "metadata": {
        "id": "_ZEYGblDxcNa"
      },
      "outputs": [],
      "source": [
        "# Reproducing same results\n",
        "SEED = 2023\n",
        "\n",
        "import random\n",
        "import numpy as np\n",
        "\n",
        "# Torch\n",
        "import torch\n",
        "device = torch.device(\"cuda\" if torch.cuda.is_available() else\"cpu\" )\n",
        "\n",
        "\n",
        "def seed_everything(seed = 2023):\n",
        "    random.seed(seed)\n",
        "    np.random.seed(seed)\n",
        "    torch.manual_seed(seed)\n",
        "    torch.cuda.manual_seed(seed)\n",
        "    torch.backends.cudnn.deterministic = True\n",
        "seed_everything()"
      ]
    },
    {
      "cell_type": "code",
      "execution_count": 3,
      "metadata": {
        "id": "_0xXE7QIxclo"
      },
      "outputs": [],
      "source": [
        "# Read train dataset\n",
        "class ReadDataset(torch.utils.data.Dataset):\n",
        "    def __init__(self, filename, target ,transform = None):\n",
        "        with open(filename, 'r', encoding='iso-8859-1') as f:\n",
        "            self.sentences = f.readlines()\n",
        "            self.labels = []\n",
        "            for sentence in self.sentences:\n",
        "                label, text = sentence.strip().split(\" \", 1)\n",
        "                coarse = label.split(':')[0]\n",
        "                if target == 'coarse':\n",
        "                  self.labels.append(coarse)\n",
        "                elif target == 'fine':\n",
        "                  self.labels.append(label)\n",
        "        self.transform = transform\n",
        "    \n",
        "    def __getitem__(self, index):\n",
        "        # Get the sentence and label at the given index\n",
        "        sentence = self.sentences[index].strip().split(' ', 1)[1]\n",
        "        sentence = sentence.strip().lower().split()\n",
        "              \n",
        "        return sentence, self.labels[index]\n",
        "        \n",
        "    def __len__(self):\n",
        "        return len(self.sentences)"
      ]
    },
    {
      "cell_type": "code",
      "execution_count": 4,
      "metadata": {
        "id": "Bxmvm59Bxj1p",
        "colab": {
          "base_uri": "https://localhost:8080/"
        },
        "outputId": "5434fa63-dcb9-4699-d02b-c816b5895cad"
      },
      "outputs": [
        {
          "output_type": "stream",
          "name": "stdout",
          "text": [
            "(0, (['how', 'did', 'serfdom', 'develop', 'in', 'and', 'then', 'leave', 'russia', '?'], 'DESC'))\n",
            "(1, (['what', 'films', 'featured', 'the', 'character', 'popeye', 'doyle', '?'], 'ENTY'))\n",
            "(2, (['how', 'can', 'i', 'find', 'a', 'list', 'of', 'celebrities', \"'\", 'real', 'names', '?'], 'DESC'))\n"
          ]
        }
      ],
      "source": [
        "# Read Coarse dataset\n",
        "coarse_train_dataset = ReadDataset(\"/content/drive/MyDrive/Text Mining/train_5500.label\", target = \"coarse\")\n",
        "\n",
        "# Print the first 3 samples\n",
        "for i in range(3):\n",
        "  sample = coarse_train_dataset[i]\n",
        "  print((i, sample))"
      ]
    },
    {
      "cell_type": "code",
      "execution_count": 5,
      "metadata": {
        "id": "p-u5raw8xkmk",
        "colab": {
          "base_uri": "https://localhost:8080/"
        },
        "outputId": "7fabb69d-4348-49e5-decd-6b990d29447a"
      },
      "outputs": [
        {
          "output_type": "stream",
          "name": "stdout",
          "text": [
            "(0, (['how', 'did', 'serfdom', 'develop', 'in', 'and', 'then', 'leave', 'russia', '?'], 'DESC:manner'))\n",
            "(1, (['what', 'films', 'featured', 'the', 'character', 'popeye', 'doyle', '?'], 'ENTY:cremat'))\n",
            "(2, (['how', 'can', 'i', 'find', 'a', 'list', 'of', 'celebrities', \"'\", 'real', 'names', '?'], 'DESC:manner'))\n"
          ]
        }
      ],
      "source": [
        "# Read fine dataset\n",
        "fine_train_dataset = ReadDataset(\"/content/drive/MyDrive/Text Mining/train_5500.label\", target = \"fine\")\n",
        "\n",
        "# Print the first 3 samples\n",
        "for i in range(3):\n",
        "  sample = fine_train_dataset[i]\n",
        "  print((i, sample))"
      ]
    },
    {
      "cell_type": "markdown",
      "source": [
        "Using torchetext"
      ],
      "metadata": {
        "id": "_r5YXSUiiCxQ"
      }
    },
    {
      "cell_type": "code",
      "execution_count": 6,
      "metadata": {
        "id": "9qir3jrNxp5i"
      },
      "outputs": [],
      "source": [
        "# # Create vocab\n",
        "# from torchtext.vocab import build_vocab_from_iterator\n",
        "\n",
        "# # Define a function that yields the tokenized sentences/labels in the dataset\n",
        "# def sentence_iterator(dataset):\n",
        "#     for sentence, _ in dataset:\n",
        "#         yield sentence\n",
        "\n",
        "# # Build a vocabulary from the tokenized sentences\n",
        "# train_vocab = build_vocab_from_iterator(sentence_iterator(coarse_train_dataset), specials=['<unk>'])\n",
        "# train_vocab.set_default_index(train_vocab[\"<unk>\"])\n",
        "\n",
        "# # Print the size of the vocabulary\n",
        "# print(f\"Vocabulary size: {len(train_vocab)}\")"
      ]
    },
    {
      "cell_type": "code",
      "source": [
        "train_vocab = {}\n",
        "for sentence, _ in coarse_train_dataset:\n",
        "  for w in sentence:\n",
        "    if w not in train_vocab:\n",
        "      train_vocab[w] = len(train_vocab)\n",
        "\n",
        "train_vocab['<unk>'] = len(train_vocab)"
      ],
      "metadata": {
        "id": "vZ-YJbmviGC2"
      },
      "execution_count": 7,
      "outputs": []
    },
    {
      "cell_type": "code",
      "execution_count": 8,
      "metadata": {
        "id": "Etl-cz0txqMC",
        "colab": {
          "base_uri": "https://localhost:8080/"
        },
        "outputId": "e2daabef-c048-41c4-acb4-d031c30e1f02"
      },
      "outputs": [
        {
          "output_type": "execute_result",
          "data": {
            "text/plain": [
              "[1516, 34, 115, 2786]"
            ]
          },
          "metadata": {},
          "execution_count": 8
        }
      ],
      "source": [
        "# Example of indices\n",
        "[train_vocab[token] for token in ['here', 'is', 'an', 'example']]"
      ]
    },
    {
      "cell_type": "code",
      "execution_count": 9,
      "metadata": {
        "id": "8NPS3MLDxsHv",
        "colab": {
          "base_uri": "https://localhost:8080/"
        },
        "outputId": "7de45945-afa1-47b2-ab81-4f670c6782ba"
      },
      "outputs": [
        {
          "output_type": "stream",
          "name": "stdout",
          "text": [
            "(0, (['how', 'far', 'is', 'it', 'from', 'denver', 'to', 'aspen', '?'], 'NUM'))\n",
            "(1, (['what', 'county', 'is', 'modesto', ',', 'california', 'in', '?'], 'LOC'))\n",
            "(2, (['who', 'was', 'galileo', '?'], 'HUM'))\n"
          ]
        }
      ],
      "source": [
        "# Load test Coarse dataet\n",
        "coarse_test_dataset = ReadDataset(\"/content/drive/MyDrive/Text Mining/TREC_10.label\", target = \"coarse\")\n",
        "\n",
        "# Print the first 3 samples\n",
        "for i in range(3):\n",
        "  sample = coarse_test_dataset[i]\n",
        "  print((i, sample))"
      ]
    },
    {
      "cell_type": "code",
      "execution_count": 10,
      "metadata": {
        "id": "DhGaulHFxuzC",
        "colab": {
          "base_uri": "https://localhost:8080/"
        },
        "outputId": "72c0872c-1fe2-4691-bc21-ae433dc5b818"
      },
      "outputs": [
        {
          "output_type": "stream",
          "name": "stdout",
          "text": [
            "(0, (['how', 'far', 'is', 'it', 'from', 'denver', 'to', 'aspen', '?'], 'NUM:dist'))\n",
            "(1, (['what', 'county', 'is', 'modesto', ',', 'california', 'in', '?'], 'LOC:city'))\n",
            "(2, (['who', 'was', 'galileo', '?'], 'HUM:desc'))\n"
          ]
        }
      ],
      "source": [
        "# Load test Fine dataet\n",
        "fine_test_dataset = ReadDataset(\"/content/drive/MyDrive/Text Mining/TREC_10.label\", target = \"fine\")\n",
        "\n",
        "# Print the first 3 samples\n",
        "for i in range(3):\n",
        "  sample = fine_test_dataset[i]\n",
        "  print((i, sample))"
      ]
    },
    {
      "cell_type": "code",
      "execution_count": 11,
      "metadata": {
        "id": "WLzWb9coxyhF",
        "colab": {
          "base_uri": "https://localhost:8080/"
        },
        "outputId": "0d47d64a-0f0c-4a85-cbb9-72cf497fbaa1"
      },
      "outputs": [
        {
          "output_type": "stream",
          "name": "stdout",
          "text": [
            "500\n",
            "500\n"
          ]
        }
      ],
      "source": [
        "print(len(coarse_test_dataset))\n",
        "print(len(fine_test_dataset))"
      ]
    },
    {
      "cell_type": "code",
      "source": [
        "def text_pipeline(sentence):\n",
        "  indexed_sentence = []\n",
        "  for w in sentence:\n",
        "    if w in train_vocab:\n",
        "      indexed_sentence.append(train_vocab[w])\n",
        "    else:\n",
        "      indexed_sentence.append(train_vocab['<unk>'])\n",
        "  return indexed_sentence"
      ],
      "metadata": {
        "id": "ziGTz-ACpwaE"
      },
      "execution_count": 12,
      "outputs": []
    },
    {
      "cell_type": "code",
      "execution_count": 13,
      "metadata": {
        "id": "4QY64Aw4x3IQ"
      },
      "outputs": [],
      "source": [
        "def coarse_label_pipeline(label):\n",
        "  if label == \"ABBR\":\n",
        "    return 0\n",
        "  elif label == \"DESC\":\n",
        "    return 1\n",
        "  elif label == \"ENTY\":\n",
        "    return 2\n",
        "  elif label == \"HUM\":\n",
        "    return 3\n",
        "  elif label == \"LOC\":\n",
        "    return 4\n",
        "  elif label == \"NUM\":\n",
        "    return 5"
      ]
    },
    {
      "cell_type": "code",
      "execution_count": 14,
      "metadata": {
        "id": "b06lKNJayEMQ"
      },
      "outputs": [],
      "source": [
        "def fine_label_pipeline(label):\n",
        "  if label == \"ABBR:abb\":\n",
        "    return 0\n",
        "  elif label == \"ABBR:exp\":\n",
        "    return 1\n",
        "  elif label == \"ENTY:animal\":\n",
        "    return 2\n",
        "  elif label == \"ENTY:body\":\n",
        "    return 3\n",
        "  elif label == \"ENTY:color\":\n",
        "    return 4\n",
        "  elif label == \"ENTY:cremat\":\n",
        "    return 5\n",
        "  elif label == \"ENTY:currency\":\n",
        "    return 6\n",
        "  elif label == \"ENTY:dismed\":\n",
        "    return 7\n",
        "  elif label == \"ENTY:event\":\n",
        "    return 8\n",
        "  elif label == \"ENTY:food\":\n",
        "    return 9\n",
        "  elif label == \"ENTY:instru\":\n",
        "    return 10\n",
        "  elif label == \"ENTY:lang\":\n",
        "    return 11\n",
        "  elif label == \"ENTY:letter\":\n",
        "    return 12\n",
        "  elif label == \"ENTY:other\":\n",
        "    return 13\n",
        "  elif label == \"ENTY:plant\":\n",
        "    return 14\n",
        "  elif label == \"ENTY:product\":\n",
        "    return 15\n",
        "  elif label == \"ENTY:religion\":\n",
        "    return 16\n",
        "  elif label == \"ENTY:sport\":\n",
        "    return 17\n",
        "  elif label == \"ENTY:substance\":\n",
        "    return 18\n",
        "  elif label == \"ENTY:symbol\":\n",
        "    return 19\n",
        "  elif label == \"ENTY:techmeth\":\n",
        "    return 20\n",
        "  elif label == \"ENTY:termeq\":\n",
        "    return 21\n",
        "  elif label == \"ENTY:veh\":\n",
        "    return 22\n",
        "  elif label == \"ENTY:word\":\n",
        "    return 23\n",
        "  elif label == \"DESC:def\":\n",
        "    return 24\n",
        "  elif label == \"DESC:desc\":\n",
        "    return 25\n",
        "  elif label == \"DESC:manner\":\n",
        "    return 26\n",
        "  elif label == \"DESC:reason\":\n",
        "    return 27\n",
        "  elif label == \"HUM:gr\":\n",
        "    return 28\n",
        "  elif label == \"HUM:ind\":\n",
        "    return 29\n",
        "  elif label == \"HUM:title\":\n",
        "    return 30\n",
        "  elif label == \"HUM:desc\":\n",
        "    return 31\n",
        "  elif label == \"LOC:city\":\n",
        "    return 32\n",
        "  elif label == \"LOC:country\":\n",
        "    return 33\n",
        "  elif label == \"LOC:mount\":\n",
        "    return 34\n",
        "  elif label == \"LOC:other\":\n",
        "    return 35\n",
        "  elif label == \"LOC:state\":\n",
        "    return 36\n",
        "  elif label == \"NUM:code\":\n",
        "    return 37\n",
        "  elif label == \"NUM:count\":\n",
        "    return 38\n",
        "  elif label == \"NUM:date\":\n",
        "    return 39\n",
        "  elif label == \"NUM:dist\":\n",
        "    return 40\n",
        "  elif label == \"NUM:money\":\n",
        "    return 41\n",
        "  elif label == \"NUM:ord\":\n",
        "    return 42\n",
        "  elif label == \"NUM:other\":\n",
        "    return 43\n",
        "  elif label == \"NUM:period\":\n",
        "    return 44\n",
        "  elif label == \"NUM:perc\":\n",
        "    return 45\n",
        "  elif label == \"NUM:speed\":\n",
        "    return 46\n",
        "  elif label == \"NUM:temp\":\n",
        "    return 47\n",
        "  elif label == \"NUM:volsize\":\n",
        "    return 48\n",
        "  elif label == \"NUM:weight\":\n",
        "    return 49 "
      ]
    },
    {
      "cell_type": "code",
      "execution_count": 15,
      "metadata": {
        "id": "P6N8tmTg1PF-",
        "colab": {
          "base_uri": "https://localhost:8080/"
        },
        "outputId": "241e6440-125d-4aec-d896-e0d415248e95"
      },
      "outputs": [
        {
          "output_type": "stream",
          "name": "stdout",
          "text": [
            "[0, 1, 2, 3, 4, 5, 6, 7, 8, 9]\n",
            "1\n"
          ]
        }
      ],
      "source": [
        "# Example of usage of coarse pipelines\n",
        "print(text_pipeline(coarse_train_dataset[0][0]))\n",
        "print(coarse_label_pipeline(coarse_train_dataset[0][1]))"
      ]
    },
    {
      "cell_type": "code",
      "execution_count": 16,
      "metadata": {
        "id": "qpGQ-EBH1Sun",
        "colab": {
          "base_uri": "https://localhost:8080/"
        },
        "outputId": "d8a9690b-643f-48ec-8c32-c21d7637e1f9"
      },
      "outputs": [
        {
          "output_type": "stream",
          "name": "stdout",
          "text": [
            "[0, 1, 2, 3, 4, 5, 6, 7, 8, 9]\n",
            "26\n"
          ]
        }
      ],
      "source": [
        "# Example of usage of fine pipelines\n",
        "print(text_pipeline(fine_train_dataset[0][0]))\n",
        "print(fine_label_pipeline(fine_train_dataset[0][1]))"
      ]
    },
    {
      "cell_type": "code",
      "execution_count": 17,
      "metadata": {
        "id": "dzcxDfam1YDh"
      },
      "outputs": [],
      "source": [
        "# Collate without padding for BoW: Coarse dataloader\n",
        "from torch.utils.data import DataLoader\n",
        "def collate_batch_coarse(batch):\n",
        "  label_list, text_list, offsets = [], [], [0]\n",
        "  for (_text, _label) in batch:\n",
        "      label_list.append(coarse_label_pipeline(_label))\n",
        "      processed_text = torch.tensor(text_pipeline(_text), dtype=torch.int64)\n",
        "      text_list.append(processed_text)\n",
        "      offsets.append(processed_text.size(0))\n",
        "  label_list = torch.tensor(label_list, dtype=torch.int64)\n",
        "  offsets = torch.tensor(offsets[:-1]).cumsum(dim=0)\n",
        "  text_list = torch.cat(text_list)\n",
        "  return text_list, offsets, label_list"
      ]
    },
    {
      "cell_type": "code",
      "execution_count": 18,
      "metadata": {
        "id": "P3WREmD61YJX"
      },
      "outputs": [],
      "source": [
        "# Collate without padding for BoW: Fine dataloader\n",
        "from torch.utils.data import DataLoader\n",
        "def collate_batch_fine(batch):\n",
        "  label_list, text_list, offsets = [], [], [0]\n",
        "  for (_text, _label) in batch:\n",
        "      label_list.append(fine_label_pipeline(_label))\n",
        "      processed_text = torch.tensor(text_pipeline(_text), dtype=torch.int64)\n",
        "      text_list.append(processed_text)\n",
        "      offsets.append(processed_text.size(0))\n",
        "  label_list = torch.tensor(label_list, dtype=torch.int64)\n",
        "  offsets = torch.tensor(offsets[:-1]).cumsum(dim=0)\n",
        "  text_list = torch.cat(text_list)\n",
        "  return text_list, offsets, label_list"
      ]
    },
    {
      "cell_type": "code",
      "execution_count": 19,
      "metadata": {
        "id": "a3AcC7e-Gh7t"
      },
      "outputs": [],
      "source": [
        "# Collate with padding for BiLSTM: Coarse dataloader\n",
        "from torch.utils.data import DataLoader\n",
        "from torch.nn.utils.rnn import pad_sequence\n",
        "\n",
        "'''def collate_batch_padding(batch):\n",
        "    label_list, text_list, offsets = [], [], [0]\n",
        "    for (_text, _label) in batch:\n",
        "        label_list.append(label_pipeline(_label))\n",
        "        processed_text = torch.tensor(text_pipeline(_text), dtype=torch.int64)\n",
        "        text_list.append(processed_text)\n",
        "        offsets.append(processed_text.size(0))\n",
        "    label_list = torch.tensor(label_list, dtype=torch.int64)\n",
        "    offsets = torch.tensor(offsets[:-1]).cumsum(dim=0)\n",
        "    text_list = pad_sequence(text_list, batch_first=True, padding_value=0)\n",
        "    return text_list, offsets, label_list'''\n",
        "\n",
        "\n",
        "def collate_batch_padding2_coarse(batch):\n",
        "  # Let's assume that each element in \"batch\" is a tuple (data, label).\n",
        "  # Sort the batch in the descending order\n",
        "  sorted_batch = sorted(batch, key=lambda x: len(x[0]), reverse=True)\n",
        "\n",
        "  label_list, text_list, offsets = [], [], [0]\n",
        "  for (_text, _label) in sorted_batch:\n",
        "      label_list.append(coarse_label_pipeline(_label))\n",
        "      processed_text = torch.tensor(text_pipeline(_text), dtype=torch.int64)\n",
        "      text_list.append(processed_text)\n",
        "      offsets.append(processed_text.size(0))\n",
        "  label_list = torch.tensor(label_list, dtype=torch.int64)\n",
        "  offsets = torch.tensor(offsets[:-1]).cumsum(dim=0)\n",
        "\n",
        "  # Get each sequence and pad it\n",
        "  sequences = [x for x in text_list]\n",
        "  sequences_padded = torch.nn.utils.rnn.pad_sequence(sequences, batch_first=True)\n",
        "  # Also need to store the length of each sequence\n",
        "  # This is later needed in order to unpad the sequences\n",
        "  lengths = torch.LongTensor([len(x) for x in sequences])\n",
        "  \n",
        "  return sequences_padded, lengths, label_list"
      ]
    },
    {
      "cell_type": "code",
      "execution_count": 20,
      "metadata": {
        "id": "UIH_mffkGh_f"
      },
      "outputs": [],
      "source": [
        "# Collate with padding for BiLSTM: Fine dataloader\n",
        "from torch.utils.data import DataLoader\n",
        "from torch.nn.utils.rnn import pad_sequence\n",
        "\n",
        "'''def collate_batch_padding(batch):\n",
        "    label_list, text_list, offsets = [], [], [0]\n",
        "    for (_text, _label) in batch:\n",
        "        label_list.append(label_pipeline(_label))\n",
        "        processed_text = torch.tensor(text_pipeline(_text), dtype=torch.int64)\n",
        "        text_list.append(processed_text)\n",
        "        offsets.append(processed_text.size(0))\n",
        "    label_list = torch.tensor(label_list, dtype=torch.int64)\n",
        "    offsets = torch.tensor(offsets[:-1]).cumsum(dim=0)\n",
        "    text_list = pad_sequence(text_list, batch_first=True, padding_value=0)\n",
        "    return text_list, offsets, label_list'''\n",
        "\n",
        "\n",
        "def collate_batch_padding2_fine(batch):\n",
        "  # Let's assume that each element in \"batch\" is a tuple (data, label).\n",
        "  # Sort the batch in the descending order\n",
        "  sorted_batch = sorted(batch, key=lambda x: len(x[0]), reverse=True)\n",
        "\n",
        "  label_list, text_list, offsets = [], [], [0]\n",
        "  for (_text, _label) in sorted_batch:\n",
        "      label_list.append(fine_label_pipeline(_label))\n",
        "      processed_text = torch.tensor(text_pipeline(_text), dtype=torch.int64)\n",
        "      text_list.append(processed_text)\n",
        "      offsets.append(processed_text.size(0))\n",
        "  label_list = torch.tensor(label_list, dtype=torch.int64)\n",
        "  offsets = torch.tensor(offsets[:-1]).cumsum(dim=0)\n",
        "\n",
        "  # Get each sequence and pad it\n",
        "  sequences = [x for x in text_list]\n",
        "  sequences_padded = torch.nn.utils.rnn.pad_sequence(sequences, batch_first=True)\n",
        "  # Also need to store the length of each sequence\n",
        "  # This is later needed in order to unpad the sequences\n",
        "  lengths = torch.LongTensor([len(x) for x in sequences])\n",
        "  \n",
        "  return sequences_padded, lengths, label_list"
      ]
    },
    {
      "cell_type": "code",
      "execution_count": 21,
      "metadata": {
        "id": "bCeI5HYr16EF",
        "colab": {
          "base_uri": "https://localhost:8080/"
        },
        "outputId": "14edcf9e-9917-496e-d2e2-b886a22be0e2"
      },
      "outputs": [
        {
          "output_type": "stream",
          "name": "stdout",
          "text": [
            "9549\n",
            "300\n"
          ]
        },
        {
          "output_type": "stream",
          "name": "stderr",
          "text": [
            "/usr/local/lib/python3.8/dist-packages/IPython/core/interactiveshell.py:3249: FutureWarning: arrays to stack must be passed as a \"sequence\" type such as list or tuple. Support for non-sequence iterables such as generators is deprecated as of NumPy 1.16 and will raise an error in the future.\n",
            "  if (await self.run_code(code, result,  async_=asy)):\n"
          ]
        }
      ],
      "source": [
        "# Load Glove\n",
        "## Create a dic of glove {word:vector}\n",
        "\n",
        "import numpy as np\n",
        "\n",
        "glove_file = '/content/drive/MyDrive/Text Mining/glove.small.txt'\n",
        "glove_dict = {}\n",
        "\n",
        "with open(glove_file, encoding=\"utf8\") as f:\n",
        "    for line in f:\n",
        "        values = line.split()\n",
        "        word = values[0]\n",
        "        coefs = np.asarray(values[1:], dtype='float32')\n",
        "        glove_dict[word] = coefs\n",
        "\n",
        "print(len(glove_dict))\n",
        "\n",
        "glove_embed_size = np.stack(glove_dict.values()).shape[1]\n",
        "print(glove_embed_size)"
      ]
    },
    {
      "cell_type": "code",
      "execution_count": 22,
      "metadata": {
        "id": "cB0aiv-j2LIQ"
      },
      "outputs": [],
      "source": [
        "# # Create a weight matrix using glove_dict & vocab of train dataset\n",
        "\n",
        "#matrix_len = len(train_vocab)\n",
        "# glove_weights_matrix = np.zeros((matrix_len, glove_embed_size))\n",
        "# words_found = 0\n",
        "\n",
        "# for i, word in enumerate(train_vocab.get_itos()):\n",
        "#   try: \n",
        "#     glove_weights_matrix[i] = glove_dict[word]\n",
        "#     words_found += 1\n",
        "#   except KeyError:\n",
        "#     glove_weights_matrix[i] = np.random.normal(scale=0.6, size=(glove_embed_size, ))\n",
        "# print(words_found)\n",
        "# print(glove_weights_matrix.shape)"
      ]
    },
    {
      "cell_type": "code",
      "source": [
        "matrix_len = len(train_vocab)\n",
        "\n",
        "glove_weights_matrix = np.zeros((matrix_len, glove_embed_size))\n",
        "words_found = 0\n",
        "\n",
        "for i, word in enumerate(train_vocab):\n",
        "  try: \n",
        "    glove_weights_matrix[i] = glove_dict[word]\n",
        "    words_found += 1\n",
        "  except KeyError:\n",
        "    glove_weights_matrix[i] = np.random.normal(scale=0.6, size=(glove_embed_size, ))\n",
        "print(words_found)\n",
        "print(glove_weights_matrix.shape)"
      ],
      "metadata": {
        "colab": {
          "base_uri": "https://localhost:8080/"
        },
        "id": "bdc7h7q6jVIH",
        "outputId": "f33610c1-d10e-4dff-969a-5e1f4429ad85"
      },
      "execution_count": 23,
      "outputs": [
        {
          "output_type": "stream",
          "name": "stdout",
          "text": [
            "5764\n",
            "(8679, 300)\n"
          ]
        }
      ]
    },
    {
      "cell_type": "markdown",
      "metadata": {
        "id": "6bXYj_eaLaEz"
      },
      "source": [
        "## Define Model class"
      ]
    },
    {
      "cell_type": "code",
      "execution_count": 24,
      "metadata": {
        "id": "y7f8QykC2OAt"
      },
      "outputs": [],
      "source": [
        "# Bag of Words\n",
        "\n",
        "import torch.nn as nn\n",
        "import torch.nn.functional as F\n",
        "class QuestionClassifier(nn.Module):\n",
        "    def __init__(self, vocab_size, embed_dim, num_class, use_glove, fine_tune_embed):\n",
        "        super().__init__()\n",
        "        self.use_glove = use_glove\n",
        "        self.fine_tune_embed = fine_tune_embed\n",
        "\n",
        "        self.embedding = nn.EmbeddingBag(vocab_size, embed_dim, sparse=True) # Bag-of-Words\n",
        "        self.fc = nn.Linear(embed_dim, num_class)\n",
        "        self.init_weights()\n",
        "\n",
        "    def init_weights(self):\n",
        "        initrange = 0.5\n",
        "        # random initialised embedding\n",
        "        if self.use_glove == False:\n",
        "          self.embedding.weight.data.uniform_(-initrange, initrange) \n",
        "        # Glove embedding\n",
        "        else:\n",
        "          self.embedding.weight = nn.Parameter(torch.tensor(glove_weights_matrix, dtype=torch.float32))\n",
        "        \n",
        "        # If freeze the embedding weight\n",
        "        if self.fine_tune_embed == False: \n",
        "          self.embedding.requires_grad_(False)\n",
        "        self.fc.weight.data.uniform_(-initrange, initrange)\n",
        "        self.fc.bias.data.zero_()\n",
        "\n",
        "\n",
        "    def forward(self, text, offsets):\n",
        "        embedded = self.embedding(text, offsets)\n",
        "        x = self.fc(embedded)\n",
        "        return x"
      ]
    },
    {
      "cell_type": "code",
      "execution_count": 25,
      "metadata": {
        "id": "hRCUnapeLhg1"
      },
      "outputs": [],
      "source": [
        "# BiLSTM\n",
        "from torch.nn.utils.rnn import pad_sequence\n",
        "\n",
        "class BiLSTM3(nn.Module):\n",
        "    \n",
        "    def __init__(self, vocab_size, embed_dim, num_class, use_glove, fine_tune_embed):\n",
        "        super(BiLSTM3, self).__init__()\n",
        "        self.use_glove = use_glove\n",
        "        self.fine_tune_embed = fine_tune_embed\n",
        "\n",
        "        self.hidden_size = 64\n",
        "        drp = 0.3\n",
        "        # n_classes = len(le.classes_)\n",
        "        self.embedding = nn.Embedding(vocab_size, embed_dim, sparse=False)\n",
        "        self.lstm = nn.LSTM(embed_dim, self.hidden_size, bidirectional=True, batch_first=True)\n",
        "        self.linear1 = nn.Linear(self.hidden_size*4 , 60)\n",
        "        self.linear2 = nn.Linear(60, 30)  # new linear layer\n",
        "        self.relu = nn.ReLU()\n",
        "        self.dropout = nn.Dropout(drp)\n",
        "        self.out = nn.Linear(30, num_class)  # changed output size to match new layer\n",
        "        self.softmax = nn.Softmax(dim=1)  # new softmax layer\n",
        "        self.init_weights()\n",
        "\n",
        "    def init_weights(self):\n",
        "        initrange = 0.5\n",
        "        # random initialised embedding\n",
        "        if self.use_glove == False:\n",
        "          self.embedding.weight.data.uniform_(-initrange, initrange) \n",
        "        # Glove embedding\n",
        "        else:\n",
        "          self.embedding.weight = nn.Parameter(torch.tensor(glove_weights_matrix, dtype=torch.float32))\n",
        "        \n",
        "        # If freeze the embedding weight\n",
        "        if self.fine_tune_embed == False: \n",
        "          self.embedding.weight.requires_grad_(False)\n",
        "\n",
        "    def forward(self, x):\n",
        "        h_embedding = self.embedding(x)\n",
        "        h_lstm, _ = self.lstm(h_embedding)\n",
        "        avg_pool = torch.mean(h_lstm, 1)\n",
        "        max_pool, _ = torch.max(h_lstm, 1)\n",
        "        conc = torch.cat((avg_pool, max_pool), 1)\n",
        "        conc = self.relu(self.linear1(conc))\n",
        "        conc = self.relu(self.linear2(conc))  # apply second linear layer and activation\n",
        "        conc = self.dropout(conc)\n",
        "        out = self.out(conc)\n",
        "        out = self.softmax(out)  # apply softmax layer\n",
        "        return out"
      ]
    },
    {
      "cell_type": "markdown",
      "metadata": {
        "id": "5rEUvX-DLsB7"
      },
      "source": [
        "## Train, Val, Test class"
      ]
    },
    {
      "cell_type": "code",
      "execution_count": 26,
      "metadata": {
        "id": "7qQivpZM2ZNw"
      },
      "outputs": [],
      "source": [
        "# for Bag of Words\n",
        "\n",
        "from torch.utils.data import DataLoader\n",
        "import time\n",
        "from torch.utils.data.dataset import random_split\n",
        "\n",
        "import matplotlib.pyplot as plt\n",
        "\n",
        "class TrainValTestModel():\n",
        "  def __init__(self, model, collate_fn, n_epochs, batch_size, min_valid_loss) -> None:\n",
        "     self.model = model\n",
        "     self.collate_fn = collate_fn\n",
        "     self.n_epochs = n_epochs\n",
        "     self.batch_size = batch_size\n",
        "     self.min_valid_loss = min_valid_loss\n",
        "\n",
        "     # CrossEntropyLoss already contains Softmax function inside\n",
        "     self.criterion = torch.nn.CrossEntropyLoss().to(device)\n",
        "     self.optimizer = torch.optim.SGD(self.model.parameters(), lr=4.0)\n",
        "     self.scheduler = torch.optim.lr_scheduler.StepLR(self.optimizer, 1, gamma=0.9)\n",
        "\n",
        "  def split_into_train_valid(self, train_dataset, train_ratio = 0.90):\n",
        "    train_len = int(len(train_dataset) * train_ratio)\n",
        "    sub_train_, sub_valid_ = random_split(train_dataset, [train_len, len(train_dataset) - train_len],generator=torch.Generator().manual_seed(42))\n",
        "    return sub_train_, sub_valid_\n",
        "\n",
        "  def train(self, sub_train):\n",
        "    # Set the model to train mode\n",
        "    self.model.train()\n",
        "    # Train model\n",
        "    train_loss = 0\n",
        "    train_acc = 0\n",
        "    data = DataLoader(sub_train, batch_size=self.batch_size, shuffle=True,\n",
        "                      collate_fn=self.collate_fn)\n",
        "    for i, (text, offsets, cls) in enumerate(data):\n",
        "        self.optimizer.zero_grad()\n",
        "        text, offsets, cls = text.to(device), offsets.to(device), cls.to(device)\n",
        "        # print(f'text: {text}')\n",
        "        # print(f'offsets: {offsets}')\n",
        "        # print(f'cls: {cls}')\n",
        "        output = self.model(text, offsets)\n",
        "        # print(f'output: {output}')\n",
        "        loss = self.criterion(output, cls)\n",
        "        # print(f'loss: {loss}')\n",
        "        train_loss += loss.item()\n",
        "        loss.backward()\n",
        "        self.optimizer.step()\n",
        "        train_acc += (output.argmax(1) == cls).sum().item()\n",
        "    # Update learning rate\n",
        "    self.scheduler.step()\n",
        "\n",
        "    return train_loss / len(sub_train), train_acc / len(sub_train)\n",
        "\n",
        "  def validate(self, sub_valid):\n",
        "    self.model.eval()\n",
        "    loss = 0\n",
        "    acc = 0\n",
        "    valid_preds = []\n",
        "    valid_labels = []\n",
        "    data = DataLoader(sub_valid, batch_size=self.batch_size, collate_fn=self.collate_fn)\n",
        "    for text, offsets, cls in data:\n",
        "        text, offsets, cls = text.to(device), offsets.to(device), cls.to(device)\n",
        "        with torch.no_grad():\n",
        "            output = self.model(text, offsets)\n",
        "            loss += self.criterion(output, cls).item()\n",
        "            acc += (output.argmax(1) == cls).sum().item()\n",
        "            valid_preds += output.argmax(1).tolist()\n",
        "            valid_labels += cls.tolist()\n",
        "\n",
        "    return loss / len(sub_valid), acc / len(sub_valid), valid_preds, valid_labels\n",
        "\n",
        "  def f1_score_macro(self, y_true, y_pred):\n",
        "    num_labels = len(np.unique(y_true))\n",
        "    f1_scores = []\n",
        "    for label in range(num_labels):\n",
        "        tp = np.sum(np.logical_and(y_pred == label, y_true == label))\n",
        "        fp = np.sum(np.logical_and(y_pred == label, y_true != label))\n",
        "        fn = np.sum(np.logical_and(y_pred != label, y_true == label))\n",
        "        eps = 1e-7  # epsilon to avoid division by zero\n",
        "        precision = tp / (tp + fp + eps)\n",
        "        recall = tp / (tp + fn + eps)\n",
        "        f1 = 2 * precision * recall / (precision + recall + eps)\n",
        "        f1_scores.append(f1)\n",
        "    macro_f1_score = np.mean(f1_scores)\n",
        "    return macro_f1_score\n",
        "  \n",
        "\n",
        "  def train_and_evaluate(self, train_dataset, train_ratio=0.90):\n",
        "    sub_train, sub_valid = self.split_into_train_valid(train_dataset, train_ratio=train_ratio)\n",
        "    print('[Train & Validation]')\n",
        "\n",
        "    train_loss_list = []\n",
        "    valid_loss_list = []\n",
        "    valid_preds_list = []\n",
        "    valid_labels_list = []\n",
        "    for epoch in range(self.n_epochs):\n",
        "        start_time = time.time()\n",
        "        train_loss, train_acc = self.train(sub_train)\n",
        "        valid_loss, valid_acc, valid_preds, valid_labels = self.validate(sub_valid)\n",
        "\n",
        "        train_loss_list.append(train_loss)\n",
        "        valid_loss_list.append(valid_loss)\n",
        "        self.train_loss_list = train_loss_list\n",
        "        self.valid_loss_list = valid_loss_list\n",
        "        valid_preds_list.append(valid_preds)\n",
        "        valid_labels_list.append(valid_labels)\n",
        "\n",
        "        secs = int(time.time() - start_time)\n",
        "        mins = secs / 60\n",
        "        secs = secs % 60\n",
        "\n",
        "        print('Epoch: %d' % (epoch + 1), \" | time in %d minutes, %d seconds\" % (mins, secs))\n",
        "        print(f'\\tLoss: {train_loss:.4f}(train)\\t|\\tAcc: {train_acc * 100:.1f}%(train)')\n",
        "        print(f'\\tLoss: {valid_loss:.4f}(valid)\\t|\\tAcc: {valid_acc * 100:.1f}%(valid)')\n",
        "\n",
        "    # Calculate macro F1 score\n",
        "    valid_preds_all = np.concatenate(valid_preds_list)\n",
        "    valid_labels_all = np.concatenate(valid_labels_list)\n",
        "    macro_f1_score = self.f1_score_macro(valid_labels_all, valid_preds_all)\n",
        "    print('Macro F1 score: %.4f' % macro_f1_score)\n",
        "  \n",
        "  def loss_plot(self):\n",
        "    fig = plt.figure(figsize=(6, 6))\n",
        "    plt.title(\"Train/Validation Loss\")\n",
        "    plt.plot(list(np.arange(self.n_epochs)+1), self.train_loss_list, label='train')\n",
        "    plt.plot(list(np.arange(self.n_epochs)+1), self.valid_loss_list, label='valid')\n",
        "    plt.xlabel('num_epochs', fontsize=12)\n",
        "    plt.ylabel('loss', fontsize=12)\n",
        "    plt.legend(loc='best')\n",
        "\n",
        "  def test(self, test_dataset):\n",
        "    test_loss, test_acc, test_preds, test_labels = self.validate(test_dataset)\n",
        "    print('[Test]')\n",
        "    print(f'\\tLoss: {test_loss:.4f}(test)\\t|\\tAcc: {test_acc * 100:.1f}%(test)')"
      ]
    },
    {
      "cell_type": "code",
      "source": [
        "# for BiLSTM ver2\n",
        "from torch.utils.data import DataLoader\n",
        "import time\n",
        "from torch.utils.data.dataset import random_split\n",
        "\n",
        "import matplotlib.pyplot as plt\n",
        "\n",
        "class TrainValTestBiLSTMModel():\n",
        "  def __init__(self, model, collate_fn, n_epochs, batch_size, min_valid_loss) -> None:\n",
        "     self.model = model\n",
        "     self.collate_fn = collate_fn\n",
        "     self.n_epochs = n_epochs\n",
        "     self.batch_size = batch_size\n",
        "     self.min_valid_loss = min_valid_loss\n",
        "\n",
        "     # CrossEntropyLoss already contains Softmax function inside\n",
        "     self.criterion = torch.nn.CrossEntropyLoss().to(device)\n",
        "     self.optimizer = torch.optim.Adam(self.model.parameters(), lr=1e-2)\n",
        "     self.scheduler = torch.optim.lr_scheduler.StepLR(self.optimizer, 1, gamma=0.9)\n",
        "\n",
        "  def split_into_train_valid(self, train_dataset, train_ratio = 0.90):\n",
        "    train_len = int(len(train_dataset) * train_ratio)\n",
        "    sub_train_, sub_valid_ = random_split(train_dataset, [train_len, len(train_dataset) - train_len])\n",
        "    return sub_train_, sub_valid_\n",
        "\n",
        "  def train(self, sub_train):\n",
        "    print(\"train func starts\")\n",
        "    # Set the model to train mode\n",
        "    self.model.train()\n",
        "    # Train model\n",
        "    train_loss = 0\n",
        "    train_acc = 0\n",
        "    data = DataLoader(sub_train, batch_size=self.batch_size, shuffle=True,\n",
        "                      collate_fn=self.collate_fn)\n",
        "    print(\"loop starts\")\n",
        "    for i, (text, offsets, cls) in enumerate(data):\n",
        "        self.optimizer.zero_grad()\n",
        "        text, offsets, cls = text.to(device), offsets.to(device), cls.to(device)\n",
        "        #print(f'text: {text}')\n",
        "        #print(f'offsets: {offsets}')\n",
        "        #print(f'cls: {cls}')\n",
        "        output = self.model(text)\n",
        "        #print(f'output: {output}')\n",
        "        loss = self.criterion(output, cls)\n",
        "        #print(f'loss: {loss}')\n",
        "        train_loss += loss.item()\n",
        "        loss.backward()\n",
        "        self.optimizer.step()\n",
        "        train_acc += (output.argmax(1) == cls).sum().item()\n",
        "    # Update learning rate\n",
        "    self.scheduler.step()\n",
        "\n",
        "    return train_loss / len(sub_train), train_acc / len(sub_train)\n",
        "\n",
        "\n",
        "  def validate(self, sub_valid):\n",
        "    self.model.eval()\n",
        "    loss = 0\n",
        "    acc = 0\n",
        "    valid_preds2 = []\n",
        "    valid_labels2 = []\n",
        "    data = DataLoader(sub_valid, batch_size=self.batch_size, collate_fn=self.collate_fn)\n",
        "    for text, offsets, cls in data:\n",
        "        text, offsets, cls = text.to(device), offsets.to(device), cls.to(device)\n",
        "        with torch.no_grad():\n",
        "            output = self.model(text)\n",
        "            loss = self.criterion(output, cls)\n",
        "            loss += loss.item()\n",
        "            acc += (output.argmax(1) == cls).sum().item()\n",
        "            valid_preds2 += output.argmax(1).tolist()\n",
        "            valid_labels2 += cls.tolist()\n",
        "\n",
        "    return loss / len(sub_valid), acc / len(sub_valid), valid_preds2, valid_labels2\n",
        "\n",
        "  def f1_score_macro(self, y_true, y_pred):\n",
        "    num_labels = len(np.unique(y_true))\n",
        "    f1_scores = []\n",
        "    for label in range(num_labels):\n",
        "        tp = np.sum(np.logical_and(y_pred == label, y_true == label))\n",
        "        fp = np.sum(np.logical_and(y_pred == label, y_true != label))\n",
        "        fn = np.sum(np.logical_and(y_pred != label, y_true == label))\n",
        "        eps = 1e-7  # epsilon to avoid division by zero\n",
        "        precision = tp / (tp + fp + eps)\n",
        "        recall = tp / (tp + fn + eps)\n",
        "        f1 = 2 * precision * recall / (precision + recall + eps)\n",
        "        f1_scores.append(f1)\n",
        "    macro_f1_score = np.mean(f1_scores)\n",
        "    return macro_f1_score    \n",
        "\n",
        "  def train_and_evaluate(self, train_dataset, train_ratio=0.90):\n",
        "    sub_train, sub_valid = self.split_into_train_valid(train_dataset, train_ratio=train_ratio)\n",
        "    train_loss_list = []\n",
        "    valid_loss_list = []\n",
        "    valid_preds_list = []\n",
        "    valid_labels_list = []\n",
        "    for epoch in range(self.n_epochs):\n",
        "        start_time = time.time()\n",
        "        train_loss, train_acc = self.train(sub_train)\n",
        "        valid_loss, valid_acc, valid_preds2, valid_labels2 = self.validate(sub_valid)\n",
        "\n",
        "        train_loss_list.append(train_loss)\n",
        "        valid_loss_list.append(valid_loss)\n",
        "        self.train_loss_list = train_loss_list\n",
        "        self.valid_loss_list = valid_loss_list\n",
        "        valid_preds_list.append(valid_preds2)\n",
        "        valid_labels_list.append(valid_labels2)\n",
        "\n",
        "        secs = int(time.time() - start_time)\n",
        "        mins = secs / 60\n",
        "        secs = secs % 60\n",
        "\n",
        "        print('Epoch: %d' % (epoch + 1), \" | time in %d minutes, %d seconds\" % (mins, secs))\n",
        "        print(f'\\tLoss: {train_loss:.4f}(train)\\t|\\tAcc: {train_acc * 100:.1f}%(train)')\n",
        "        print(f'\\tLoss: {valid_loss:.4f}(valid)\\t|\\tAcc: {valid_acc * 100:.1f}%(valid)')\n",
        "\n",
        "    # Calculate macro F1 score\n",
        "    valid_preds_all = np.concatenate(valid_preds_list)\n",
        "    valid_labels_all = np.concatenate(valid_labels_list)\n",
        "    macro_f1_score = self.f1_score_macro(valid_labels_all, valid_preds_all)\n",
        "    print('Macro F1 score: %.4f' % macro_f1_score)\n",
        "  \n",
        "  def loss_plot(self):\n",
        "    fig = plt.figure(figsize=(6, 6))\n",
        "    plt.title(\"Train/Validation Loss\")\n",
        "    plt.plot(list(np.arange(self.n_epochs)+1), self.train_loss_list, label='train')\n",
        "    plt.plot(list(np.arange(self.n_epochs)+1), self.valid_loss_list, label='valid')\n",
        "    plt.xlabel('num_epochs', fontsize=12)\n",
        "    plt.ylabel('loss', fontsize=12)\n",
        "    plt.legend(loc='best')\n",
        "\n",
        "  def test(self, test_dataset):\n",
        "    test_loss, test_acc, test_preds, test_labels = self.validate(test_dataset)\n",
        "    print('[Test]')\n",
        "    print(f'\\tLoss: {test_loss:.4f}(test)\\t|\\tAcc: {test_acc * 100:.1f}%(test)')"
      ],
      "metadata": {
        "id": "zg9vNCdsCQXX"
      },
      "execution_count": 27,
      "outputs": []
    },
    {
      "cell_type": "code",
      "execution_count": 28,
      "metadata": {
        "id": "Omar_3bn2iSy",
        "colab": {
          "base_uri": "https://localhost:8080/"
        },
        "outputId": "cf8848cf-0e06-4c36-ed54-819bb3f7f43a"
      },
      "outputs": [
        {
          "output_type": "stream",
          "name": "stdout",
          "text": [
            "num class: 6\n"
          ]
        }
      ],
      "source": [
        "# Coarse Model\n",
        "\n",
        "VOCAB_SIZE = len(train_vocab)\n",
        "EMBED_DIM = glove_embed_size # 300\n",
        "NUM_CLASS_coarse = len(set(coarse_train_dataset.labels))\n",
        "print(f'num class: {NUM_CLASS_coarse}')"
      ]
    },
    {
      "cell_type": "code",
      "execution_count": 29,
      "metadata": {
        "id": "qulaXw152iV6",
        "colab": {
          "base_uri": "https://localhost:8080/"
        },
        "outputId": "bdbaf231-79e5-4326-fa57-6a0e24c8ab31"
      },
      "outputs": [
        {
          "output_type": "stream",
          "name": "stdout",
          "text": [
            "num class: 50\n"
          ]
        }
      ],
      "source": [
        "# Fine Model\n",
        "\n",
        "VOCAB_SIZE = len(train_vocab)\n",
        "EMBED_DIM = glove_embed_size # 300\n",
        "NUM_CLASS_fine = len(set(fine_train_dataset.labels))\n",
        "print(f'num class: {NUM_CLASS_fine}')"
      ]
    },
    {
      "cell_type": "code",
      "execution_count": 30,
      "metadata": {
        "id": "UYzu6l56NFuI"
      },
      "outputs": [],
      "source": [
        "# lr = 1e-4\n",
        "dropout_prob = 0.5\n",
        "# max_document_length = 100  # each sentence has until 100 words\n",
        "# max_size = 5000 # maximum vocabulary size\n",
        "num_hidden_nodes = 93\n",
        "hidden_dim2 = 128\n",
        "num_layers = 2  # LSTM layers\n",
        "bi_directional = True "
      ]
    },
    {
      "cell_type": "markdown",
      "metadata": {
        "id": "Kbg8bTtm2uho"
      },
      "source": [
        "## Coarse Classification"
      ]
    },
    {
      "cell_type": "markdown",
      "metadata": {
        "id": "dtSfUsen3oMY"
      },
      "source": [
        "Bag of Words: Random+FineTune"
      ]
    },
    {
      "cell_type": "code",
      "execution_count": 31,
      "metadata": {
        "id": "oHtebxJ32tjy",
        "colab": {
          "base_uri": "https://localhost:8080/",
          "height": 1000
        },
        "outputId": "30f1b627-6367-437c-91f8-39868326b9c4"
      },
      "outputs": [
        {
          "output_type": "stream",
          "name": "stdout",
          "text": [
            "name :  embedding.weight\n",
            "name :  fc.weight\n",
            "name :  fc.bias\n",
            "[Train & Validation]\n",
            "Epoch: 1  | time in 0 minutes, 1 seconds\n",
            "\tLoss: 0.0625(train)\t|\tAcc: 63.5%(train)\n",
            "\tLoss: 0.0751(valid)\t|\tAcc: 59.3%(valid)\n",
            "Epoch: 2  | time in 0 minutes, 2 seconds\n",
            "\tLoss: 0.0305(train)\t|\tAcc: 82.3%(train)\n",
            "\tLoss: 0.0532(valid)\t|\tAcc: 74.5%(valid)\n",
            "Epoch: 3  | time in 0 minutes, 2 seconds\n",
            "\tLoss: 0.0184(train)\t|\tAcc: 89.5%(train)\n",
            "\tLoss: 0.0456(valid)\t|\tAcc: 78.2%(valid)\n",
            "Epoch: 4  | time in 0 minutes, 2 seconds\n",
            "\tLoss: 0.0099(train)\t|\tAcc: 94.9%(train)\n",
            "\tLoss: 0.0517(valid)\t|\tAcc: 79.3%(valid)\n",
            "Epoch: 5  | time in 0 minutes, 1 seconds\n",
            "\tLoss: 0.0051(train)\t|\tAcc: 98.2%(train)\n",
            "\tLoss: 0.0448(valid)\t|\tAcc: 81.7%(valid)\n",
            "Epoch: 6  | time in 0 minutes, 0 seconds\n",
            "\tLoss: 0.0032(train)\t|\tAcc: 99.0%(train)\n",
            "\tLoss: 0.0476(valid)\t|\tAcc: 82.1%(valid)\n",
            "Epoch: 7  | time in 0 minutes, 0 seconds\n",
            "\tLoss: 0.0019(train)\t|\tAcc: 99.8%(train)\n",
            "\tLoss: 0.0482(valid)\t|\tAcc: 81.0%(valid)\n",
            "Epoch: 8  | time in 0 minutes, 0 seconds\n",
            "\tLoss: 0.0014(train)\t|\tAcc: 99.9%(train)\n",
            "\tLoss: 0.0479(valid)\t|\tAcc: 82.1%(valid)\n",
            "Epoch: 9  | time in 0 minutes, 1 seconds\n",
            "\tLoss: 0.0012(train)\t|\tAcc: 99.9%(train)\n",
            "\tLoss: 0.0494(valid)\t|\tAcc: 81.3%(valid)\n",
            "Epoch: 10  | time in 0 minutes, 1 seconds\n",
            "\tLoss: 0.0010(train)\t|\tAcc: 99.9%(train)\n",
            "\tLoss: 0.0498(valid)\t|\tAcc: 81.5%(valid)\n",
            "Macro F1 score: 0.7965\n",
            "[Test]\n",
            "\tLoss: 0.0291(test)\t|\tAcc: 88.0%(test)\n"
          ]
        },
        {
          "output_type": "display_data",
          "data": {
            "text/plain": [
              "<Figure size 432x432 with 1 Axes>"
            ],
            "image/png": "[encoded data removed]"
          },
          "metadata": {
            "needs_background": "light"
          }
        }
      ],
      "source": [
        "model1 = QuestionClassifier(VOCAB_SIZE, EMBED_DIM, NUM_CLASS_coarse, use_glove=False, fine_tune_embed=True).to(device)\n",
        "\n",
        "# Print weights and biases in each layer\n",
        "for name, param in model1.named_parameters():\n",
        "  print('name : ', name)\n",
        "  # print('param : ', param)\n",
        "\n",
        "model1_evaluator = TrainValTestModel(model = model1, collate_fn = collate_batch_coarse, n_epochs=10, batch_size=16, min_valid_loss=float('inf'))\n",
        "model1_evaluator.train_and_evaluate(train_dataset=coarse_train_dataset)\n",
        "model1_evaluator.test(test_dataset=coarse_test_dataset)\n",
        "model1_evaluator.loss_plot()"
      ]
    },
    {
      "cell_type": "markdown",
      "metadata": {
        "id": "nyaA0HtR3s4F"
      },
      "source": [
        "Bag of Words: Glove+Freeze"
      ]
    },
    {
      "cell_type": "code",
      "execution_count": 32,
      "metadata": {
        "id": "rSfsPx6W3a3E",
        "colab": {
          "base_uri": "https://localhost:8080/",
          "height": 1000
        },
        "outputId": "8a3baaba-e7f2-4cfc-e908-ee1b1e714744"
      },
      "outputs": [
        {
          "output_type": "stream",
          "name": "stdout",
          "text": [
            "name :  embedding.weight\n",
            "name :  fc.weight\n",
            "name :  fc.bias\n",
            "[Train & Validation]\n",
            "Epoch: 1  | time in 0 minutes, 0 seconds\n",
            "\tLoss: 0.2965(train)\t|\tAcc: 45.4%(train)\n",
            "\tLoss: 0.2323(valid)\t|\tAcc: 54.6%(valid)\n",
            "Epoch: 2  | time in 0 minutes, 0 seconds\n",
            "\tLoss: 0.1366(train)\t|\tAcc: 60.9%(train)\n",
            "\tLoss: 0.1479(valid)\t|\tAcc: 55.5%(valid)\n",
            "Epoch: 3  | time in 0 minutes, 0 seconds\n",
            "\tLoss: 0.1056(train)\t|\tAcc: 64.3%(train)\n",
            "\tLoss: 0.5573(valid)\t|\tAcc: 36.8%(valid)\n",
            "Epoch: 4  | time in 0 minutes, 0 seconds\n",
            "\tLoss: 0.0918(train)\t|\tAcc: 66.5%(train)\n",
            "\tLoss: 0.1135(valid)\t|\tAcc: 61.9%(valid)\n",
            "Epoch: 5  | time in 0 minutes, 0 seconds\n",
            "\tLoss: 0.0765(train)\t|\tAcc: 69.1%(train)\n",
            "\tLoss: 0.1078(valid)\t|\tAcc: 60.1%(valid)\n",
            "Epoch: 6  | time in 0 minutes, 0 seconds\n",
            "\tLoss: 0.0707(train)\t|\tAcc: 70.1%(train)\n",
            "\tLoss: 0.0837(valid)\t|\tAcc: 63.6%(valid)\n",
            "Epoch: 7  | time in 0 minutes, 0 seconds\n",
            "\tLoss: 0.0628(train)\t|\tAcc: 72.0%(train)\n",
            "\tLoss: 0.0918(valid)\t|\tAcc: 63.2%(valid)\n",
            "Epoch: 8  | time in 0 minutes, 0 seconds\n",
            "\tLoss: 0.0576(train)\t|\tAcc: 72.9%(train)\n",
            "\tLoss: 0.0862(valid)\t|\tAcc: 63.4%(valid)\n",
            "Epoch: 9  | time in 0 minutes, 0 seconds\n",
            "\tLoss: 0.0533(train)\t|\tAcc: 73.3%(train)\n",
            "\tLoss: 0.1092(valid)\t|\tAcc: 57.9%(valid)\n",
            "Epoch: 10  | time in 0 minutes, 0 seconds\n",
            "\tLoss: 0.0503(train)\t|\tAcc: 74.4%(train)\n",
            "\tLoss: 0.0927(valid)\t|\tAcc: 58.1%(valid)\n",
            "Macro F1 score: 0.5588\n",
            "[Test]\n",
            "\tLoss: 0.1017(test)\t|\tAcc: 60.8%(test)\n"
          ]
        },
        {
          "output_type": "display_data",
          "data": {
            "text/plain": [
              "<Figure size 432x432 with 1 Axes>"
            ],
            "image/png": "[encoded data removed]"
          },
          "metadata": {
            "needs_background": "light"
          }
        }
      ],
      "source": [
        "model2 = QuestionClassifier(VOCAB_SIZE, EMBED_DIM, NUM_CLASS_coarse, use_glove=True, fine_tune_embed=False).to(device)\n",
        "\n",
        "# Print weights and biases in each layer\n",
        "for name, param in model2.named_parameters():\n",
        "  print('name : ', name)\n",
        "  # print('param : ', param)\n",
        "\n",
        "model2_evaluator = TrainValTestModel(model = model2, collate_fn = collate_batch_coarse, n_epochs=10, batch_size=16, min_valid_loss=float('inf'))\n",
        "model2_evaluator.train_and_evaluate(train_dataset=coarse_train_dataset)\n",
        "model2_evaluator.test(test_dataset=coarse_test_dataset)\n",
        "model2_evaluator.loss_plot()"
      ]
    },
    {
      "cell_type": "markdown",
      "metadata": {
        "id": "2ikmcHJR4Q31"
      },
      "source": [
        "Bag of Words: Glove+FineTune"
      ]
    },
    {
      "cell_type": "code",
      "execution_count": 33,
      "metadata": {
        "id": "diW4MGBN4QbX",
        "colab": {
          "base_uri": "https://localhost:8080/",
          "height": 1000
        },
        "outputId": "feb3dc9b-f24a-42e5-e903-7ca9c7f85711"
      },
      "outputs": [
        {
          "output_type": "stream",
          "name": "stdout",
          "text": [
            "name :  embedding.weight\n",
            "name :  fc.weight\n",
            "name :  fc.bias\n",
            "[Train & Validation]\n",
            "Epoch: 1  | time in 0 minutes, 1 seconds\n",
            "\tLoss: 0.0645(train)\t|\tAcc: 68.2%(train)\n",
            "\tLoss: 0.0483(valid)\t|\tAcc: 75.5%(valid)\n",
            "Epoch: 2  | time in 0 minutes, 1 seconds\n",
            "\tLoss: 0.0263(train)\t|\tAcc: 85.0%(train)\n",
            "\tLoss: 0.0584(valid)\t|\tAcc: 72.2%(valid)\n",
            "Epoch: 3  | time in 0 minutes, 1 seconds\n",
            "\tLoss: 0.0152(train)\t|\tAcc: 91.8%(train)\n",
            "\tLoss: 0.0473(valid)\t|\tAcc: 80.2%(valid)\n",
            "Epoch: 4  | time in 0 minutes, 0 seconds\n",
            "\tLoss: 0.0077(train)\t|\tAcc: 96.0%(train)\n",
            "\tLoss: 0.0456(valid)\t|\tAcc: 80.8%(valid)\n",
            "Epoch: 5  | time in 0 minutes, 0 seconds\n",
            "\tLoss: 0.0040(train)\t|\tAcc: 98.7%(train)\n",
            "\tLoss: 0.0508(valid)\t|\tAcc: 79.7%(valid)\n",
            "Epoch: 6  | time in 0 minutes, 0 seconds\n",
            "\tLoss: 0.0024(train)\t|\tAcc: 99.6%(train)\n",
            "\tLoss: 0.0465(valid)\t|\tAcc: 81.9%(valid)\n",
            "Epoch: 7  | time in 0 minutes, 0 seconds\n",
            "\tLoss: 0.0015(train)\t|\tAcc: 99.9%(train)\n",
            "\tLoss: 0.0474(valid)\t|\tAcc: 80.8%(valid)\n",
            "Epoch: 8  | time in 0 minutes, 0 seconds\n",
            "\tLoss: 0.0012(train)\t|\tAcc: 99.9%(train)\n",
            "\tLoss: 0.0496(valid)\t|\tAcc: 81.5%(valid)\n",
            "Epoch: 9  | time in 0 minutes, 0 seconds\n",
            "\tLoss: 0.0009(train)\t|\tAcc: 99.9%(train)\n",
            "\tLoss: 0.0499(valid)\t|\tAcc: 81.9%(valid)\n",
            "Epoch: 10  | time in 0 minutes, 0 seconds\n",
            "\tLoss: 0.0008(train)\t|\tAcc: 99.9%(train)\n",
            "\tLoss: 0.0499(valid)\t|\tAcc: 81.7%(valid)\n",
            "Macro F1 score: 0.7860\n",
            "[Test]\n",
            "\tLoss: 0.0313(test)\t|\tAcc: 86.8%(test)\n"
          ]
        },
        {
          "output_type": "display_data",
          "data": {
            "text/plain": [
              "<Figure size 432x432 with 1 Axes>"
            ],
            "image/png": "[encoded data removed]"
          },
          "metadata": {
            "needs_background": "light"
          }
        }
      ],
      "source": [
        "model3 = QuestionClassifier(VOCAB_SIZE, EMBED_DIM, NUM_CLASS_coarse, use_glove=True, fine_tune_embed=True).to(device)\n",
        "\n",
        "# Print weights and biases in each layer\n",
        "for name, param in model2.named_parameters():\n",
        "  print('name : ', name)\n",
        "  # print('param : ', param)\n",
        "\n",
        "model3_evaluator = TrainValTestModel(model = model3, collate_fn = collate_batch_coarse, n_epochs=10, batch_size=16, min_valid_loss=float('inf'))\n",
        "model3_evaluator.train_and_evaluate(train_dataset=coarse_train_dataset)\n",
        "model3_evaluator.test(test_dataset=coarse_test_dataset)\n",
        "model3_evaluator.loss_plot()"
      ]
    },
    {
      "cell_type": "markdown",
      "metadata": {
        "id": "_2WnELOZNuJc"
      },
      "source": [
        "BiLSTM: Random+FineTune"
      ]
    },
    {
      "cell_type": "code",
      "execution_count": 34,
      "metadata": {
        "id": "UJjvPZhFNsoU",
        "colab": {
          "base_uri": "https://localhost:8080/",
          "height": 1000
        },
        "outputId": "92a2b172-60b9-4334-8943-7b060885ba90"
      },
      "outputs": [
        {
          "output_type": "stream",
          "name": "stdout",
          "text": [
            "name :  embedding.weight\n",
            "name :  lstm.weight_ih_l0\n",
            "name :  lstm.weight_hh_l0\n",
            "name :  lstm.bias_ih_l0\n",
            "name :  lstm.bias_hh_l0\n",
            "name :  lstm.weight_ih_l0_reverse\n",
            "name :  lstm.weight_hh_l0_reverse\n",
            "name :  lstm.bias_ih_l0_reverse\n",
            "name :  lstm.bias_hh_l0_reverse\n",
            "name :  linear1.weight\n",
            "name :  linear1.bias\n",
            "name :  linear2.weight\n",
            "name :  linear2.bias\n",
            "name :  out.weight\n",
            "name :  out.bias\n",
            "train func starts\n",
            "loop starts\n",
            "Epoch: 1  | time in 0 minutes, 19 seconds\n",
            "\tLoss: 0.0991(train)\t|\tAcc: 44.4%(train)\n",
            "\tLoss: 0.0038(valid)\t|\tAcc: 57.3%(valid)\n",
            "train func starts\n",
            "loop starts\n",
            "Epoch: 2  | time in 0 minutes, 20 seconds\n",
            "\tLoss: 0.0876(train)\t|\tAcc: 64.1%(train)\n",
            "\tLoss: 0.0038(valid)\t|\tAcc: 60.8%(valid)\n",
            "train func starts\n",
            "loop starts\n",
            "Epoch: 3  | time in 0 minutes, 27 seconds\n",
            "\tLoss: 0.0822(train)\t|\tAcc: 72.8%(train)\n",
            "\tLoss: 0.0039(valid)\t|\tAcc: 71.6%(valid)\n",
            "train func starts\n",
            "loop starts\n",
            "Epoch: 4  | time in 0 minutes, 25 seconds\n",
            "\tLoss: 0.0789(train)\t|\tAcc: 78.0%(train)\n",
            "\tLoss: 0.0057(valid)\t|\tAcc: 71.4%(valid)\n",
            "train func starts\n",
            "loop starts\n",
            "Epoch: 5  | time in 0 minutes, 26 seconds\n",
            "\tLoss: 0.0760(train)\t|\tAcc: 82.9%(train)\n",
            "\tLoss: 0.0038(valid)\t|\tAcc: 75.1%(valid)\n",
            "train func starts\n",
            "loop starts\n",
            "Epoch: 6  | time in 0 minutes, 31 seconds\n",
            "\tLoss: 0.0743(train)\t|\tAcc: 85.9%(train)\n",
            "\tLoss: 0.0057(valid)\t|\tAcc: 72.9%(valid)\n",
            "train func starts\n",
            "loop starts\n",
            "Epoch: 7  | time in 0 minutes, 36 seconds\n",
            "\tLoss: 0.0737(train)\t|\tAcc: 86.6%(train)\n",
            "\tLoss: 0.0057(valid)\t|\tAcc: 75.1%(valid)\n",
            "train func starts\n",
            "loop starts\n",
            "Epoch: 8  | time in 0 minutes, 35 seconds\n",
            "\tLoss: 0.0732(train)\t|\tAcc: 87.5%(train)\n",
            "\tLoss: 0.0038(valid)\t|\tAcc: 76.4%(valid)\n",
            "train func starts\n",
            "loop starts\n",
            "Epoch: 9  | time in 0 minutes, 37 seconds\n",
            "\tLoss: 0.0723(train)\t|\tAcc: 88.9%(train)\n",
            "\tLoss: 0.0057(valid)\t|\tAcc: 77.8%(valid)\n",
            "train func starts\n",
            "loop starts\n",
            "Epoch: 10  | time in 0 minutes, 40 seconds\n",
            "\tLoss: 0.0718(train)\t|\tAcc: 89.7%(train)\n",
            "\tLoss: 0.0046(valid)\t|\tAcc: 77.8%(valid)\n",
            "Macro F1 score: 0.6021\n",
            "[Test]\n",
            "\tLoss: 0.0052(test)\t|\tAcc: 79.8%(test)\n"
          ]
        },
        {
          "output_type": "display_data",
          "data": {
            "text/plain": [
              "<Figure size 432x432 with 1 Axes>"
            ],
            "image/png": "[encoded data removed]"
          },
          "metadata": {
            "needs_background": "light"
          }
        }
      ],
      "source": [
        "model4 = BiLSTM3(VOCAB_SIZE, EMBED_DIM, num_class=NUM_CLASS_coarse, use_glove=False, fine_tune_embed=True).to(device)\n",
        "\n",
        "# Print weights and biases in each layer\n",
        "for name, param in model4.named_parameters():\n",
        "  print('name : ', name)\n",
        "  # print('param : ', param)\n",
        "\n",
        "model4_evaluator = TrainValTestBiLSTMModel(model = model4, collate_fn = collate_batch_padding2_coarse, n_epochs=10, batch_size=16, min_valid_loss=float('inf'))\n",
        "model4_evaluator.train_and_evaluate(train_dataset=coarse_train_dataset)\n",
        "model4_evaluator.test(test_dataset=coarse_test_dataset)\n",
        "model4_evaluator.loss_plot()"
      ]
    },
    {
      "cell_type": "markdown",
      "metadata": {
        "id": "9_raVhTKODNJ"
      },
      "source": [
        "BiLSTM: Glove+Freeze"
      ]
    },
    {
      "cell_type": "code",
      "execution_count": 35,
      "metadata": {
        "id": "76lY3QggODSC",
        "colab": {
          "base_uri": "https://localhost:8080/",
          "height": 1000
        },
        "outputId": "1d00df6f-3b85-4674-d248-e4171ed22dd7"
      },
      "outputs": [
        {
          "output_type": "stream",
          "name": "stdout",
          "text": [
            "name :  embedding.weight\n",
            "name :  lstm.weight_ih_l0\n",
            "name :  lstm.weight_hh_l0\n",
            "name :  lstm.bias_ih_l0\n",
            "name :  lstm.bias_hh_l0\n",
            "name :  lstm.weight_ih_l0_reverse\n",
            "name :  lstm.weight_hh_l0_reverse\n",
            "name :  lstm.bias_ih_l0_reverse\n",
            "name :  lstm.bias_hh_l0_reverse\n",
            "name :  linear1.weight\n",
            "name :  linear1.bias\n",
            "name :  linear2.weight\n",
            "name :  linear2.bias\n",
            "name :  out.weight\n",
            "name :  out.bias\n",
            "train func starts\n",
            "loop starts\n",
            "Epoch: 1  | time in 0 minutes, 8 seconds\n",
            "\tLoss: 0.0957(train)\t|\tAcc: 49.6%(train)\n",
            "\tLoss: 0.0052(valid)\t|\tAcc: 72.0%(valid)\n",
            "train func starts\n",
            "loop starts\n",
            "Epoch: 2  | time in 0 minutes, 12 seconds\n",
            "\tLoss: 0.0832(train)\t|\tAcc: 71.8%(train)\n",
            "\tLoss: 0.0038(valid)\t|\tAcc: 70.9%(valid)\n",
            "train func starts\n",
            "loop starts\n",
            "Epoch: 3  | time in 0 minutes, 9 seconds\n",
            "\tLoss: 0.0793(train)\t|\tAcc: 77.6%(train)\n",
            "\tLoss: 0.0038(valid)\t|\tAcc: 78.8%(valid)\n",
            "train func starts\n",
            "loop starts\n",
            "Epoch: 4  | time in 0 minutes, 10 seconds\n",
            "\tLoss: 0.0766(train)\t|\tAcc: 82.0%(train)\n",
            "\tLoss: 0.0038(valid)\t|\tAcc: 81.5%(valid)\n",
            "train func starts\n",
            "loop starts\n",
            "Epoch: 5  | time in 0 minutes, 12 seconds\n",
            "\tLoss: 0.0761(train)\t|\tAcc: 82.7%(train)\n",
            "\tLoss: 0.0038(valid)\t|\tAcc: 79.5%(valid)\n",
            "train func starts\n",
            "loop starts\n",
            "Epoch: 6  | time in 0 minutes, 12 seconds\n",
            "\tLoss: 0.0759(train)\t|\tAcc: 83.0%(train)\n",
            "\tLoss: 0.0038(valid)\t|\tAcc: 73.8%(valid)\n",
            "train func starts\n",
            "loop starts\n",
            "Epoch: 7  | time in 0 minutes, 14 seconds\n",
            "\tLoss: 0.0753(train)\t|\tAcc: 84.2%(train)\n",
            "\tLoss: 0.0038(valid)\t|\tAcc: 81.9%(valid)\n",
            "train func starts\n",
            "loop starts\n",
            "Epoch: 8  | time in 0 minutes, 15 seconds\n",
            "\tLoss: 0.0746(train)\t|\tAcc: 85.2%(train)\n",
            "\tLoss: 0.0038(valid)\t|\tAcc: 82.1%(valid)\n",
            "train func starts\n",
            "loop starts\n",
            "Epoch: 9  | time in 0 minutes, 16 seconds\n",
            "\tLoss: 0.0731(train)\t|\tAcc: 87.6%(train)\n",
            "\tLoss: 0.0038(valid)\t|\tAcc: 81.1%(valid)\n",
            "train func starts\n",
            "loop starts\n",
            "Epoch: 10  | time in 0 minutes, 16 seconds\n",
            "\tLoss: 0.0728(train)\t|\tAcc: 88.1%(train)\n",
            "\tLoss: 0.0038(valid)\t|\tAcc: 82.8%(valid)\n",
            "Macro F1 score: 0.6690\n",
            "[Test]\n",
            "\tLoss: 0.0052(test)\t|\tAcc: 86.2%(test)\n"
          ]
        },
        {
          "output_type": "display_data",
          "data": {
            "text/plain": [
              "<Figure size 432x432 with 1 Axes>"
            ],
            "image/png": "[encoded data removed]"
          },
          "metadata": {
            "needs_background": "light"
          }
        }
      ],
      "source": [
        "model5 = BiLSTM3(VOCAB_SIZE, EMBED_DIM, num_class=NUM_CLASS_coarse, use_glove=True, fine_tune_embed=False).to(device)\n",
        "\n",
        "# Print weights and biases in each layer\n",
        "for name, param in model5.named_parameters():\n",
        "  print('name : ', name)\n",
        "  # print('param : ', param)\n",
        "\n",
        "model5_evaluator = TrainValTestBiLSTMModel(model = model5, collate_fn = collate_batch_padding2_coarse, n_epochs=10, batch_size=16, min_valid_loss=float('inf'))\n",
        "model5_evaluator.train_and_evaluate(train_dataset=coarse_train_dataset)\n",
        "model5_evaluator.test(test_dataset=coarse_test_dataset)\n",
        "model5_evaluator.loss_plot()"
      ]
    },
    {
      "cell_type": "markdown",
      "metadata": {
        "id": "PLegFsZoOEOp"
      },
      "source": [
        "BiLSTM: Glove+FineTune"
      ]
    },
    {
      "cell_type": "code",
      "execution_count": 36,
      "metadata": {
        "id": "V-qfVF8OOEUw",
        "colab": {
          "base_uri": "https://localhost:8080/",
          "height": 1000
        },
        "outputId": "3626889b-25b8-4a93-cbab-cfd46f206680"
      },
      "outputs": [
        {
          "output_type": "stream",
          "name": "stdout",
          "text": [
            "name :  embedding.weight\n",
            "name :  lstm.weight_ih_l0\n",
            "name :  lstm.weight_hh_l0\n",
            "name :  lstm.bias_ih_l0\n",
            "name :  lstm.bias_hh_l0\n",
            "name :  lstm.weight_ih_l0_reverse\n",
            "name :  lstm.weight_hh_l0_reverse\n",
            "name :  lstm.bias_ih_l0_reverse\n",
            "name :  lstm.bias_hh_l0_reverse\n",
            "name :  linear1.weight\n",
            "name :  linear1.bias\n",
            "name :  linear2.weight\n",
            "name :  linear2.bias\n",
            "name :  out.weight\n",
            "name :  out.bias\n",
            "train func starts\n",
            "loop starts\n",
            "Epoch: 1  | time in 0 minutes, 23 seconds\n",
            "\tLoss: 0.0952(train)\t|\tAcc: 50.7%(train)\n",
            "\tLoss: 0.0038(valid)\t|\tAcc: 73.4%(valid)\n",
            "train func starts\n",
            "loop starts\n",
            "Epoch: 2  | time in 0 minutes, 29 seconds\n",
            "\tLoss: 0.0781(train)\t|\tAcc: 79.4%(train)\n",
            "\tLoss: 0.0057(valid)\t|\tAcc: 81.0%(valid)\n",
            "train func starts\n",
            "loop starts\n",
            "Epoch: 3  | time in 0 minutes, 34 seconds\n",
            "\tLoss: 0.0756(train)\t|\tAcc: 83.5%(train)\n",
            "\tLoss: 0.0057(valid)\t|\tAcc: 80.0%(valid)\n",
            "train func starts\n",
            "loop starts\n",
            "Epoch: 4  | time in 0 minutes, 41 seconds\n",
            "\tLoss: 0.0735(train)\t|\tAcc: 86.9%(train)\n",
            "\tLoss: 0.0057(valid)\t|\tAcc: 81.1%(valid)\n",
            "train func starts\n",
            "loop starts\n",
            "Epoch: 5  | time in 0 minutes, 44 seconds\n",
            "\tLoss: 0.0723(train)\t|\tAcc: 88.9%(train)\n",
            "\tLoss: 0.0057(valid)\t|\tAcc: 79.9%(valid)\n",
            "train func starts\n",
            "loop starts\n",
            "Epoch: 6  | time in 0 minutes, 47 seconds\n",
            "\tLoss: 0.0714(train)\t|\tAcc: 90.3%(train)\n",
            "\tLoss: 0.0057(valid)\t|\tAcc: 80.2%(valid)\n",
            "train func starts\n",
            "loop starts\n",
            "Epoch: 7  | time in 0 minutes, 49 seconds\n",
            "\tLoss: 0.0712(train)\t|\tAcc: 90.5%(train)\n",
            "\tLoss: 0.0057(valid)\t|\tAcc: 81.0%(valid)\n",
            "train func starts\n",
            "loop starts\n",
            "Epoch: 8  | time in 0 minutes, 50 seconds\n",
            "\tLoss: 0.0707(train)\t|\tAcc: 91.4%(train)\n",
            "\tLoss: 0.0057(valid)\t|\tAcc: 81.3%(valid)\n",
            "train func starts\n",
            "loop starts\n",
            "Epoch: 9  | time in 0 minutes, 49 seconds\n",
            "\tLoss: 0.0704(train)\t|\tAcc: 91.9%(train)\n",
            "\tLoss: 0.0057(valid)\t|\tAcc: 82.1%(valid)\n",
            "train func starts\n",
            "loop starts\n",
            "Epoch: 10  | time in 0 minutes, 53 seconds\n",
            "\tLoss: 0.0701(train)\t|\tAcc: 92.3%(train)\n",
            "\tLoss: 0.0057(valid)\t|\tAcc: 81.9%(valid)\n",
            "Macro F1 score: 0.6843\n",
            "[Test]\n",
            "\tLoss: 0.0062(test)\t|\tAcc: 86.6%(test)\n"
          ]
        },
        {
          "output_type": "display_data",
          "data": {
            "text/plain": [
              "<Figure size 432x432 with 1 Axes>"
            ],
            "image/png": "[encoded data removed]"
          },
          "metadata": {
            "needs_background": "light"
          }
        }
      ],
      "source": [
        "model6 = BiLSTM3(VOCAB_SIZE, EMBED_DIM, num_class=NUM_CLASS_coarse, use_glove=True, fine_tune_embed=True).to(device)\n",
        "\n",
        "# Print weights and biases in each layer\n",
        "for name, param in model6.named_parameters():\n",
        "  print('name : ', name)\n",
        "  # print('param : ', param)\n",
        "\n",
        "model6_evaluator = TrainValTestBiLSTMModel(model = model6, collate_fn = collate_batch_padding2_coarse, n_epochs=10, batch_size=16, min_valid_loss=float('inf'))\n",
        "model6_evaluator.train_and_evaluate(train_dataset=coarse_train_dataset)\n",
        "model6_evaluator.test(test_dataset=coarse_test_dataset)\n",
        "model6_evaluator.loss_plot()"
      ]
    },
    {
      "cell_type": "markdown",
      "metadata": {
        "id": "yqTAjpys4iL0"
      },
      "source": [
        "## Fine Classification"
      ]
    },
    {
      "cell_type": "markdown",
      "metadata": {
        "id": "h2PZAWnm5Hde"
      },
      "source": [
        "Bag of Words: Random+FineTune"
      ]
    },
    {
      "cell_type": "code",
      "execution_count": 37,
      "metadata": {
        "id": "fsqewPNG4jiT",
        "colab": {
          "base_uri": "https://localhost:8080/",
          "height": 1000
        },
        "outputId": "074cd18d-7e02-4fd8-9f90-24c0cc1fe70a"
      },
      "outputs": [
        {
          "output_type": "stream",
          "name": "stdout",
          "text": [
            "name :  embedding.weight\n",
            "name :  fc.weight\n",
            "name :  fc.bias\n",
            "[Train & Validation]\n",
            "Epoch: 1  | time in 0 minutes, 0 seconds\n",
            "\tLoss: 0.1170(train)\t|\tAcc: 54.2%(train)\n",
            "\tLoss: 0.0988(valid)\t|\tAcc: 59.3%(valid)\n",
            "Epoch: 2  | time in 0 minutes, 0 seconds\n",
            "\tLoss: 0.0594(train)\t|\tAcc: 75.3%(train)\n",
            "\tLoss: 0.0881(valid)\t|\tAcc: 63.6%(valid)\n",
            "Epoch: 3  | time in 0 minutes, 0 seconds\n",
            "\tLoss: 0.0339(train)\t|\tAcc: 86.3%(train)\n",
            "\tLoss: 0.0765(valid)\t|\tAcc: 71.2%(valid)\n",
            "Epoch: 4  | time in 0 minutes, 0 seconds\n",
            "\tLoss: 0.0193(train)\t|\tAcc: 93.5%(train)\n",
            "\tLoss: 0.0733(valid)\t|\tAcc: 72.9%(valid)\n",
            "Epoch: 5  | time in 0 minutes, 0 seconds\n",
            "\tLoss: 0.0110(train)\t|\tAcc: 97.3%(train)\n",
            "\tLoss: 0.0715(valid)\t|\tAcc: 73.3%(valid)\n",
            "Epoch: 6  | time in 0 minutes, 0 seconds\n",
            "\tLoss: 0.0070(train)\t|\tAcc: 99.0%(train)\n",
            "\tLoss: 0.0702(valid)\t|\tAcc: 73.6%(valid)\n",
            "Epoch: 7  | time in 0 minutes, 0 seconds\n",
            "\tLoss: 0.0048(train)\t|\tAcc: 99.5%(train)\n",
            "\tLoss: 0.0698(valid)\t|\tAcc: 73.6%(valid)\n",
            "Epoch: 8  | time in 0 minutes, 0 seconds\n",
            "\tLoss: 0.0037(train)\t|\tAcc: 99.8%(train)\n",
            "\tLoss: 0.0695(valid)\t|\tAcc: 74.7%(valid)\n",
            "Epoch: 9  | time in 0 minutes, 0 seconds\n",
            "\tLoss: 0.0029(train)\t|\tAcc: 99.7%(train)\n",
            "\tLoss: 0.0704(valid)\t|\tAcc: 73.8%(valid)\n",
            "Epoch: 10  | time in 0 minutes, 0 seconds\n",
            "\tLoss: 0.0025(train)\t|\tAcc: 99.8%(train)\n",
            "\tLoss: 0.0704(valid)\t|\tAcc: 74.2%(valid)\n",
            "Macro F1 score: 0.5003\n",
            "[Test]\n",
            "\tLoss: 0.0636(test)\t|\tAcc: 75.4%(test)\n"
          ]
        },
        {
          "output_type": "display_data",
          "data": {
            "text/plain": [
              "<Figure size 432x432 with 1 Axes>"
            ],
            "image/png": "[encoded data removed]"
          },
          "metadata": {
            "needs_background": "light"
          }
        }
      ],
      "source": [
        "model7 = QuestionClassifier(VOCAB_SIZE, EMBED_DIM, NUM_CLASS_fine, use_glove=False, fine_tune_embed=True).to(device)\n",
        "\n",
        "# Print weights and biases in each layer\n",
        "for name, param in model7.named_parameters():\n",
        "  print('name : ', name)\n",
        "  # print('param : ', param)\n",
        "\n",
        "model7_evaluator = TrainValTestModel(model = model7, collate_fn = collate_batch_fine, n_epochs=10, batch_size=16, min_valid_loss=float('inf'))\n",
        "model7_evaluator.train_and_evaluate(train_dataset=fine_train_dataset)\n",
        "model7_evaluator.test(test_dataset=fine_test_dataset)\n",
        "model7_evaluator.loss_plot()"
      ]
    },
    {
      "cell_type": "markdown",
      "metadata": {
        "id": "_8rVdxfz5_yo"
      },
      "source": [
        "Bag of Words: Glove+Freeze"
      ]
    },
    {
      "cell_type": "code",
      "execution_count": 38,
      "metadata": {
        "id": "wVsteh9055m2",
        "colab": {
          "base_uri": "https://localhost:8080/",
          "height": 1000
        },
        "outputId": "5ca24d47-2064-4b6e-a3bb-5dd596503fed"
      },
      "outputs": [
        {
          "output_type": "stream",
          "name": "stdout",
          "text": [
            "name :  embedding.weight\n",
            "name :  fc.weight\n",
            "name :  fc.bias\n",
            "[Train & Validation]\n",
            "Epoch: 1  | time in 0 minutes, 0 seconds\n",
            "\tLoss: 0.2464(train)\t|\tAcc: 33.3%(train)\n",
            "\tLoss: 0.1672(valid)\t|\tAcc: 46.3%(valid)\n",
            "Epoch: 2  | time in 0 minutes, 0 seconds\n",
            "\tLoss: 0.1124(train)\t|\tAcc: 55.8%(train)\n",
            "\tLoss: 0.1094(valid)\t|\tAcc: 54.8%(valid)\n",
            "Epoch: 3  | time in 0 minutes, 0 seconds\n",
            "\tLoss: 0.0802(train)\t|\tAcc: 65.2%(train)\n",
            "\tLoss: 0.1277(valid)\t|\tAcc: 54.9%(valid)\n",
            "Epoch: 4  | time in 0 minutes, 0 seconds\n",
            "\tLoss: 0.0680(train)\t|\tAcc: 68.9%(train)\n",
            "\tLoss: 0.1066(valid)\t|\tAcc: 56.2%(valid)\n",
            "Epoch: 5  | time in 0 minutes, 0 seconds\n",
            "\tLoss: 0.0574(train)\t|\tAcc: 73.4%(train)\n",
            "\tLoss: 0.0958(valid)\t|\tAcc: 60.1%(valid)\n",
            "Epoch: 6  | time in 0 minutes, 0 seconds\n",
            "\tLoss: 0.0516(train)\t|\tAcc: 76.0%(train)\n",
            "\tLoss: 0.0996(valid)\t|\tAcc: 60.3%(valid)\n",
            "Epoch: 7  | time in 0 minutes, 0 seconds\n",
            "\tLoss: 0.0464(train)\t|\tAcc: 78.0%(train)\n",
            "\tLoss: 0.0957(valid)\t|\tAcc: 60.6%(valid)\n",
            "Epoch: 8  | time in 0 minutes, 0 seconds\n",
            "\tLoss: 0.0425(train)\t|\tAcc: 80.2%(train)\n",
            "\tLoss: 0.0928(valid)\t|\tAcc: 61.0%(valid)\n",
            "Epoch: 9  | time in 0 minutes, 0 seconds\n",
            "\tLoss: 0.0402(train)\t|\tAcc: 81.2%(train)\n",
            "\tLoss: 0.0889(valid)\t|\tAcc: 62.3%(valid)\n",
            "Epoch: 10  | time in 0 minutes, 0 seconds\n",
            "\tLoss: 0.0379(train)\t|\tAcc: 82.3%(train)\n",
            "\tLoss: 0.0903(valid)\t|\tAcc: 63.0%(valid)\n",
            "Macro F1 score: 0.3782\n",
            "[Test]\n",
            "\tLoss: 0.0958(test)\t|\tAcc: 65.6%(test)\n"
          ]
        },
        {
          "output_type": "display_data",
          "data": {
            "text/plain": [
              "<Figure size 432x432 with 1 Axes>"
            ],
            "image/png": "[encoded data removed]"
          },
          "metadata": {
            "needs_background": "light"
          }
        }
      ],
      "source": [
        "model8 = QuestionClassifier(VOCAB_SIZE, EMBED_DIM, NUM_CLASS_fine, use_glove=True, fine_tune_embed=False).to(device)\n",
        "\n",
        "# Print weights and biases in each layer\n",
        "for name, param in model8.named_parameters():\n",
        "  print('name : ', name)\n",
        "  # print('param : ', param)\n",
        "\n",
        "model8_evaluator = TrainValTestModel(model = model8, collate_fn = collate_batch_fine, n_epochs=10, batch_size=16, min_valid_loss=float('inf'))\n",
        "model8_evaluator.train_and_evaluate(train_dataset=fine_train_dataset)\n",
        "model8_evaluator.test(test_dataset=fine_test_dataset)\n",
        "model8_evaluator.loss_plot()"
      ]
    },
    {
      "cell_type": "markdown",
      "metadata": {
        "id": "rYI76RLZ6M4P"
      },
      "source": [
        "Bag of Words: Glove+FineTune"
      ]
    },
    {
      "cell_type": "code",
      "execution_count": 39,
      "metadata": {
        "id": "vueOcFPD6Q0T",
        "colab": {
          "base_uri": "https://localhost:8080/",
          "height": 1000
        },
        "outputId": "082161cb-12b7-4ac8-dc50-6651cf127a07"
      },
      "outputs": [
        {
          "output_type": "stream",
          "name": "stdout",
          "text": [
            "name :  embedding.weight\n",
            "name :  fc.weight\n",
            "name :  fc.bias\n",
            "[Train & Validation]\n",
            "Epoch: 1  | time in 0 minutes, 0 seconds\n",
            "\tLoss: 0.1065(train)\t|\tAcc: 58.8%(train)\n",
            "\tLoss: 0.0781(valid)\t|\tAcc: 67.8%(valid)\n",
            "Epoch: 2  | time in 0 minutes, 0 seconds\n",
            "\tLoss: 0.0419(train)\t|\tAcc: 81.9%(train)\n",
            "\tLoss: 0.0668(valid)\t|\tAcc: 69.0%(valid)\n",
            "Epoch: 3  | time in 0 minutes, 0 seconds\n",
            "\tLoss: 0.0219(train)\t|\tAcc: 90.7%(train)\n",
            "\tLoss: 0.0625(valid)\t|\tAcc: 74.4%(valid)\n",
            "Epoch: 4  | time in 0 minutes, 0 seconds\n",
            "\tLoss: 0.0116(train)\t|\tAcc: 96.7%(train)\n",
            "\tLoss: 0.0596(valid)\t|\tAcc: 74.9%(valid)\n",
            "Epoch: 5  | time in 0 minutes, 0 seconds\n",
            "\tLoss: 0.0066(train)\t|\tAcc: 98.8%(train)\n",
            "\tLoss: 0.0604(valid)\t|\tAcc: 75.6%(valid)\n",
            "Epoch: 6  | time in 0 minutes, 0 seconds\n",
            "\tLoss: 0.0043(train)\t|\tAcc: 99.5%(train)\n",
            "\tLoss: 0.0601(valid)\t|\tAcc: 76.4%(valid)\n",
            "Epoch: 7  | time in 0 minutes, 0 seconds\n",
            "\tLoss: 0.0033(train)\t|\tAcc: 99.7%(train)\n",
            "\tLoss: 0.0593(valid)\t|\tAcc: 75.6%(valid)\n",
            "Epoch: 8  | time in 0 minutes, 0 seconds\n",
            "\tLoss: 0.0026(train)\t|\tAcc: 99.9%(train)\n",
            "\tLoss: 0.0597(valid)\t|\tAcc: 76.2%(valid)\n",
            "Epoch: 9  | time in 0 minutes, 0 seconds\n",
            "\tLoss: 0.0022(train)\t|\tAcc: 99.9%(train)\n",
            "\tLoss: 0.0610(valid)\t|\tAcc: 76.2%(valid)\n",
            "Epoch: 10  | time in 0 minutes, 0 seconds\n",
            "\tLoss: 0.0019(train)\t|\tAcc: 99.9%(train)\n",
            "\tLoss: 0.0598(valid)\t|\tAcc: 76.0%(valid)\n",
            "Macro F1 score: 0.5314\n",
            "[Test]\n",
            "\tLoss: 0.0646(test)\t|\tAcc: 79.0%(test)\n"
          ]
        },
        {
          "output_type": "display_data",
          "data": {
            "text/plain": [
              "<Figure size 432x432 with 1 Axes>"
            ],
            "image/png": "[encoded data removed]"
          },
          "metadata": {
            "needs_background": "light"
          }
        }
      ],
      "source": [
        "model9 = QuestionClassifier(VOCAB_SIZE, EMBED_DIM, NUM_CLASS_fine, use_glove=True, fine_tune_embed=True).to(device)\n",
        "\n",
        "# Print weights and biases in each layer\n",
        "for name, param in model9.named_parameters():\n",
        "  print('name : ', name)\n",
        "  # print('param : ', param)\n",
        "\n",
        "model9_evaluator = TrainValTestModel(model = model9, collate_fn = collate_batch_fine, n_epochs=10, batch_size=16, min_valid_loss=float('inf'))\n",
        "model9_evaluator.train_and_evaluate(train_dataset=fine_train_dataset)\n",
        "model9_evaluator.test(test_dataset=fine_test_dataset)\n",
        "model9_evaluator.loss_plot()"
      ]
    },
    {
      "cell_type": "markdown",
      "metadata": {
        "id": "XcN4HcRQQKwR"
      },
      "source": [
        "BiLSTM: Random+FineTune"
      ]
    },
    {
      "cell_type": "code",
      "execution_count": 40,
      "metadata": {
        "id": "tBCZzwDJQK0y",
        "colab": {
          "base_uri": "https://localhost:8080/",
          "height": 1000
        },
        "outputId": "a55c752f-a67b-4f19-fa50-36c092a1fc8b"
      },
      "outputs": [
        {
          "output_type": "stream",
          "name": "stdout",
          "text": [
            "name :  embedding.weight\n",
            "name :  lstm.weight_ih_l0\n",
            "name :  lstm.weight_hh_l0\n",
            "name :  lstm.bias_ih_l0\n",
            "name :  lstm.bias_hh_l0\n",
            "name :  lstm.weight_ih_l0_reverse\n",
            "name :  lstm.weight_hh_l0_reverse\n",
            "name :  lstm.bias_ih_l0_reverse\n",
            "name :  lstm.bias_hh_l0_reverse\n",
            "name :  linear1.weight\n",
            "name :  linear1.bias\n",
            "name :  linear2.weight\n",
            "name :  linear2.bias\n",
            "name :  out.weight\n",
            "name :  out.bias\n",
            "train func starts\n",
            "loop starts\n",
            "Epoch: 1  | time in 0 minutes, 47 seconds\n",
            "\tLoss: 0.2366(train)\t|\tAcc: 16.6%(train)\n",
            "\tLoss: 0.0126(valid)\t|\tAcc: 19.2%(valid)\n",
            "train func starts\n",
            "loop starts\n",
            "Epoch: 2  | time in 0 minutes, 57 seconds\n",
            "\tLoss: 0.2360(train)\t|\tAcc: 17.5%(train)\n",
            "\tLoss: 0.0126(valid)\t|\tAcc: 19.2%(valid)\n",
            "train func starts\n",
            "loop starts\n",
            "Epoch: 3  | time in 1 minutes, 7 seconds\n",
            "\tLoss: 0.2360(train)\t|\tAcc: 17.5%(train)\n",
            "\tLoss: 0.0126(valid)\t|\tAcc: 19.2%(valid)\n",
            "train func starts\n",
            "loop starts\n",
            "Epoch: 4  | time in 1 minutes, 29 seconds\n",
            "\tLoss: 0.2360(train)\t|\tAcc: 17.5%(train)\n",
            "\tLoss: 0.0126(valid)\t|\tAcc: 19.2%(valid)\n",
            "train func starts\n",
            "loop starts\n",
            "Epoch: 5  | time in 1 minutes, 24 seconds\n",
            "\tLoss: 0.2360(train)\t|\tAcc: 17.5%(train)\n",
            "\tLoss: 0.0126(valid)\t|\tAcc: 19.2%(valid)\n",
            "train func starts\n",
            "loop starts\n",
            "Epoch: 6  | time in 0 minutes, 57 seconds\n",
            "\tLoss: 0.2361(train)\t|\tAcc: 17.3%(train)\n",
            "\tLoss: 0.0126(valid)\t|\tAcc: 25.8%(valid)\n",
            "train func starts\n",
            "loop starts\n",
            "Epoch: 7  | time in 0 minutes, 52 seconds\n",
            "\tLoss: 0.2324(train)\t|\tAcc: 23.2%(train)\n",
            "\tLoss: 0.0126(valid)\t|\tAcc: 26.0%(valid)\n",
            "train func starts\n",
            "loop starts\n",
            "Epoch: 8  | time in 0 minutes, 55 seconds\n",
            "\tLoss: 0.2323(train)\t|\tAcc: 23.4%(train)\n",
            "\tLoss: 0.0126(valid)\t|\tAcc: 25.1%(valid)\n",
            "train func starts\n",
            "loop starts\n",
            "Epoch: 9  | time in 1 minutes, 3 seconds\n",
            "\tLoss: 0.2326(train)\t|\tAcc: 22.9%(train)\n",
            "\tLoss: 0.0126(valid)\t|\tAcc: 26.2%(valid)\n",
            "train func starts\n",
            "loop starts\n",
            "Epoch: 10  | time in 0 minutes, 43 seconds\n",
            "\tLoss: 0.2322(train)\t|\tAcc: 23.5%(train)\n",
            "\tLoss: 0.0126(valid)\t|\tAcc: 26.2%(valid)\n",
            "Macro F1 score: 0.0159\n",
            "[Test]\n",
            "\tLoss: 0.0148(test)\t|\tAcc: 12.8%(test)\n"
          ]
        },
        {
          "output_type": "display_data",
          "data": {
            "text/plain": [
              "<Figure size 432x432 with 1 Axes>"
            ],
            "image/png": "[encoded data removed]"
          },
          "metadata": {
            "needs_background": "light"
          }
        }
      ],
      "source": [
        "model10 = BiLSTM3(VOCAB_SIZE, EMBED_DIM, num_class=NUM_CLASS_fine, use_glove=False, fine_tune_embed=True).to(device)\n",
        "\n",
        "# Print weights and biases in each layer\n",
        "for name, param in model10.named_parameters():\n",
        "  print('name : ', name)\n",
        "  # print('param : ', param)\n",
        "\n",
        "model10_evaluator = TrainValTestBiLSTMModel(model = model10, collate_fn = collate_batch_padding2_fine, n_epochs=10, batch_size=16, min_valid_loss=float('inf'))\n",
        "model10_evaluator.train_and_evaluate(train_dataset=fine_train_dataset)\n",
        "model10_evaluator.test(test_dataset=fine_test_dataset)\n",
        "model10_evaluator.loss_plot()"
      ]
    },
    {
      "cell_type": "markdown",
      "metadata": {
        "id": "lXK6W1tcQK59"
      },
      "source": [
        "BiLSTM: Glove+Freeze"
      ]
    },
    {
      "cell_type": "code",
      "execution_count": 41,
      "metadata": {
        "id": "D1L8XoJtQK-Y",
        "colab": {
          "base_uri": "https://localhost:8080/",
          "height": 1000
        },
        "outputId": "c8434564-a618-487b-a650-a2a0e4a77f69"
      },
      "outputs": [
        {
          "output_type": "stream",
          "name": "stdout",
          "text": [
            "name :  embedding.weight\n",
            "name :  lstm.weight_ih_l0\n",
            "name :  lstm.weight_hh_l0\n",
            "name :  lstm.bias_ih_l0\n",
            "name :  lstm.bias_hh_l0\n",
            "name :  lstm.weight_ih_l0_reverse\n",
            "name :  lstm.weight_hh_l0_reverse\n",
            "name :  lstm.bias_ih_l0_reverse\n",
            "name :  lstm.bias_hh_l0_reverse\n",
            "name :  linear1.weight\n",
            "name :  linear1.bias\n",
            "name :  linear2.weight\n",
            "name :  linear2.bias\n",
            "name :  out.weight\n",
            "name :  out.bias\n",
            "train func starts\n",
            "loop starts\n",
            "Epoch: 1  | time in 0 minutes, 14 seconds\n",
            "\tLoss: 0.2367(train)\t|\tAcc: 16.5%(train)\n",
            "\tLoss: 0.0126(valid)\t|\tAcc: 15.4%(valid)\n",
            "train func starts\n",
            "loop starts\n",
            "Epoch: 2  | time in 0 minutes, 26 seconds\n",
            "\tLoss: 0.2377(train)\t|\tAcc: 14.8%(train)\n",
            "\tLoss: 0.0126(valid)\t|\tAcc: 15.4%(valid)\n",
            "train func starts\n",
            "loop starts\n",
            "Epoch: 3  | time in 0 minutes, 32 seconds\n",
            "\tLoss: 0.2399(train)\t|\tAcc: 11.2%(train)\n",
            "\tLoss: 0.0145(valid)\t|\tAcc: 4.2%(valid)\n",
            "train func starts\n",
            "loop starts\n",
            "Epoch: 4  | time in 0 minutes, 41 seconds\n",
            "\tLoss: 0.2417(train)\t|\tAcc: 8.4%(train)\n",
            "\tLoss: 0.0145(valid)\t|\tAcc: 4.2%(valid)\n",
            "train func starts\n",
            "loop starts\n",
            "Epoch: 5  | time in 0 minutes, 41 seconds\n",
            "\tLoss: 0.2416(train)\t|\tAcc: 8.7%(train)\n",
            "\tLoss: 0.0145(valid)\t|\tAcc: 4.2%(valid)\n",
            "train func starts\n",
            "loop starts\n",
            "Epoch: 6  | time in 0 minutes, 42 seconds\n",
            "\tLoss: 0.2418(train)\t|\tAcc: 8.3%(train)\n",
            "\tLoss: 0.0145(valid)\t|\tAcc: 4.2%(valid)\n",
            "train func starts\n",
            "loop starts\n",
            "Epoch: 7  | time in 0 minutes, 40 seconds\n",
            "\tLoss: 0.2416(train)\t|\tAcc: 8.6%(train)\n",
            "\tLoss: 0.0145(valid)\t|\tAcc: 4.2%(valid)\n",
            "train func starts\n",
            "loop starts\n",
            "Epoch: 8  | time in 0 minutes, 41 seconds\n",
            "\tLoss: 0.2417(train)\t|\tAcc: 8.4%(train)\n",
            "\tLoss: 0.0145(valid)\t|\tAcc: 4.2%(valid)\n",
            "train func starts\n",
            "loop starts\n",
            "Epoch: 9  | time in 0 minutes, 41 seconds\n",
            "\tLoss: 0.2414(train)\t|\tAcc: 8.8%(train)\n",
            "\tLoss: 0.0145(valid)\t|\tAcc: 4.2%(valid)\n",
            "train func starts\n",
            "loop starts\n",
            "Epoch: 10  | time in 0 minutes, 43 seconds\n",
            "\tLoss: 0.2417(train)\t|\tAcc: 8.3%(train)\n",
            "\tLoss: 0.0145(valid)\t|\tAcc: 4.2%(valid)\n",
            "Macro F1 score: 0.0062\n",
            "[Test]\n",
            "\tLoss: 0.0158(test)\t|\tAcc: 1.4%(test)\n"
          ]
        },
        {
          "output_type": "display_data",
          "data": {
            "text/plain": [
              "<Figure size 432x432 with 1 Axes>"
            ],
            "image/png": "[encoded data removed]"
          },
          "metadata": {
            "needs_background": "light"
          }
        }
      ],
      "source": [
        "model11 = BiLSTM3(VOCAB_SIZE, EMBED_DIM, num_class=NUM_CLASS_fine, use_glove=True, fine_tune_embed=False).to(device)\n",
        "\n",
        "# Print weights and biases in each layer\n",
        "for name, param in model11.named_parameters():\n",
        "  print('name : ', name)\n",
        "  # print('param : ', param)\n",
        "\n",
        "model11_evaluator = TrainValTestBiLSTMModel(model = model11, collate_fn = collate_batch_padding2_fine, n_epochs=10, batch_size=16, min_valid_loss=float('inf'))\n",
        "model11_evaluator.train_and_evaluate(train_dataset=fine_train_dataset)\n",
        "model11_evaluator.test(test_dataset=fine_test_dataset)\n",
        "model11_evaluator.loss_plot()"
      ]
    },
    {
      "cell_type": "markdown",
      "metadata": {
        "id": "7xcb4NWOQLCn"
      },
      "source": [
        "BiLSTM: Glove+FineTune"
      ]
    },
    {
      "cell_type": "code",
      "execution_count": 42,
      "metadata": {
        "id": "iht066wEQLGV",
        "colab": {
          "base_uri": "https://localhost:8080/",
          "height": 1000
        },
        "outputId": "ad5589f7-b4bf-46ab-bfc3-0b94a831284a"
      },
      "outputs": [
        {
          "output_type": "stream",
          "name": "stdout",
          "text": [
            "name :  embedding.weight\n",
            "name :  lstm.weight_ih_l0\n",
            "name :  lstm.weight_hh_l0\n",
            "name :  lstm.bias_ih_l0\n",
            "name :  lstm.bias_hh_l0\n",
            "name :  lstm.weight_ih_l0_reverse\n",
            "name :  lstm.weight_hh_l0_reverse\n",
            "name :  lstm.bias_ih_l0_reverse\n",
            "name :  lstm.bias_hh_l0_reverse\n",
            "name :  linear1.weight\n",
            "name :  linear1.bias\n",
            "name :  linear2.weight\n",
            "name :  linear2.bias\n",
            "name :  out.weight\n",
            "name :  out.bias\n",
            "train func starts\n",
            "loop starts\n",
            "Epoch: 1  | time in 0 minutes, 57 seconds\n",
            "\tLoss: 0.2360(train)\t|\tAcc: 17.5%(train)\n",
            "\tLoss: 0.0108(valid)\t|\tAcc: 16.8%(valid)\n",
            "train func starts\n",
            "loop starts\n",
            "Epoch: 2  | time in 0 minutes, 57 seconds\n",
            "\tLoss: 0.2358(train)\t|\tAcc: 17.7%(train)\n",
            "\tLoss: 0.0108(valid)\t|\tAcc: 16.8%(valid)\n",
            "train func starts\n",
            "loop starts\n",
            "Epoch: 3  | time in 1 minutes, 6 seconds\n",
            "\tLoss: 0.2358(train)\t|\tAcc: 17.7%(train)\n",
            "\tLoss: 0.0108(valid)\t|\tAcc: 16.8%(valid)\n",
            "train func starts\n",
            "loop starts\n",
            "Epoch: 4  | time in 1 minutes, 3 seconds\n",
            "\tLoss: 0.2358(train)\t|\tAcc: 17.7%(train)\n",
            "\tLoss: 0.0108(valid)\t|\tAcc: 16.8%(valid)\n",
            "train func starts\n",
            "loop starts\n",
            "Epoch: 5  | time in 1 minutes, 3 seconds\n",
            "\tLoss: 0.2358(train)\t|\tAcc: 17.7%(train)\n",
            "\tLoss: 0.0108(valid)\t|\tAcc: 16.8%(valid)\n",
            "train func starts\n",
            "loop starts\n",
            "Epoch: 6  | time in 1 minutes, 5 seconds\n",
            "\tLoss: 0.2358(train)\t|\tAcc: 17.7%(train)\n",
            "\tLoss: 0.0108(valid)\t|\tAcc: 16.8%(valid)\n",
            "train func starts\n",
            "loop starts\n",
            "Epoch: 7  | time in 1 minutes, 7 seconds\n",
            "\tLoss: 0.2358(train)\t|\tAcc: 17.7%(train)\n",
            "\tLoss: 0.0108(valid)\t|\tAcc: 16.8%(valid)\n",
            "train func starts\n",
            "loop starts\n",
            "Epoch: 8  | time in 1 minutes, 10 seconds\n",
            "\tLoss: 0.2358(train)\t|\tAcc: 17.7%(train)\n",
            "\tLoss: 0.0108(valid)\t|\tAcc: 16.8%(valid)\n",
            "train func starts\n",
            "loop starts\n",
            "Epoch: 9  | time in 1 minutes, 12 seconds\n",
            "\tLoss: 0.2358(train)\t|\tAcc: 17.7%(train)\n",
            "\tLoss: 0.0108(valid)\t|\tAcc: 16.8%(valid)\n",
            "train func starts\n",
            "loop starts\n",
            "Epoch: 10  | time in 1 minutes, 7 seconds\n",
            "\tLoss: 0.2358(train)\t|\tAcc: 17.7%(train)\n",
            "\tLoss: 0.0108(valid)\t|\tAcc: 16.8%(valid)\n",
            "Macro F1 score: 0.0067\n",
            "[Test]\n",
            "\tLoss: 0.0158(test)\t|\tAcc: 11.0%(test)\n"
          ]
        },
        {
          "output_type": "display_data",
          "data": {
            "text/plain": [
              "<Figure size 432x432 with 1 Axes>"
            ],
            "image/png": "[encoded data removed]"
          },
          "metadata": {
            "needs_background": "light"
          }
        }
      ],
      "source": [
        "model12 = BiLSTM3(VOCAB_SIZE, EMBED_DIM, num_class=NUM_CLASS_fine, use_glove=True, fine_tune_embed=True).to(device)\n",
        "\n",
        "# Print weights and biases in each layer\n",
        "for name, param in model12.named_parameters():\n",
        "  print('name : ', name)\n",
        "  # print('param : ', param)\n",
        "\n",
        "model12_evaluator = TrainValTestBiLSTMModel(model = model12, collate_fn = collate_batch_padding2_fine, n_epochs=10, batch_size=16, min_valid_loss=float('inf'))\n",
        "model12_evaluator.train_and_evaluate(train_dataset=fine_train_dataset)\n",
        "model12_evaluator.test(test_dataset=fine_test_dataset)\n",
        "model12_evaluator.loss_plot()"
      ]
    }
  ],
  "metadata": {
    "colab": {
      "provenance": [],
      "authorship_tag": "ABX9TyP8lpbpwE3jT0nvgOTQUyg2",
      "include_colab_link": true
    },
    "kernelspec": {
      "display_name": "Python 3",
      "name": "python3"
    },
    "language_info": {
      "name": "python"
    }
  },
  "nbformat": 4,
  "nbformat_minor": 0
}